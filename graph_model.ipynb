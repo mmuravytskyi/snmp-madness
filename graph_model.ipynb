{
 "cells": [
  {
   "cell_type": "code",
   "execution_count": 51,
   "metadata": {
    "collapsed": true
   },
   "outputs": [],
   "source": [
    "import jax\n",
    "import jraph\n",
    "import data\n",
    "import metadata\n",
    "import optax\n",
    "import utils\n",
    "\n",
    "import haiku as hk\n",
    "import typing as t\n",
    "import jax.numpy as jnp"
   ]
  },
  {
   "cell_type": "code",
   "execution_count": 2,
   "outputs": [],
   "source": [
    "BLOCK_SIZE = int(24*60/5)\n",
    "BATCH_SIZE = 8\n",
    "SPLIT = 0.85\n",
    "HIDDEN_SIZE = 256\n",
    "LEARNING_RATE = 1e-3\n",
    "SEED = 2137\n",
    "NUM_TRAINING_STEPS = 300\n",
    "EVAL_INTERVAL = 10\n",
    "EMBEDDING_SIZE = 1"
   ],
   "metadata": {
    "collapsed": false
   }
  },
  {
   "cell_type": "code",
   "execution_count": 3,
   "outputs": [],
   "source": [
    "def get_graph(_edges: jnp.array) -> jraph.GraphsTuple:\n",
    "    graph = jraph.GraphsTuple(\n",
    "        edges=_edges,\n",
    "        senders=jnp.array(sdl.senders, dtype=jnp.int32),\n",
    "        receivers=jnp.array(sdl.receivers, dtype=jnp.int32),\n",
    "        n_node=metadata.NUM_NODES,\n",
    "        n_edge=metadata.NUM_EDGES,\n",
    "        nodes=jnp.array([[1] * metadata.NUM_NODES]),\n",
    "        globals=None\n",
    "    )\n",
    "    return graph"
   ],
   "metadata": {
    "collapsed": false
   }
  },
  {
   "cell_type": "code",
   "execution_count": 4,
   "outputs": [
    {
     "name": "stderr",
     "output_type": "stream",
     "text": [
      "No GPU/TPU found, falling back to CPU. (Set TF_CPP_MIN_LOG_LEVEL=0 and rerun for more info.)\n"
     ]
    }
   ],
   "source": [
    "sdl = data.SimpleDataLoader(\"../data/samples_5m_subset_v1.pkl\", BLOCK_SIZE, BATCH_SIZE, EMBEDDING_SIZE, SPLIT)\n",
    "train_di = sdl.get_graph_data_iter(\"train\")"
   ],
   "metadata": {
    "collapsed": false
   }
  },
  {
   "cell_type": "code",
   "execution_count": 10,
   "outputs": [
    {
     "data": {
      "text/plain": "(6, 15, (15, 288))"
     },
     "execution_count": 10,
     "metadata": {},
     "output_type": "execute_result"
    }
   ],
   "source": [
    "expl_edge_data = next(train_di)  # {str: (B, E, T)}\n",
    "expl_graph = get_graph(expl_edge_data['input'][0])\n",
    "\n",
    "expl_graph.n_node, expl_graph.n_edge, expl_graph.edges.shape"
   ],
   "metadata": {
    "collapsed": false
   }
  },
  {
   "cell_type": "code",
   "execution_count": 71,
   "outputs": [],
   "source": [
    "class TrainingState(t.NamedTuple):\n",
    "    params: hk.Params\n",
    "    opt_state: optax.OptState\n",
    "\n",
    "class StatefulField(t.NamedTuple):\n",
    "    embedding: t.Any\n",
    "    state: t.Any\n",
    "\n",
    "@jax.jit\n",
    "def embed(arr: jnp.array) -> jnp.array:\n",
    "    arr = jnp.log(arr + 1)\n",
    "    return arr[:, :, None]\n",
    "\n",
    "def make_optimizer() -> optax.GradientTransformation:\n",
    "    \"\"\"Defines the optimizer.\"\"\"\n",
    "    return optax.adam(LEARNING_RATE)\n",
    "\n",
    "def net_fn(graph: jraph.GraphsTuple) -> jraph.GraphsTuple:\n",
    "\n",
    "    edge_fn_gru = hk.GRU(HIDDEN_SIZE)\n",
    "    batch_size = graph.edges.shape[0]\n",
    "    initial_state = edge_fn_gru.initial_state(batch_size)\n",
    "\n",
    "    graph = graph._replace(\n",
    "        edges=StatefulField(\n",
    "            embedding=embed(graph.edges),\n",
    "            state=initial_state),\n",
    "    )\n",
    "\n",
    "    # custom GraphMapFeatures that transfers RNN state\n",
    "    def update_edge_fn(edges: StatefulField) -> StatefulField:\n",
    "        # edges -> (E, T, F)\n",
    "        logits, updated_state = hk.dynamic_unroll(\n",
    "            edge_fn_gru, edges.embedding, edges.state, time_major=False)  # (E, T, HIDDEN)\n",
    "        logits = hk.BatchApply(hk.Linear(EMBEDDING_SIZE))(logits)  # (E, T, F)\n",
    "\n",
    "        updated_edges = StatefulField(embedding=logits, state=updated_state)\n",
    "        return updated_edges\n",
    "\n",
    "    def update_node_fn(nodes):\n",
    "        return nodes\n",
    "\n",
    "    net = jraph.GraphMapFeatures(\n",
    "        embed_edge_fn=update_edge_fn,\n",
    "        embed_node_fn=update_node_fn,\n",
    "    )\n",
    "\n",
    "    return net(graph)\n",
    "\n",
    "@jax.jit\n",
    "def update(state: TrainingState, edge_data: t.Dict) -> t.Tuple[TrainingState, jnp.array]:\n",
    "    _, optimizer = make_optimizer()\n",
    "    _graph = get_graph(edge_data['input'][0])\n",
    "    _target = edge_data['target'][0]\n",
    "    _loss, gradients = jax.value_and_grad(loss)(state.params, _graph, _target, net_apply)\n",
    "    updates, new_opt_state = optimizer(gradients, state.opt_state)\n",
    "    new_params = optax.apply_updates(state.params, updates)\n",
    "    return TrainingState(params=new_params, opt_state=new_opt_state), _loss\n",
    "\n",
    "\n",
    "def loss(params: hk.Params, graph: jraph.GraphsTuple,\n",
    "         target: jnp.array, net_apply: t.Any) -> jnp.array:\n",
    "    gr = net_apply(params, graph)\n",
    "    logits = gr.edges.embedding  # (E, T, F)\n",
    "    return jnp.mean(jnp.abs(embed(target) - logits))  # MAE"
   ],
   "metadata": {
    "collapsed": false
   }
  },
  {
   "cell_type": "code",
   "execution_count": 75,
   "outputs": [
    {
     "name": "stdout",
     "output_type": "stream",
     "text": [
      "Step: 0 | train loss: 12.407 | vali loss: 0.000\n",
      "Step: 10 | train loss: 9.420 | vali loss: 0.000\n",
      "Step: 20 | train loss: 7.131 | vali loss: 0.000\n",
      "Step: 30 | train loss: 5.368 | vali loss: 0.000\n",
      "Step: 40 | train loss: 4.127 | vali loss: 0.000\n",
      "Step: 50 | train loss: 3.272 | vali loss: 0.000\n",
      "Step: 60 | train loss: 2.350 | vali loss: 0.000\n",
      "Step: 70 | train loss: 1.456 | vali loss: 0.000\n",
      "Step: 80 | train loss: 0.796 | vali loss: 0.000\n",
      "Step: 90 | train loss: 0.413 | vali loss: 0.000\n",
      "Step: 100 | train loss: 0.314 | vali loss: 0.000\n",
      "Step: 110 | train loss: 0.273 | vali loss: 0.000\n",
      "Step: 120 | train loss: 0.251 | vali loss: 0.000\n",
      "Step: 130 | train loss: 0.241 | vali loss: 0.000\n",
      "Step: 140 | train loss: 0.238 | vali loss: 0.000\n",
      "Step: 150 | train loss: 0.231 | vali loss: 0.000\n",
      "Step: 160 | train loss: 0.227 | vali loss: 0.000\n",
      "Step: 170 | train loss: 0.225 | vali loss: 0.000\n",
      "Step: 180 | train loss: 0.221 | vali loss: 0.000\n",
      "Step: 190 | train loss: 0.220 | vali loss: 0.000\n",
      "Step: 200 | train loss: 0.216 | vali loss: 0.000\n",
      "Step: 210 | train loss: 0.215 | vali loss: 0.000\n",
      "Step: 220 | train loss: 0.213 | vali loss: 0.000\n",
      "Step: 230 | train loss: 0.210 | vali loss: 0.000\n",
      "Step: 240 | train loss: 0.209 | vali loss: 0.000\n",
      "Step: 250 | train loss: 0.207 | vali loss: 0.000\n",
      "Step: 260 | train loss: 0.207 | vali loss: 0.000\n",
      "Step: 270 | train loss: 0.205 | vali loss: 0.000\n",
      "Step: 280 | train loss: 0.203 | vali loss: 0.000\n",
      "Step: 290 | train loss: 0.203 | vali loss: 0.000\n"
     ]
    }
   ],
   "source": [
    "rng = jax.random.PRNGKey(SEED)\n",
    "\n",
    "net_init, net_apply = hk.without_apply_rng(hk.transform(net_fn))\n",
    "initial_params = net_init(rng, expl_graph)\n",
    "\n",
    "opt_init, _ = make_optimizer()\n",
    "initial_opt_state = opt_init(initial_params)\n",
    "\n",
    "state = TrainingState(params=initial_params, opt_state=initial_opt_state)\n",
    "\n",
    "for step in range(NUM_TRAINING_STEPS):\n",
    "    train_batch = next(train_di)\n",
    "    state, train_loss = update(state, train_batch)\n",
    "\n",
    "    if step % EVAL_INTERVAL == 0:\n",
    "        print(f\"Step: {step} | train loss: {float(train_loss):.3f} | vali loss: {0.0:.3f}\")\n",
    "\n",
    "final_state = state"
   ],
   "metadata": {
    "collapsed": false
   }
  },
  {
   "cell_type": "code",
   "execution_count": 81,
   "outputs": [],
   "source": [
    "class LoopValues(t.NamedTuple):\n",
    "    graph: jraph.GraphsTuple\n",
    "    state: t.Any"
   ],
   "metadata": {
    "collapsed": false
   }
  },
  {
   "cell_type": "code",
   "execution_count": 198,
   "outputs": [],
   "source": [
    "def generate(graph: jraph.GraphsTuple, seq_len: int) -> jnp.array:\n",
    "    sequence_length = graph.edges.shape[1]\n",
    "\n",
    "    gr = net_apply(final_state.params, graph)\n",
    "    context_outs = gr.edges.embedding[:, :, -1]  # (E, T)\n",
    "    res = gr.edges.embedding[:, :, -1]  # (E, T)\n",
    "\n",
    "    output_seq = jnp.zeros((metadata.NUM_EDGES, seq_len - sequence_length))\n",
    "    for t in range(seq_len - sequence_length):\n",
    "        _graph = get_graph(context_outs)\n",
    "        gr = net_apply(final_state.params, _graph)  # (E, T, F)\n",
    "        output_seq = output_seq.at[:, t].set(gr.edges.embedding[:, -1, -1])\n",
    "        context_outs = jnp.concatenate([context_outs[:, 1:], gr.edges.embedding[:, -1:, -1]], axis=1)\n",
    "\n",
    "    return res"
   ],
   "metadata": {
    "collapsed": false
   }
  },
  {
   "cell_type": "code",
   "execution_count": 199,
   "outputs": [
    {
     "data": {
      "text/plain": "(15, 288)"
     },
     "execution_count": 199,
     "metadata": {},
     "output_type": "execute_result"
    }
   ],
   "source": [
    "_, generate_fn = hk.without_apply_rng(hk.transform(generate))\n",
    "predict = jax.jit(generate_fn, static_argnums=2)\n",
    "\n",
    "val_batch = next(train_di)  # {str: (B, E, T)}\n",
    "context_graph = get_graph(val_batch[\"input\"][2])\n",
    "predicted = generate_fn(final_state.params, context_graph, BLOCK_SIZE + 10)\n",
    "predicted.shape"
   ],
   "metadata": {
    "collapsed": false
   }
  },
  {
   "cell_type": "code",
   "execution_count": 200,
   "outputs": [
    {
     "name": "stdout",
     "output_type": "stream",
     "text": [
      " MAE: 0.1635\n"
     ]
    }
   ],
   "source": [
    "print(f\" MAE: {jnp.mean(jnp.abs(embed(val_batch['target'])[2, 1, 0] - predicted[1, :BLOCK_SIZE])):.4f}\")"
   ],
   "metadata": {
    "collapsed": false
   }
  },
  {
   "cell_type": "code",
   "execution_count": 201,
   "outputs": [
    {
     "data": {
      "text/plain": "<Figure size 640x480 with 1 Axes>",
      "image/png": "[encoded data removed]"
     },
     "execution_count": 201,
     "metadata": {},
     "output_type": "execute_result"
    }
   ],
   "source": [
    "plot = utils.plot_samples(\n",
    "    embed(val_batch['target'])[2, 1, 0],\n",
    "    predicted[1, :BLOCK_SIZE],\n",
    "    truth_label='truth, target',\n",
    "    prediction_label='prediction, samples')\n",
    "plot.draw()"
   ],
   "metadata": {
    "collapsed": false
   }
  }
 ],
 "metadata": {
  "kernelspec": {
   "display_name": "Python 3",
   "language": "python",
   "name": "python3"
  },
  "language_info": {
   "codemirror_mode": {
    "name": "ipython",
    "version": 2
   },
   "file_extension": ".py",
   "mimetype": "text/x-python",
   "name": "python",
   "nbconvert_exporter": "python",
   "pygments_lexer": "ipython2",
   "version": "2.7.6"
  }
 },
 "nbformat": 4,
 "nbformat_minor": 0
}
