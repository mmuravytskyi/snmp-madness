{
 "cells": [
  {
   "cell_type": "code",
   "execution_count": 1,
   "metadata": {},
   "outputs": [],
   "source": [
    "import logging\n",
    "import time\n",
    "import jax\n",
    "import optax\n",
    "import data\n",
    "import dataclasses\n",
    "\n",
    "import matplotlib.pyplot as plt\n",
    "import functools as ft\n",
    "import haiku as hk\n",
    "import typing as t\n",
    "import jax.numpy as jnp\n",
    "import numpy as np"
   ]
  },
  {
   "cell_type": "markdown",
   "metadata": {},
   "source": [
    "### statics"
   ]
  },
  {
   "cell_type": "code",
   "execution_count": 2,
   "metadata": {},
   "outputs": [],
   "source": [
    "BLOCK_SIZE = int(24*5*60/5)\n",
    "BATCH_SIZE = 2\n",
    "SPLIT = 0.85\n",
    "LEARNING_RATE = 1e-4\n",
    "SEED = 2137\n",
    "NUM_TRAINING_STEPS = 15000\n",
    "EVAL_INTERVAL = 100\n",
    "EMBEDDING_SIZE = 4\n",
    "\n",
    "VOCAB_SIZE = 256\n",
    "PAD_TOKEN = 0\n",
    "GRAD_CLIP_VALUE = 1\n",
    "\n",
    "NUM_LAYERS = 3\n",
    "NUM_HEADS = 6  # Number of attention heads.\n",
    "MODEL_SIZE = 128\n",
    "KEY_SIZE = 32\n",
    "DROPOUT_RATE = 0.05"
   ]
  },
  {
   "cell_type": "markdown",
   "metadata": {},
   "source": [
    "### utils"
   ]
  },
  {
   "cell_type": "code",
   "execution_count": 3,
   "metadata": {},
   "outputs": [],
   "source": [
    "class TrainingState(t.NamedTuple):\n",
    "  \"\"\"Container for the training state.\"\"\"\n",
    "  params: hk.Params\n",
    "  opt_state: optax.OptState\n",
    "  rng: jax.Array\n",
    "  step: jax.Array\n",
    "\n",
    "class Batch(t.NamedTuple):\n",
    "    inputs: np.ndarray  # Integer tokens, shape [B, T]\n",
    "    targets: np.ndarray  # Integer tokens, shape [B, T]\n",
    "\n",
    "Metrics = t.MutableMapping[str, t.Any]"
   ]
  },
  {
   "cell_type": "code",
   "execution_count": 4,
   "metadata": {},
   "outputs": [],
   "source": [
    "@jax.jit\n",
    "def local_label_smoothing(arr: jnp.array, std: int = 2, mean: float = 0.7):\n",
    "    # assert arr.shape[1] % EMBEDDING_SIZE == 0\n",
    "    # [0, 0, 0, 1, 0, 0]\n",
    "    #   into\n",
    "    # [0, 0.05, 0.1, 0.7, 0.1, 0.05]\n",
    "    il = jnp.argmax(arr) + 2*std\n",
    "    arr = arr * mean\n",
    "    _lin = jnp.arange(std) + 1\n",
    "    coef  = (1 - mean) / 2 / _lin.sum()\n",
    "    c = jnp.apply_along_axis(lambda x: jnp.convolve(jnp.array([.05, .1, .7, .1, .05]), x, mode=\"same\"), -1, arr)\n",
    "    return c"
   ]
  },
  {
   "cell_type": "code",
   "execution_count": 5,
   "metadata": {},
   "outputs": [],
   "source": [
    "@jax.jit\n",
    "def to_bytes(arr):\n",
    "  \"\"\" Converts an array of uint32 into an array of bytes in little endian\"\"\"\n",
    "\n",
    "  @ft.partial(jax.vmap, in_axes=(None, 0), out_axes=-1)\n",
    "  def _to_bytes(arr, byte_index:int):\n",
    "    mask = 0xFF << (8 * byte_index)\n",
    "    b = (arr & mask) >> 8 * byte_index\n",
    "    return  b.astype(jnp.uint8)\n",
    "\n",
    "  return _to_bytes(arr, jnp.arange(4))\n",
    "\n",
    "@ft.partial(jax.jit, static_argnames=(\"axis\"))\n",
    "def from_bytes(array, axis):\n",
    "  \"\"\" Converts an array of bytes in little endian  into an array of uint32\"\"\"\n",
    "\n",
    "  @ft.partial(jax.vmap, in_axes=(axis, -1))\n",
    "  def _from_bytes(arr, byte_index):\n",
    "    return arr << 8 * byte_index\n",
    "\n",
    "  return jnp.sum(_from_bytes(array, jnp.arange(4)), axis=axis)"
   ]
  },
  {
   "cell_type": "markdown",
   "metadata": {},
   "source": [
    "### load data"
   ]
  },
  {
   "cell_type": "code",
   "execution_count": 6,
   "metadata": {},
   "outputs": [],
   "source": [
    "sdl = data.SimpleDataLoader(\"../data/samples_5m_subset_v1.csv\",\n",
    "                            BLOCK_SIZE,\n",
    "                            BATCH_SIZE,\n",
    "                            EMBEDDING_SIZE,\n",
    "                            SPLIT,\n",
    "                            normalize=False,\n",
    "                            log=False,\n",
    "                            shift=False,\n",
    "                            batch_first=True\n",
    "                            )\n",
    "train_di = sdl.get_data_iter(\"train\")\n",
    "test_di = sdl.get_data_iter(\"test\")"
   ]
  },
  {
   "cell_type": "code",
   "execution_count": 7,
   "metadata": {},
   "outputs": [
    {
     "data": {
      "text/plain": [
       "(2, 1440)"
      ]
     },
     "execution_count": 7,
     "metadata": {},
     "output_type": "execute_result"
    }
   ],
   "source": [
    "expl_batch = next(train_di)\n",
    "expl_batch[\"target\"].shape"
   ]
  },
  {
   "cell_type": "code",
   "execution_count": 8,
   "metadata": {},
   "outputs": [
    {
     "data": {
      "text/plain": [
       "Array([877202, 764640, 846270, 898147], dtype=int32)"
      ]
     },
     "execution_count": 8,
     "metadata": {},
     "output_type": "execute_result"
    }
   ],
   "source": [
    "expl_batch['input'][0, :4]"
   ]
  },
  {
   "cell_type": "code",
   "execution_count": 9,
   "metadata": {},
   "outputs": [
    {
     "data": {
      "text/plain": [
       "Array([146,  98,  13,   0, 224, 170,  11,   0, 190, 233,  12,   0,  99,\n",
       "       180,  13,   0], dtype=uint8)"
      ]
     },
     "execution_count": 9,
     "metadata": {},
     "output_type": "execute_result"
    }
   ],
   "source": [
    "to_bytes(expl_batch['input']).reshape(BATCH_SIZE, BLOCK_SIZE*4)[0, :16]"
   ]
  },
  {
   "cell_type": "code",
   "execution_count": 10,
   "metadata": {},
   "outputs": [
    {
     "data": {
      "text/plain": [
       "Array([[146,  98,  13,   0],\n",
       "       [224, 170,  11,   0],\n",
       "       [190, 233,  12,   0]], dtype=uint8)"
      ]
     },
     "execution_count": 10,
     "metadata": {},
     "output_type": "execute_result"
    }
   ],
   "source": [
    "to_bytes(expl_batch['input'])[0, :3, :]"
   ]
  },
  {
   "cell_type": "code",
   "execution_count": 11,
   "metadata": {},
   "outputs": [],
   "source": [
    "def preproc_data(batch: dict):\n",
    "    _inputs = to_bytes(batch['input'])\n",
    "    _targets = to_bytes(batch['target'])\n",
    "    # TODO: make it a bit cleaner\n",
    "    _inputs = _inputs.reshape((BATCH_SIZE, EMBEDDING_SIZE*BLOCK_SIZE))\n",
    "    _targets = _targets.reshape((BATCH_SIZE, EMBEDDING_SIZE*BLOCK_SIZE))\n",
    "    return Batch(inputs=_inputs, targets=_targets)"
   ]
  },
  {
   "cell_type": "code",
   "execution_count": 12,
   "metadata": {},
   "outputs": [],
   "source": [
    "@jax.jit\n",
    "def apply_byte_error_weights(arr: jnp.array):\n",
    "    assert arr.shape[1] % EMBEDDING_SIZE == 0\n",
    "    c = arr.shape[1] // EMBEDDING_SIZE\n",
    "    weights = jnp.array([1., 2., 3., 4.] * c)\n",
    "    return weights*arr"
   ]
  },
  {
   "cell_type": "code",
   "execution_count": 13,
   "metadata": {},
   "outputs": [
    {
     "data": {
      "text/plain": [
       "(2, 5760)"
      ]
     },
     "execution_count": 13,
     "metadata": {},
     "output_type": "execute_result"
    }
   ],
   "source": [
    "_inputs = preproc_data(expl_batch)\n",
    "_inputs.inputs.shape"
   ]
  },
  {
   "cell_type": "markdown",
   "metadata": {},
   "source": [
    "### model"
   ]
  },
  {
   "cell_type": "markdown",
   "metadata": {},
   "source": [
    "from: https://github.com/deepmind/dm-haiku/tree/main/examples/transformer"
   ]
  },
  {
   "cell_type": "code",
   "execution_count": 14,
   "metadata": {},
   "outputs": [],
   "source": [
    "\"\"\"Didactic exasmple of an autoregressive Transformer-based language model.\n",
    "Glossary of shapes:\n",
    "- B: Batch size.\n",
    "- T: Sequence length.\n",
    "- D: Model embedding size.\n",
    "- H: Number of attention heads.\n",
    "- V: Vocabulary size.\n",
    "\"\"\"\n",
    "\n",
    "def layer_norm(x: jax.Array) -> jax.Array:\n",
    "  \"\"\"Applies a unique LayerNorm to x with default settings.\"\"\"\n",
    "  ln = hk.LayerNorm(axis=-1, create_scale=True, create_offset=True)\n",
    "  return ln(x)\n",
    "\n",
    "\n",
    "@dataclasses.dataclass\n",
    "class Transformer(hk.Module):\n",
    "  \"\"\"A transformer stack.\"\"\"\n",
    "\n",
    "  num_heads: int\n",
    "  num_layers: int\n",
    "  key_size: int\n",
    "  dropout_rate: float\n",
    "  widening_factor: int = 4\n",
    "  name: t.Optional[str] = None\n",
    "\n",
    "  def __call__(\n",
    "      self,\n",
    "      embeddings: jax.Array,  # [B, T, D]\n",
    "      mask: jax.Array,  # [B, T]\n",
    "      *,\n",
    "      is_training: bool = True,\n",
    "  ) -> jax.Array:  # [B, T, D]\n",
    "    \"\"\"Transforms input embedding sequences to output embedding sequences.\"\"\"\n",
    "\n",
    "    initializer = hk.initializers.VarianceScaling(2 / self.num_layers)\n",
    "    dropout_rate = self.dropout_rate if is_training else 0.\n",
    "    _, seq_len, model_size = embeddings.shape\n",
    "\n",
    "    # Compute causal mask for autoregressive sequence modelling.\n",
    "    mask = mask[:, None, None, :]  # [B, H=1, T'=1, T]\n",
    "    causal_mask = np.tril(np.ones((1, 1, seq_len, seq_len)))  # [B=1, H=1, T, T]\n",
    "    mask = mask * causal_mask  # [B, H=1, T, T]\n",
    "\n",
    "    h = embeddings\n",
    "    for _ in range(self.num_layers):\n",
    "      # First the attention block.\n",
    "      attn_block = hk.MultiHeadAttention(\n",
    "          num_heads=self.num_heads,\n",
    "          key_size=self.key_size,\n",
    "          model_size=model_size,\n",
    "          w_init=initializer,\n",
    "      )\n",
    "      h_norm = layer_norm(h)\n",
    "#       h_attn = attn_block(h_norm, h_norm, h_norm, mask=mask)\n",
    "      h_attn = attn_block(h_norm, h_norm, h_norm)\n",
    "      h_attn = hk.dropout(hk.next_rng_key(), dropout_rate, h_attn)\n",
    "      h = h + h_attn\n",
    "\n",
    "      # Then the dense block.\n",
    "      dense_block = hk.Sequential([\n",
    "          hk.Linear(self.widening_factor * model_size, w_init=initializer),\n",
    "          jax.nn.gelu,\n",
    "          hk.Linear(model_size, w_init=initializer),\n",
    "      ])\n",
    "      h_norm = layer_norm(h)\n",
    "      h_dense = dense_block(h_norm)\n",
    "      h_dense = hk.dropout(hk.next_rng_key(), dropout_rate, h_dense)\n",
    "      h = h + h_dense\n",
    "\n",
    "    return layer_norm(h)\n",
    "\n",
    "\n",
    "@dataclasses.dataclass\n",
    "class TransformerModel(hk.Module):\n",
    "  \"\"\"An autoregressive transformer-based model.\"\"\"\n",
    "\n",
    "  transformer: Transformer\n",
    "  model_size: int\n",
    "  vocab_size: int\n",
    "  pad_token: int\n",
    "  name: t.Optional[str] = None\n",
    "\n",
    "  def __call__(\n",
    "      self,\n",
    "      tokens: jax.Array,\n",
    "      *,\n",
    "      is_training: bool = True,\n",
    "  ) -> jax.Array:\n",
    "    \"\"\"Forward pass, producing a sequence of logits.\"\"\"\n",
    "    input_mask = jnp.greater(tokens, self.pad_token)\n",
    "    unused_batch_size, seq_len = tokens.shape\n",
    "\n",
    "    # Embed the input tokens and positions.\n",
    "    embed_init = hk.initializers.TruncatedNormal(stddev=0.02)\n",
    "    token_embedding_map = hk.Embed(\n",
    "        self.vocab_size, embed_dim=self.model_size, w_init=embed_init)\n",
    "    token_embeddings = token_embedding_map(tokens)\n",
    "    positional_embeddings = hk.get_parameter(\n",
    "        'positional_embeddings', [seq_len, self.model_size], init=embed_init)\n",
    "    input_embeddings = token_embeddings + positional_embeddings  # [B, T, D]\n",
    "\n",
    "    # Run the transformer over the inputs.\n",
    "    embeddings = self.transformer(\n",
    "        input_embeddings,\n",
    "        input_mask,\n",
    "        is_training=is_training,\n",
    "    )  # [B, T, D]\n",
    "\n",
    "    # Decode the embeddings (here, we use untied weights).\n",
    "    return hk.Linear(self.vocab_size)(embeddings)  # [B, T, V]"
   ]
  },
  {
   "cell_type": "markdown",
   "metadata": {},
   "source": [
    "### training"
   ]
  },
  {
   "cell_type": "code",
   "execution_count": 15,
   "metadata": {},
   "outputs": [],
   "source": [
    "def forward(tokens: t.Union[np.ndarray, jax.Array]) -> jax.Array:\n",
    "    net = TransformerModel(\n",
    "        model_size=MODEL_SIZE,\n",
    "        vocab_size=VOCAB_SIZE,\n",
    "        pad_token=PAD_TOKEN,\n",
    "        transformer=Transformer(\n",
    "            num_heads=NUM_HEADS,\n",
    "            num_layers=NUM_LAYERS,\n",
    "            key_size=KEY_SIZE,\n",
    "            dropout_rate=DROPOUT_RATE,\n",
    "        ),\n",
    "    )\n",
    "    return net(tokens)\n",
    "\n",
    "# Create the optimiser.\n",
    "def make_optimizer() -> optax.GradientTransformation:\n",
    "    optimiser = optax.chain(\n",
    "      optax.clip_by_global_norm(GRAD_CLIP_VALUE),\n",
    "      optax.adam(LEARNING_RATE, b1=0.9, b2=0.99),\n",
    "    )\n",
    "    return optimiser\n",
    "\n",
    "# Create the loss.\n",
    "@hk.transform\n",
    "def loss_fn(batch: Batch) -> jax.Array:\n",
    "    \"\"\"Computes the (scalar) loss on `data` w.r.t. params.\"\"\"\n",
    "    inp = batch.inputs[:, 3:]\n",
    "    logits = forward(inp)\n",
    "    \n",
    "    targets = jax.nn.one_hot(batch.targets[:,  :-3], VOCAB_SIZE)  # (B, T*D, 256)\n",
    "    # targets = local_label_smoothing(targets)\n",
    "    assert logits.shape == targets.shape\n",
    "    log_likelihood = jnp.sum(targets * jax.nn.log_softmax(logits, axis=-1), axis=-1)\n",
    "#    log_likelihood = apply_byte_error_weights(log_likelihood)\n",
    "    return -log_likelihood.mean()  # NLL per token.\n",
    "\n",
    "@jax.jit\n",
    "def update(state: TrainingState, batch) -> t.Tuple[TrainingState, Metrics]:\n",
    "    \"\"\"Does an SGD step and returns metrics.\"\"\"\n",
    "    rng, new_rng = jax.random.split(state.rng)\n",
    "    loss_and_grad_fn = jax.value_and_grad(loss_fn.apply)\n",
    "    loss, gradients = loss_and_grad_fn(state.params, rng, batch)\n",
    "\n",
    "    optimiser = make_optimizer()\n",
    "    updates, new_opt_state = optimiser.update(gradients, state.opt_state)\n",
    "    new_params = optax.apply_updates(state.params, updates)\n",
    "\n",
    "    new_state = TrainingState(\n",
    "        params=new_params,\n",
    "        opt_state=new_opt_state,\n",
    "        rng=new_rng,\n",
    "        step=state.step + 1,\n",
    "    )\n",
    "\n",
    "    metrics = {\n",
    "        'step': state.step,\n",
    "        'loss': loss,\n",
    "    }\n",
    "    return new_state, metrics"
   ]
  },
  {
   "cell_type": "code",
   "execution_count": 16,
   "metadata": {},
   "outputs": [],
   "source": [
    "rng = jax.random.PRNGKey(SEED)\n",
    "rng, init_rng = jax.random.split(rng)\n",
    "init_batch = preproc_data(expl_batch)\n",
    "initial_params = loss_fn.init(init_rng, init_batch)\n",
    "\n",
    "initial_opt_state = make_optimizer().init(initial_params)\n",
    "initial_state =  TrainingState(\n",
    "    params=initial_params,\n",
    "    opt_state=initial_opt_state,\n",
    "    rng=rng,\n",
    "    step=jnp.array(0),\n",
    ")"
   ]
  },
  {
   "cell_type": "code",
   "execution_count": 17,
   "metadata": {},
   "outputs": [
    {
     "name": "stdout",
     "output_type": "stream",
     "text": [
      "{'loss': 5.759206771850586, 'step': 0.0, 'steps_per_sec': 7.673625467242626, 'valid_loss': 5.146252155303955}\n",
      "{'loss': 4.566343307495117, 'step': 100.0, 'steps_per_sec': 7.936330793475272, 'valid_loss': 4.398922920227051}\n",
      "{'loss': 4.49170446395874, 'step': 200.0, 'steps_per_sec': 8.01583404259914, 'valid_loss': 3.288595676422119}\n",
      "{'loss': 4.178997993469238, 'step': 300.0, 'steps_per_sec': 8.127671543400588, 'valid_loss': 3.3260915279388428}\n",
      "{'loss': 3.1556215286254883, 'step': 400.0, 'steps_per_sec': 8.281527844964607, 'valid_loss': 3.2085752487182617}\n",
      "{'loss': 3.7026379108428955, 'step': 500.0, 'steps_per_sec': 8.210676402249193, 'valid_loss': 3.6137075424194336}\n",
      "{'loss': 3.8262696266174316, 'step': 600.0, 'steps_per_sec': 8.03250596538869, 'valid_loss': 4.120869159698486}\n",
      "{'loss': 1.9641859531402588, 'step': 700.0, 'steps_per_sec': 7.990386931493933, 'valid_loss': 3.7649528980255127}\n",
      "{'loss': 2.8108365535736084, 'step': 800.0, 'steps_per_sec': 8.007288739162211, 'valid_loss': 3.400843620300293}\n",
      "{'loss': 3.6299920082092285, 'step': 900.0, 'steps_per_sec': 8.130417171437097, 'valid_loss': 4.265477657318115}\n",
      "{'loss': 3.1441967487335205, 'step': 1000.0, 'steps_per_sec': 8.326612374100879, 'valid_loss': 4.459436893463135}\n",
      "{'loss': 2.8979735374450684, 'step': 1100.0, 'steps_per_sec': 8.272125879298354, 'valid_loss': 3.7417116165161133}\n",
      "{'loss': 2.471073627471924, 'step': 1200.0, 'steps_per_sec': 8.171066907557352, 'valid_loss': 3.746562957763672}\n",
      "{'loss': 4.306421756744385, 'step': 1300.0, 'steps_per_sec': 8.05953648072892, 'valid_loss': 3.2749948501586914}\n",
      "{'loss': 2.717759132385254, 'step': 1400.0, 'steps_per_sec': 8.045407181365457, 'valid_loss': 3.862637519836426}\n",
      "{'loss': 2.1587369441986084, 'step': 1500.0, 'steps_per_sec': 8.031855007834704, 'valid_loss': 2.8508832454681396}\n",
      "{'loss': 4.168216705322266, 'step': 1600.0, 'steps_per_sec': 8.19350923800046, 'valid_loss': 2.8072261810302734}\n",
      "{'loss': 2.628340005874634, 'step': 1700.0, 'steps_per_sec': 8.291228352127103, 'valid_loss': 3.313019037246704}\n",
      "{'loss': 2.3047807216644287, 'step': 1800.0, 'steps_per_sec': 8.203443964554069, 'valid_loss': 3.4844863414764404}\n",
      "{'loss': 2.056943655014038, 'step': 1900.0, 'steps_per_sec': 7.980668925282169, 'valid_loss': 1.0413143634796143}\n",
      "{'loss': 3.2431163787841797, 'step': 2000.0, 'steps_per_sec': 8.000690519802134, 'valid_loss': 2.877338171005249}\n",
      "{'loss': 4.068580150604248, 'step': 2100.0, 'steps_per_sec': 8.004636932912627, 'valid_loss': 3.735064744949341}\n",
      "{'loss': 4.206955909729004, 'step': 2200.0, 'steps_per_sec': 8.094956335372778, 'valid_loss': 4.271401882171631}\n",
      "{'loss': 2.550206184387207, 'step': 2300.0, 'steps_per_sec': 8.325219115636019, 'valid_loss': 3.101104259490967}\n",
      "{'loss': 3.6393325328826904, 'step': 2400.0, 'steps_per_sec': 8.276387795766183, 'valid_loss': 4.27606201171875}\n",
      "{'loss': 3.6934821605682373, 'step': 2500.0, 'steps_per_sec': 8.2066342561371, 'valid_loss': 3.116870641708374}\n",
      "{'loss': 2.0284006595611572, 'step': 2600.0, 'steps_per_sec': 8.019400724978524, 'valid_loss': 2.5741453170776367}\n",
      "{'loss': 3.2783613204956055, 'step': 2700.0, 'steps_per_sec': 7.977016598257074, 'valid_loss': 2.754744052886963}\n",
      "{'loss': 3.428903102874756, 'step': 2800.0, 'steps_per_sec': 8.042043686836832, 'valid_loss': 4.173402309417725}\n",
      "{'loss': 2.3382411003112793, 'step': 2900.0, 'steps_per_sec': 8.26661589590101, 'valid_loss': 2.1903319358825684}\n",
      "{'loss': 3.8337032794952393, 'step': 3000.0, 'steps_per_sec': 8.277280562975317, 'valid_loss': 3.552785634994507}\n",
      "{'loss': 3.25923752784729, 'step': 3100.0, 'steps_per_sec': 8.195526797694015, 'valid_loss': 2.938406467437744}\n",
      "{'loss': 2.619901180267334, 'step': 3200.0, 'steps_per_sec': 7.9632142116629545, 'valid_loss': 3.378499984741211}\n",
      "{'loss': 2.2983052730560303, 'step': 3300.0, 'steps_per_sec': 8.003899452280228, 'valid_loss': 3.4330945014953613}\n",
      "{'loss': 2.603411912918091, 'step': 3400.0, 'steps_per_sec': 7.98204797388381, 'valid_loss': 3.2310702800750732}\n",
      "{'loss': 2.5077452659606934, 'step': 3500.0, 'steps_per_sec': 8.286219330838493, 'valid_loss': 2.170111656188965}\n",
      "{'loss': 3.0400125980377197, 'step': 3600.0, 'steps_per_sec': 8.325436750550379, 'valid_loss': 3.2050836086273193}\n",
      "{'loss': 3.3340349197387695, 'step': 3700.0, 'steps_per_sec': 8.223570641047532, 'valid_loss': 3.2347373962402344}\n",
      "{'loss': 2.920610189437866, 'step': 3800.0, 'steps_per_sec': 8.175748623736649, 'valid_loss': 1.4509235620498657}\n",
      "{'loss': 3.299625873565674, 'step': 3900.0, 'steps_per_sec': 8.029957189109878, 'valid_loss': 4.304331302642822}\n",
      "{'loss': 3.22751522064209, 'step': 4000.0, 'steps_per_sec': 8.059232642191818, 'valid_loss': 2.099308490753174}\n",
      "{'loss': 3.9336657524108887, 'step': 4100.0, 'steps_per_sec': 8.046484822511612, 'valid_loss': 2.5250065326690674}\n",
      "{'loss': 3.2137351036071777, 'step': 4200.0, 'steps_per_sec': 8.288368635489759, 'valid_loss': 4.193914890289307}\n",
      "{'loss': 3.7729835510253906, 'step': 4300.0, 'steps_per_sec': 8.256251536247326, 'valid_loss': 4.376927852630615}\n",
      "{'loss': 2.8953843116760254, 'step': 4400.0, 'steps_per_sec': 8.212058112331128, 'valid_loss': 4.037929534912109}\n",
      "{'loss': 3.766800880432129, 'step': 4500.0, 'steps_per_sec': 8.062523742257683, 'valid_loss': 2.8635659217834473}\n",
      "{'loss': 2.862245798110962, 'step': 4600.0, 'steps_per_sec': 8.027389289100073, 'valid_loss': 3.6884512901306152}\n",
      "{'loss': 4.111240863800049, 'step': 4700.0, 'steps_per_sec': 8.03422523434667, 'valid_loss': 4.110337257385254}\n",
      "{'loss': 3.2325797080993652, 'step': 4800.0, 'steps_per_sec': 8.286946393467783, 'valid_loss': 2.478691339492798}\n",
      "{'loss': 3.649791955947876, 'step': 4900.0, 'steps_per_sec': 8.310420406852577, 'valid_loss': 2.5741753578186035}\n",
      "{'loss': 4.008030414581299, 'step': 5000.0, 'steps_per_sec': 8.200080442550156, 'valid_loss': 3.5226128101348877}\n",
      "{'loss': 2.727832078933716, 'step': 5100.0, 'steps_per_sec': 8.168861540139478, 'valid_loss': 4.266569137573242}\n",
      "{'loss': 2.604179620742798, 'step': 5200.0, 'steps_per_sec': 8.013932455623582, 'valid_loss': 3.4107046127319336}\n",
      "{'loss': 4.211334705352783, 'step': 5300.0, 'steps_per_sec': 7.999991149912134, 'valid_loss': 3.4495251178741455}\n",
      "{'loss': 2.4441168308258057, 'step': 5400.0, 'steps_per_sec': 8.053491275287167, 'valid_loss': 2.8004186153411865}\n",
      "{'loss': 2.5049517154693604, 'step': 5500.0, 'steps_per_sec': 8.291822202846605, 'valid_loss': 3.6886589527130127}\n",
      "{'loss': 2.3376576900482178, 'step': 5600.0, 'steps_per_sec': 8.20881877944534, 'valid_loss': 2.0228970050811768}\n",
      "{'loss': 1.7689913511276245, 'step': 5700.0, 'steps_per_sec': 8.184372548427328, 'valid_loss': 3.135193109512329}\n",
      "{'loss': 1.225872278213501, 'step': 5800.0, 'steps_per_sec': 8.051414286592642, 'valid_loss': 3.826075315475464}\n",
      "{'loss': 3.058527946472168, 'step': 5900.0, 'steps_per_sec': 8.00299184112713, 'valid_loss': 3.322108507156372}\n",
      "{'loss': 3.080829381942749, 'step': 6000.0, 'steps_per_sec': 8.050715910904344, 'valid_loss': 3.0256922245025635}\n",
      "{'loss': 3.0896382331848145, 'step': 6100.0, 'steps_per_sec': 8.277627039883093, 'valid_loss': 3.196363687515259}\n",
      "{'loss': 3.7642123699188232, 'step': 6200.0, 'steps_per_sec': 8.306925174070845, 'valid_loss': 3.7642085552215576}\n",
      "{'loss': 2.1931700706481934, 'step': 6300.0, 'steps_per_sec': 8.220873892781075, 'valid_loss': 3.7801403999328613}\n",
      "{'loss': 2.9625728130340576, 'step': 6400.0, 'steps_per_sec': 8.17144816945942, 'valid_loss': 3.68266224861145}\n",
      "{'loss': 3.6370785236358643, 'step': 6500.0, 'steps_per_sec': 8.04933883235665, 'valid_loss': 2.529266119003296}\n",
      "{'loss': 3.229290246963501, 'step': 6600.0, 'steps_per_sec': 8.017043067018081, 'valid_loss': 2.2089803218841553}\n",
      "{'loss': 2.359145164489746, 'step': 6700.0, 'steps_per_sec': 8.10892078067742, 'valid_loss': 2.3220338821411133}\n",
      "{'loss': 2.443479299545288, 'step': 6800.0, 'steps_per_sec': 8.28925956624662, 'valid_loss': 1.9469090700149536}\n",
      "{'loss': 2.7322611808776855, 'step': 6900.0, 'steps_per_sec': 8.19485075169411, 'valid_loss': 2.077850103378296}\n",
      "{'loss': 2.228605270385742, 'step': 7000.0, 'steps_per_sec': 8.158264778435624, 'valid_loss': 1.8665380477905273}\n",
      "{'loss': 1.8017621040344238, 'step': 7100.0, 'steps_per_sec': 8.038704881031862, 'valid_loss': 1.3411906957626343}\n",
      "{'loss': 1.8315664529800415, 'step': 7200.0, 'steps_per_sec': 8.041662069983925, 'valid_loss': 2.0476579666137695}\n",
      "{'loss': 1.2528364658355713, 'step': 7300.0, 'steps_per_sec': 8.086313150607984, 'valid_loss': 1.31989324092865}\n",
      "{'loss': 1.1770325899124146, 'step': 7400.0, 'steps_per_sec': 8.315645693123962, 'valid_loss': 1.6119123697280884}\n",
      "{'loss': 1.5082736015319824, 'step': 7500.0, 'steps_per_sec': 8.301076140485986, 'valid_loss': 1.4318263530731201}\n",
      "{'loss': 1.434846043586731, 'step': 7600.0, 'steps_per_sec': 8.201046940082476, 'valid_loss': 1.0642940998077393}\n",
      "{'loss': 0.9400690793991089, 'step': 7700.0, 'steps_per_sec': 8.019690066989577, 'valid_loss': 1.400743842124939}\n",
      "{'loss': 1.0492033958435059, 'step': 7800.0, 'steps_per_sec': 8.041387636616514, 'valid_loss': 1.2072763442993164}\n",
      "{'loss': 1.16521418094635, 'step': 7900.0, 'steps_per_sec': 8.019057742972839, 'valid_loss': 0.6799800395965576}\n",
      "{'loss': 0.9831482768058777, 'step': 8000.0, 'steps_per_sec': 8.166594553763003, 'valid_loss': 0.8301566243171692}\n",
      "{'loss': 0.8288055062294006, 'step': 8100.0, 'steps_per_sec': 8.294344106326655, 'valid_loss': 0.760983943939209}\n",
      "{'loss': 0.8295219540596008, 'step': 8200.0, 'steps_per_sec': 8.219314129332998, 'valid_loss': 0.8434987664222717}\n",
      "{'loss': 0.7263687252998352, 'step': 8300.0, 'steps_per_sec': 8.102784074388444, 'valid_loss': 0.7003055214881897}\n",
      "{'loss': 0.8147823810577393, 'step': 8400.0, 'steps_per_sec': 8.010472676069421, 'valid_loss': 0.7397906184196472}\n",
      "{'loss': 0.3981567323207855, 'step': 8500.0, 'steps_per_sec': 8.03987843373434, 'valid_loss': 0.6096658706665039}\n",
      "{'loss': 0.5784246921539307, 'step': 8600.0, 'steps_per_sec': 8.118263807688747, 'valid_loss': 0.3385953903198242}\n",
      "{'loss': 0.3866216540336609, 'step': 8700.0, 'steps_per_sec': 8.307900073941687, 'valid_loss': 0.35029467940330505}\n",
      "{'loss': 0.33906105160713196, 'step': 8800.0, 'steps_per_sec': 8.219207181083288, 'valid_loss': 0.3380769193172455}\n",
      "{'loss': 0.32988864183425903, 'step': 8900.0, 'steps_per_sec': 8.157972332590857, 'valid_loss': 0.19325172901153564}\n",
      "{'loss': 0.3786230683326721, 'step': 9000.0, 'steps_per_sec': 7.974580386186221, 'valid_loss': 0.3016771078109741}\n",
      "{'loss': 0.17210178077220917, 'step': 9100.0, 'steps_per_sec': 7.947202718238973, 'valid_loss': 0.2761416733264923}\n",
      "{'loss': 0.18619978427886963, 'step': 9200.0, 'steps_per_sec': 8.085721715953415, 'valid_loss': 0.18753312528133392}\n",
      "{'loss': 0.2968284487724304, 'step': 9300.0, 'steps_per_sec': 8.333042439707784, 'valid_loss': 0.256610244512558}\n",
      "{'loss': 0.28955209255218506, 'step': 9400.0, 'steps_per_sec': 8.306562257142508, 'valid_loss': 0.19397297501564026}\n",
      "{'loss': 0.17310400307178497, 'step': 9500.0, 'steps_per_sec': 8.2296716434193, 'valid_loss': 0.1834147572517395}\n",
      "{'loss': 0.15348218381404877, 'step': 9600.0, 'steps_per_sec': 8.151768792012142, 'valid_loss': 0.18563105165958405}\n",
      "{'loss': 0.13875077664852142, 'step': 9700.0, 'steps_per_sec': 8.009716223566105, 'valid_loss': 0.17358408868312836}\n",
      "{'loss': 0.1994476020336151, 'step': 9800.0, 'steps_per_sec': 7.986798554178141, 'valid_loss': 0.15680581331253052}\n",
      "{'loss': 0.11016201227903366, 'step': 9900.0, 'steps_per_sec': 8.092730958271586, 'valid_loss': 0.06579522788524628}\n",
      "{'loss': 0.18241779506206512, 'step': 10000.0, 'steps_per_sec': 8.30292299707936, 'valid_loss': 0.07277815788984299}\n",
      "{'loss': 0.09904484450817108, 'step': 10100.0, 'steps_per_sec': 8.228930217333565, 'valid_loss': 0.0507943332195282}\n",
      "{'loss': 0.08359017968177795, 'step': 10200.0, 'steps_per_sec': 8.143046928274702, 'valid_loss': 0.14460664987564087}\n",
      "{'loss': 0.03471653163433075, 'step': 10300.0, 'steps_per_sec': 7.982689667301841, 'valid_loss': 0.08807115256786346}\n",
      "{'loss': 0.04149697348475456, 'step': 10400.0, 'steps_per_sec': 8.009908497343133, 'valid_loss': 0.0838441252708435}\n",
      "{'loss': 0.06648264080286026, 'step': 10500.0, 'steps_per_sec': 8.081778744181069, 'valid_loss': 0.030565356835722923}\n",
      "{'loss': 0.06591587513685226, 'step': 10600.0, 'steps_per_sec': 8.284941018517594, 'valid_loss': 0.07203669846057892}\n",
      "{'loss': 0.11115667223930359, 'step': 10700.0, 'steps_per_sec': 8.213493847131012, 'valid_loss': 0.057022709399461746}\n",
      "{'loss': 0.0344577431678772, 'step': 10800.0, 'steps_per_sec': 8.146813349697517, 'valid_loss': 0.01438208483159542}\n",
      "{'loss': 0.07251067459583282, 'step': 10900.0, 'steps_per_sec': 8.012477928121095, 'valid_loss': 0.03925326466560364}\n",
      "{'loss': 0.025495998561382294, 'step': 11000.0, 'steps_per_sec': 7.995780577445294, 'valid_loss': 0.08515468239784241}\n",
      "{'loss': 0.08944110572338104, 'step': 11100.0, 'steps_per_sec': 8.019574143677103, 'valid_loss': 0.05290660262107849}\n",
      "{'loss': 0.059184156358242035, 'step': 11200.0, 'steps_per_sec': 8.297839428107034, 'valid_loss': 0.02693752758204937}\n",
      "{'loss': 0.014850225299596786, 'step': 11300.0, 'steps_per_sec': 8.324031991100084, 'valid_loss': 0.02737804688513279}\n",
      "{'loss': 0.03021809086203575, 'step': 11400.0, 'steps_per_sec': 8.258870883881858, 'valid_loss': 0.01799572817981243}\n",
      "{'loss': 0.010119980201125145, 'step': 11500.0, 'steps_per_sec': 8.201869957298419, 'valid_loss': 0.014430612325668335}\n",
      "{'loss': 0.02870512567460537, 'step': 11600.0, 'steps_per_sec': 7.9873625241069846, 'valid_loss': 0.03470687195658684}\n",
      "{'loss': 0.027384135872125626, 'step': 11700.0, 'steps_per_sec': 8.027377612895236, 'valid_loss': 0.05409190058708191}\n",
      "{'loss': 0.06677591800689697, 'step': 11800.0, 'steps_per_sec': 8.071461860565346, 'valid_loss': 0.037323031574487686}\n",
      "{'loss': 0.006749982945621014, 'step': 11900.0, 'steps_per_sec': 8.280484578952182, 'valid_loss': 0.028913913294672966}\n",
      "{'loss': 0.020583905279636383, 'step': 12000.0, 'steps_per_sec': 8.205556958372377, 'valid_loss': 0.053132858127355576}\n"
     ]
    },
    {
     "ename": "KeyboardInterrupt",
     "evalue": "",
     "output_type": "error",
     "traceback": [
      "\u001b[0;31m---------------------------------------------------------------------------\u001b[0m",
      "\u001b[0;31mKeyboardInterrupt\u001b[0m                         Traceback (most recent call last)",
      "\u001b[0;32m/net/ascratch/people/plgmuravytskyi/slurm_jobdir/2053545/tmp/ipykernel_1549980/2642790089.py\u001b[0m in \u001b[0;36m<module>\u001b[0;34m\u001b[0m\n\u001b[1;32m     11\u001b[0m       \u001b[0mprev_time\u001b[0m \u001b[0;34m=\u001b[0m \u001b[0mtime\u001b[0m\u001b[0;34m.\u001b[0m\u001b[0mtime\u001b[0m\u001b[0;34m(\u001b[0m\u001b[0;34m)\u001b[0m\u001b[0;34m\u001b[0m\u001b[0;34m\u001b[0m\u001b[0m\n\u001b[1;32m     12\u001b[0m       \u001b[0mrng\u001b[0m\u001b[0;34m,\u001b[0m \u001b[0mnew_rng\u001b[0m \u001b[0;34m=\u001b[0m \u001b[0mjax\u001b[0m\u001b[0;34m.\u001b[0m\u001b[0mrandom\u001b[0m\u001b[0;34m.\u001b[0m\u001b[0msplit\u001b[0m\u001b[0;34m(\u001b[0m\u001b[0mrng\u001b[0m\u001b[0;34m)\u001b[0m\u001b[0;34m\u001b[0m\u001b[0;34m\u001b[0m\u001b[0m\n\u001b[0;32m---> 13\u001b[0;31m       \u001b[0mvalid_loss\u001b[0m \u001b[0;34m=\u001b[0m \u001b[0mloss_fn\u001b[0m\u001b[0;34m.\u001b[0m\u001b[0mapply\u001b[0m\u001b[0;34m(\u001b[0m\u001b[0mstate\u001b[0m\u001b[0;34m.\u001b[0m\u001b[0mparams\u001b[0m\u001b[0;34m,\u001b[0m \u001b[0mnew_rng\u001b[0m\u001b[0;34m,\u001b[0m \u001b[0mpreproc_data\u001b[0m\u001b[0;34m(\u001b[0m\u001b[0mnext\u001b[0m\u001b[0;34m(\u001b[0m\u001b[0mtest_di\u001b[0m\u001b[0;34m)\u001b[0m\u001b[0;34m)\u001b[0m\u001b[0;34m)\u001b[0m\u001b[0;34m\u001b[0m\u001b[0;34m\u001b[0m\u001b[0m\n\u001b[0m\u001b[1;32m     14\u001b[0m       \u001b[0mmetrics\u001b[0m\u001b[0;34m.\u001b[0m\u001b[0mupdate\u001b[0m\u001b[0;34m(\u001b[0m\u001b[0;34m{\u001b[0m\u001b[0;34m'steps_per_sec'\u001b[0m\u001b[0;34m:\u001b[0m \u001b[0msteps_per_sec\u001b[0m\u001b[0;34m,\u001b[0m \u001b[0;34m'valid_loss'\u001b[0m\u001b[0;34m:\u001b[0m \u001b[0mvalid_loss\u001b[0m\u001b[0;34m}\u001b[0m\u001b[0;34m)\u001b[0m\u001b[0;34m\u001b[0m\u001b[0;34m\u001b[0m\u001b[0m\n\u001b[1;32m     15\u001b[0m       \u001b[0mprint\u001b[0m\u001b[0;34m(\u001b[0m\u001b[0;34m{\u001b[0m\u001b[0mk\u001b[0m\u001b[0;34m:\u001b[0m \u001b[0mfloat\u001b[0m\u001b[0;34m(\u001b[0m\u001b[0mv\u001b[0m\u001b[0;34m)\u001b[0m \u001b[0;32mfor\u001b[0m \u001b[0mk\u001b[0m\u001b[0;34m,\u001b[0m \u001b[0mv\u001b[0m \u001b[0;32min\u001b[0m \u001b[0mmetrics\u001b[0m\u001b[0;34m.\u001b[0m\u001b[0mitems\u001b[0m\u001b[0;34m(\u001b[0m\u001b[0;34m)\u001b[0m\u001b[0;34m}\u001b[0m\u001b[0;34m)\u001b[0m\u001b[0;34m\u001b[0m\u001b[0;34m\u001b[0m\u001b[0m\n",
      "\u001b[0;32m~/.local/lib/python3.9/site-packages/haiku/_src/transform.py\u001b[0m in \u001b[0;36mapply_fn\u001b[0;34m(params, *args, **kwargs)\u001b[0m\n\u001b[1;32m    126\u001b[0m           \"name (e.g. `f.apply(.., state=my_state)`)\")\n\u001b[1;32m    127\u001b[0m \u001b[0;34m\u001b[0m\u001b[0m\n\u001b[0;32m--> 128\u001b[0;31m     \u001b[0mout\u001b[0m\u001b[0;34m,\u001b[0m \u001b[0mstate\u001b[0m \u001b[0;34m=\u001b[0m \u001b[0mf\u001b[0m\u001b[0;34m.\u001b[0m\u001b[0mapply\u001b[0m\u001b[0;34m(\u001b[0m\u001b[0mparams\u001b[0m\u001b[0;34m,\u001b[0m \u001b[0;34m{\u001b[0m\u001b[0;34m}\u001b[0m\u001b[0;34m,\u001b[0m \u001b[0;34m*\u001b[0m\u001b[0margs\u001b[0m\u001b[0;34m,\u001b[0m \u001b[0;34m**\u001b[0m\u001b[0mkwargs\u001b[0m\u001b[0;34m)\u001b[0m\u001b[0;34m\u001b[0m\u001b[0;34m\u001b[0m\u001b[0m\n\u001b[0m\u001b[1;32m    129\u001b[0m     \u001b[0;32mif\u001b[0m \u001b[0mstate\u001b[0m\u001b[0;34m:\u001b[0m\u001b[0;34m\u001b[0m\u001b[0;34m\u001b[0m\u001b[0m\n\u001b[1;32m    130\u001b[0m       raise ValueError(\"If your transformed function uses `hk.{get,set}_state` \"\n",
      "\u001b[0;32m~/.local/lib/python3.9/site-packages/haiku/_src/transform.py\u001b[0m in \u001b[0;36mapply_fn\u001b[0;34m(params, state, rng, *args, **kwargs)\u001b[0m\n\u001b[1;32m    355\u001b[0m     \u001b[0;32mwith\u001b[0m \u001b[0mbase\u001b[0m\u001b[0;34m.\u001b[0m\u001b[0mnew_context\u001b[0m\u001b[0;34m(\u001b[0m\u001b[0mparams\u001b[0m\u001b[0;34m=\u001b[0m\u001b[0mparams\u001b[0m\u001b[0;34m,\u001b[0m \u001b[0mstate\u001b[0m\u001b[0;34m=\u001b[0m\u001b[0mstate\u001b[0m\u001b[0;34m,\u001b[0m \u001b[0mrng\u001b[0m\u001b[0;34m=\u001b[0m\u001b[0mrng\u001b[0m\u001b[0;34m)\u001b[0m \u001b[0;32mas\u001b[0m \u001b[0mctx\u001b[0m\u001b[0;34m:\u001b[0m\u001b[0;34m\u001b[0m\u001b[0;34m\u001b[0m\u001b[0m\n\u001b[1;32m    356\u001b[0m       \u001b[0;32mtry\u001b[0m\u001b[0;34m:\u001b[0m\u001b[0;34m\u001b[0m\u001b[0;34m\u001b[0m\u001b[0m\n\u001b[0;32m--> 357\u001b[0;31m         \u001b[0mout\u001b[0m \u001b[0;34m=\u001b[0m \u001b[0mf\u001b[0m\u001b[0;34m(\u001b[0m\u001b[0;34m*\u001b[0m\u001b[0margs\u001b[0m\u001b[0;34m,\u001b[0m \u001b[0;34m**\u001b[0m\u001b[0mkwargs\u001b[0m\u001b[0;34m)\u001b[0m\u001b[0;34m\u001b[0m\u001b[0;34m\u001b[0m\u001b[0m\n\u001b[0m\u001b[1;32m    358\u001b[0m       \u001b[0;32mexcept\u001b[0m \u001b[0mjax\u001b[0m\u001b[0;34m.\u001b[0m\u001b[0merrors\u001b[0m\u001b[0;34m.\u001b[0m\u001b[0mUnexpectedTracerError\u001b[0m \u001b[0;32mas\u001b[0m \u001b[0me\u001b[0m\u001b[0;34m:\u001b[0m\u001b[0;34m\u001b[0m\u001b[0;34m\u001b[0m\u001b[0m\n\u001b[1;32m    359\u001b[0m         \u001b[0;32mraise\u001b[0m \u001b[0mjax\u001b[0m\u001b[0;34m.\u001b[0m\u001b[0merrors\u001b[0m\u001b[0;34m.\u001b[0m\u001b[0mUnexpectedTracerError\u001b[0m\u001b[0;34m(\u001b[0m\u001b[0munexpected_tracer_hint\u001b[0m\u001b[0;34m)\u001b[0m \u001b[0;32mfrom\u001b[0m \u001b[0me\u001b[0m\u001b[0;34m\u001b[0m\u001b[0;34m\u001b[0m\u001b[0m\n",
      "\u001b[0;32m/net/ascratch/people/plgmuravytskyi/slurm_jobdir/2053545/tmp/ipykernel_1549980/1926883911.py\u001b[0m in \u001b[0;36mloss_fn\u001b[0;34m(batch)\u001b[0m\n\u001b[1;32m     26\u001b[0m     \u001b[0;34m\"\"\"Computes the (scalar) loss on `data` w.r.t. params.\"\"\"\u001b[0m\u001b[0;34m\u001b[0m\u001b[0;34m\u001b[0m\u001b[0m\n\u001b[1;32m     27\u001b[0m     \u001b[0minp\u001b[0m \u001b[0;34m=\u001b[0m \u001b[0mbatch\u001b[0m\u001b[0;34m.\u001b[0m\u001b[0minputs\u001b[0m\u001b[0;34m[\u001b[0m\u001b[0;34m:\u001b[0m\u001b[0;34m,\u001b[0m \u001b[0;36m3\u001b[0m\u001b[0;34m:\u001b[0m\u001b[0;34m]\u001b[0m\u001b[0;34m\u001b[0m\u001b[0;34m\u001b[0m\u001b[0m\n\u001b[0;32m---> 28\u001b[0;31m     \u001b[0mlogits\u001b[0m \u001b[0;34m=\u001b[0m \u001b[0mforward\u001b[0m\u001b[0;34m(\u001b[0m\u001b[0minp\u001b[0m\u001b[0;34m)\u001b[0m\u001b[0;34m\u001b[0m\u001b[0;34m\u001b[0m\u001b[0m\n\u001b[0m\u001b[1;32m     29\u001b[0m \u001b[0;34m\u001b[0m\u001b[0m\n\u001b[1;32m     30\u001b[0m \u001b[0;31m#     outputs = jnp.zeros((BATCH_SIZE, 3, VOCAB_SIZE))\u001b[0m\u001b[0;34m\u001b[0m\u001b[0;34m\u001b[0m\u001b[0;34m\u001b[0m\u001b[0m\n",
      "\u001b[0;32m/net/ascratch/people/plgmuravytskyi/slurm_jobdir/2053545/tmp/ipykernel_1549980/1926883911.py\u001b[0m in \u001b[0;36mforward\u001b[0;34m(tokens)\u001b[0m\n\u001b[1;32m     11\u001b[0m         ),\n\u001b[1;32m     12\u001b[0m     )\n\u001b[0;32m---> 13\u001b[0;31m     \u001b[0;32mreturn\u001b[0m \u001b[0mnet\u001b[0m\u001b[0;34m(\u001b[0m\u001b[0mtokens\u001b[0m\u001b[0;34m)\u001b[0m\u001b[0;34m\u001b[0m\u001b[0;34m\u001b[0m\u001b[0m\n\u001b[0m\u001b[1;32m     14\u001b[0m \u001b[0;34m\u001b[0m\u001b[0m\n\u001b[1;32m     15\u001b[0m \u001b[0;31m# Create the optimiser.\u001b[0m\u001b[0;34m\u001b[0m\u001b[0;34m\u001b[0m\u001b[0;34m\u001b[0m\u001b[0m\n",
      "\u001b[0;32m~/.local/lib/python3.9/site-packages/haiku/_src/module.py\u001b[0m in \u001b[0;36mwrapped\u001b[0;34m(self, *args, **kwargs)\u001b[0m\n\u001b[1;32m    424\u001b[0m           \u001b[0mf\u001b[0m \u001b[0;34m=\u001b[0m \u001b[0mjax\u001b[0m\u001b[0;34m.\u001b[0m\u001b[0mnamed_call\u001b[0m\u001b[0;34m(\u001b[0m\u001b[0mf\u001b[0m\u001b[0;34m,\u001b[0m \u001b[0mname\u001b[0m\u001b[0;34m=\u001b[0m\u001b[0mmethod_name\u001b[0m\u001b[0;34m)\u001b[0m\u001b[0;34m\u001b[0m\u001b[0;34m\u001b[0m\u001b[0m\n\u001b[1;32m    425\u001b[0m \u001b[0;34m\u001b[0m\u001b[0m\n\u001b[0;32m--> 426\u001b[0;31m       \u001b[0mout\u001b[0m \u001b[0;34m=\u001b[0m \u001b[0mf\u001b[0m\u001b[0;34m(\u001b[0m\u001b[0;34m*\u001b[0m\u001b[0margs\u001b[0m\u001b[0;34m,\u001b[0m \u001b[0;34m**\u001b[0m\u001b[0mkwargs\u001b[0m\u001b[0;34m)\u001b[0m\u001b[0;34m\u001b[0m\u001b[0;34m\u001b[0m\u001b[0m\n\u001b[0m\u001b[1;32m    427\u001b[0m \u001b[0;34m\u001b[0m\u001b[0m\n\u001b[1;32m    428\u001b[0m       \u001b[0;31m# Module names are set in the constructor. If `f` is the constructor then\u001b[0m\u001b[0;34m\u001b[0m\u001b[0;34m\u001b[0m\u001b[0;34m\u001b[0m\u001b[0m\n",
      "\u001b[0;32m/net/software/testing/software/Python/3.9.6-GCCcore-11.2.0/lib/python3.9/contextlib.py\u001b[0m in \u001b[0;36minner\u001b[0;34m(*args, **kwds)\u001b[0m\n\u001b[1;32m     77\u001b[0m         \u001b[0;32mdef\u001b[0m \u001b[0minner\u001b[0m\u001b[0;34m(\u001b[0m\u001b[0;34m*\u001b[0m\u001b[0margs\u001b[0m\u001b[0;34m,\u001b[0m \u001b[0;34m**\u001b[0m\u001b[0mkwds\u001b[0m\u001b[0;34m)\u001b[0m\u001b[0;34m:\u001b[0m\u001b[0;34m\u001b[0m\u001b[0;34m\u001b[0m\u001b[0m\n\u001b[1;32m     78\u001b[0m             \u001b[0;32mwith\u001b[0m \u001b[0mself\u001b[0m\u001b[0;34m.\u001b[0m\u001b[0m_recreate_cm\u001b[0m\u001b[0;34m(\u001b[0m\u001b[0;34m)\u001b[0m\u001b[0;34m:\u001b[0m\u001b[0;34m\u001b[0m\u001b[0;34m\u001b[0m\u001b[0m\n\u001b[0;32m---> 79\u001b[0;31m                 \u001b[0;32mreturn\u001b[0m \u001b[0mfunc\u001b[0m\u001b[0;34m(\u001b[0m\u001b[0;34m*\u001b[0m\u001b[0margs\u001b[0m\u001b[0;34m,\u001b[0m \u001b[0;34m**\u001b[0m\u001b[0mkwds\u001b[0m\u001b[0;34m)\u001b[0m\u001b[0;34m\u001b[0m\u001b[0;34m\u001b[0m\u001b[0m\n\u001b[0m\u001b[1;32m     80\u001b[0m         \u001b[0;32mreturn\u001b[0m \u001b[0minner\u001b[0m\u001b[0;34m\u001b[0m\u001b[0;34m\u001b[0m\u001b[0m\n\u001b[1;32m     81\u001b[0m \u001b[0;34m\u001b[0m\u001b[0m\n",
      "\u001b[0;32m~/.local/lib/python3.9/site-packages/haiku/_src/module.py\u001b[0m in \u001b[0;36mrun_interceptors\u001b[0;34m(bound_method, method_name, self, *args, **kwargs)\u001b[0m\n\u001b[1;32m    270\u001b[0m   \u001b[0;34m\"\"\"Runs any method interceptors or the original method.\"\"\"\u001b[0m\u001b[0;34m\u001b[0m\u001b[0;34m\u001b[0m\u001b[0m\n\u001b[1;32m    271\u001b[0m   \u001b[0;32mif\u001b[0m \u001b[0;32mnot\u001b[0m \u001b[0minterceptor_stack\u001b[0m\u001b[0;34m:\u001b[0m\u001b[0;34m\u001b[0m\u001b[0;34m\u001b[0m\u001b[0m\n\u001b[0;32m--> 272\u001b[0;31m     \u001b[0;32mreturn\u001b[0m \u001b[0mbound_method\u001b[0m\u001b[0;34m(\u001b[0m\u001b[0;34m*\u001b[0m\u001b[0margs\u001b[0m\u001b[0;34m,\u001b[0m \u001b[0;34m**\u001b[0m\u001b[0mkwargs\u001b[0m\u001b[0;34m)\u001b[0m\u001b[0;34m\u001b[0m\u001b[0;34m\u001b[0m\u001b[0m\n\u001b[0m\u001b[1;32m    273\u001b[0m \u001b[0;34m\u001b[0m\u001b[0m\n\u001b[1;32m    274\u001b[0m   ctx = MethodContext(module=self,\n",
      "\u001b[0;32m/net/ascratch/people/plgmuravytskyi/slurm_jobdir/2053545/tmp/ipykernel_1549980/1699544185.py\u001b[0m in \u001b[0;36m__call__\u001b[0;34m(self, tokens, is_training)\u001b[0m\n\u001b[1;32m    102\u001b[0m \u001b[0;34m\u001b[0m\u001b[0m\n\u001b[1;32m    103\u001b[0m     \u001b[0;31m# Run the transformer over the inputs.\u001b[0m\u001b[0;34m\u001b[0m\u001b[0;34m\u001b[0m\u001b[0;34m\u001b[0m\u001b[0m\n\u001b[0;32m--> 104\u001b[0;31m     embeddings = self.transformer(\n\u001b[0m\u001b[1;32m    105\u001b[0m         \u001b[0minput_embeddings\u001b[0m\u001b[0;34m,\u001b[0m\u001b[0;34m\u001b[0m\u001b[0;34m\u001b[0m\u001b[0m\n\u001b[1;32m    106\u001b[0m         \u001b[0minput_mask\u001b[0m\u001b[0;34m,\u001b[0m\u001b[0;34m\u001b[0m\u001b[0;34m\u001b[0m\u001b[0m\n",
      "\u001b[0;32m~/.local/lib/python3.9/site-packages/haiku/_src/module.py\u001b[0m in \u001b[0;36mwrapped\u001b[0;34m(self, *args, **kwargs)\u001b[0m\n\u001b[1;32m    424\u001b[0m           \u001b[0mf\u001b[0m \u001b[0;34m=\u001b[0m \u001b[0mjax\u001b[0m\u001b[0;34m.\u001b[0m\u001b[0mnamed_call\u001b[0m\u001b[0;34m(\u001b[0m\u001b[0mf\u001b[0m\u001b[0;34m,\u001b[0m \u001b[0mname\u001b[0m\u001b[0;34m=\u001b[0m\u001b[0mmethod_name\u001b[0m\u001b[0;34m)\u001b[0m\u001b[0;34m\u001b[0m\u001b[0;34m\u001b[0m\u001b[0m\n\u001b[1;32m    425\u001b[0m \u001b[0;34m\u001b[0m\u001b[0m\n\u001b[0;32m--> 426\u001b[0;31m       \u001b[0mout\u001b[0m \u001b[0;34m=\u001b[0m \u001b[0mf\u001b[0m\u001b[0;34m(\u001b[0m\u001b[0;34m*\u001b[0m\u001b[0margs\u001b[0m\u001b[0;34m,\u001b[0m \u001b[0;34m**\u001b[0m\u001b[0mkwargs\u001b[0m\u001b[0;34m)\u001b[0m\u001b[0;34m\u001b[0m\u001b[0;34m\u001b[0m\u001b[0m\n\u001b[0m\u001b[1;32m    427\u001b[0m \u001b[0;34m\u001b[0m\u001b[0m\n\u001b[1;32m    428\u001b[0m       \u001b[0;31m# Module names are set in the constructor. If `f` is the constructor then\u001b[0m\u001b[0;34m\u001b[0m\u001b[0;34m\u001b[0m\u001b[0;34m\u001b[0m\u001b[0m\n",
      "\u001b[0;32m/net/software/testing/software/Python/3.9.6-GCCcore-11.2.0/lib/python3.9/contextlib.py\u001b[0m in \u001b[0;36minner\u001b[0;34m(*args, **kwds)\u001b[0m\n\u001b[1;32m     77\u001b[0m         \u001b[0;32mdef\u001b[0m \u001b[0minner\u001b[0m\u001b[0;34m(\u001b[0m\u001b[0;34m*\u001b[0m\u001b[0margs\u001b[0m\u001b[0;34m,\u001b[0m \u001b[0;34m**\u001b[0m\u001b[0mkwds\u001b[0m\u001b[0;34m)\u001b[0m\u001b[0;34m:\u001b[0m\u001b[0;34m\u001b[0m\u001b[0;34m\u001b[0m\u001b[0m\n\u001b[1;32m     78\u001b[0m             \u001b[0;32mwith\u001b[0m \u001b[0mself\u001b[0m\u001b[0;34m.\u001b[0m\u001b[0m_recreate_cm\u001b[0m\u001b[0;34m(\u001b[0m\u001b[0;34m)\u001b[0m\u001b[0;34m:\u001b[0m\u001b[0;34m\u001b[0m\u001b[0;34m\u001b[0m\u001b[0m\n\u001b[0;32m---> 79\u001b[0;31m                 \u001b[0;32mreturn\u001b[0m \u001b[0mfunc\u001b[0m\u001b[0;34m(\u001b[0m\u001b[0;34m*\u001b[0m\u001b[0margs\u001b[0m\u001b[0;34m,\u001b[0m \u001b[0;34m**\u001b[0m\u001b[0mkwds\u001b[0m\u001b[0;34m)\u001b[0m\u001b[0;34m\u001b[0m\u001b[0;34m\u001b[0m\u001b[0m\n\u001b[0m\u001b[1;32m     80\u001b[0m         \u001b[0;32mreturn\u001b[0m \u001b[0minner\u001b[0m\u001b[0;34m\u001b[0m\u001b[0;34m\u001b[0m\u001b[0m\n\u001b[1;32m     81\u001b[0m \u001b[0;34m\u001b[0m\u001b[0m\n",
      "\u001b[0;32m~/.local/lib/python3.9/site-packages/haiku/_src/module.py\u001b[0m in \u001b[0;36mrun_interceptors\u001b[0;34m(bound_method, method_name, self, *args, **kwargs)\u001b[0m\n\u001b[1;32m    270\u001b[0m   \u001b[0;34m\"\"\"Runs any method interceptors or the original method.\"\"\"\u001b[0m\u001b[0;34m\u001b[0m\u001b[0;34m\u001b[0m\u001b[0m\n\u001b[1;32m    271\u001b[0m   \u001b[0;32mif\u001b[0m \u001b[0;32mnot\u001b[0m \u001b[0minterceptor_stack\u001b[0m\u001b[0;34m:\u001b[0m\u001b[0;34m\u001b[0m\u001b[0;34m\u001b[0m\u001b[0m\n\u001b[0;32m--> 272\u001b[0;31m     \u001b[0;32mreturn\u001b[0m \u001b[0mbound_method\u001b[0m\u001b[0;34m(\u001b[0m\u001b[0;34m*\u001b[0m\u001b[0margs\u001b[0m\u001b[0;34m,\u001b[0m \u001b[0;34m**\u001b[0m\u001b[0mkwargs\u001b[0m\u001b[0;34m)\u001b[0m\u001b[0;34m\u001b[0m\u001b[0;34m\u001b[0m\u001b[0m\n\u001b[0m\u001b[1;32m    273\u001b[0m \u001b[0;34m\u001b[0m\u001b[0m\n\u001b[1;32m    274\u001b[0m   ctx = MethodContext(module=self,\n",
      "\u001b[0;32m/net/ascratch/people/plgmuravytskyi/slurm_jobdir/2053545/tmp/ipykernel_1549980/1699544185.py\u001b[0m in \u001b[0;36m__call__\u001b[0;34m(self, embeddings, mask, is_training)\u001b[0m\n\u001b[1;32m     40\u001b[0m     \u001b[0;31m# Compute causal mask for autoregressive sequence modelling.\u001b[0m\u001b[0;34m\u001b[0m\u001b[0;34m\u001b[0m\u001b[0;34m\u001b[0m\u001b[0m\n\u001b[1;32m     41\u001b[0m     \u001b[0mmask\u001b[0m \u001b[0;34m=\u001b[0m \u001b[0mmask\u001b[0m\u001b[0;34m[\u001b[0m\u001b[0;34m:\u001b[0m\u001b[0;34m,\u001b[0m \u001b[0;32mNone\u001b[0m\u001b[0;34m,\u001b[0m \u001b[0;32mNone\u001b[0m\u001b[0;34m,\u001b[0m \u001b[0;34m:\u001b[0m\u001b[0;34m]\u001b[0m  \u001b[0;31m# [B, H=1, T'=1, T]\u001b[0m\u001b[0;34m\u001b[0m\u001b[0;34m\u001b[0m\u001b[0m\n\u001b[0;32m---> 42\u001b[0;31m     \u001b[0mcausal_mask\u001b[0m \u001b[0;34m=\u001b[0m \u001b[0mnp\u001b[0m\u001b[0;34m.\u001b[0m\u001b[0mtril\u001b[0m\u001b[0;34m(\u001b[0m\u001b[0mnp\u001b[0m\u001b[0;34m.\u001b[0m\u001b[0mones\u001b[0m\u001b[0;34m(\u001b[0m\u001b[0;34m(\u001b[0m\u001b[0;36m1\u001b[0m\u001b[0;34m,\u001b[0m \u001b[0;36m1\u001b[0m\u001b[0;34m,\u001b[0m \u001b[0mseq_len\u001b[0m\u001b[0;34m,\u001b[0m \u001b[0mseq_len\u001b[0m\u001b[0;34m)\u001b[0m\u001b[0;34m)\u001b[0m\u001b[0;34m)\u001b[0m  \u001b[0;31m# [B=1, H=1, T, T]\u001b[0m\u001b[0;34m\u001b[0m\u001b[0;34m\u001b[0m\u001b[0m\n\u001b[0m\u001b[1;32m     43\u001b[0m     \u001b[0mmask\u001b[0m \u001b[0;34m=\u001b[0m \u001b[0mmask\u001b[0m \u001b[0;34m*\u001b[0m \u001b[0mcausal_mask\u001b[0m  \u001b[0;31m# [B, H=1, T, T]\u001b[0m\u001b[0;34m\u001b[0m\u001b[0;34m\u001b[0m\u001b[0m\n\u001b[1;32m     44\u001b[0m \u001b[0;34m\u001b[0m\u001b[0m\n",
      "\u001b[0;32m<__array_function__ internals>\u001b[0m in \u001b[0;36mtril\u001b[0;34m(*args, **kwargs)\u001b[0m\n",
      "\u001b[0;32m/net/software/testing/software/SciPy-bundle/2021.10-intel-2021b/lib/python3.9/site-packages/numpy/lib/twodim_base.py\u001b[0m in \u001b[0;36mtril\u001b[0;34m(m, k)\u001b[0m\n\u001b[1;32m    470\u001b[0m     \u001b[0mmask\u001b[0m \u001b[0;34m=\u001b[0m \u001b[0mtri\u001b[0m\u001b[0;34m(\u001b[0m\u001b[0;34m*\u001b[0m\u001b[0mm\u001b[0m\u001b[0;34m.\u001b[0m\u001b[0mshape\u001b[0m\u001b[0;34m[\u001b[0m\u001b[0;34m-\u001b[0m\u001b[0;36m2\u001b[0m\u001b[0;34m:\u001b[0m\u001b[0;34m]\u001b[0m\u001b[0;34m,\u001b[0m \u001b[0mk\u001b[0m\u001b[0;34m=\u001b[0m\u001b[0mk\u001b[0m\u001b[0;34m,\u001b[0m \u001b[0mdtype\u001b[0m\u001b[0;34m=\u001b[0m\u001b[0mbool\u001b[0m\u001b[0;34m)\u001b[0m\u001b[0;34m\u001b[0m\u001b[0;34m\u001b[0m\u001b[0m\n\u001b[1;32m    471\u001b[0m \u001b[0;34m\u001b[0m\u001b[0m\n\u001b[0;32m--> 472\u001b[0;31m     \u001b[0;32mreturn\u001b[0m \u001b[0mwhere\u001b[0m\u001b[0;34m(\u001b[0m\u001b[0mmask\u001b[0m\u001b[0;34m,\u001b[0m \u001b[0mm\u001b[0m\u001b[0;34m,\u001b[0m \u001b[0mzeros\u001b[0m\u001b[0;34m(\u001b[0m\u001b[0;36m1\u001b[0m\u001b[0;34m,\u001b[0m \u001b[0mm\u001b[0m\u001b[0;34m.\u001b[0m\u001b[0mdtype\u001b[0m\u001b[0;34m)\u001b[0m\u001b[0;34m)\u001b[0m\u001b[0;34m\u001b[0m\u001b[0;34m\u001b[0m\u001b[0m\n\u001b[0m\u001b[1;32m    473\u001b[0m \u001b[0;34m\u001b[0m\u001b[0m\n\u001b[1;32m    474\u001b[0m \u001b[0;34m\u001b[0m\u001b[0m\n",
      "\u001b[0;32m<__array_function__ internals>\u001b[0m in \u001b[0;36mwhere\u001b[0;34m(*args, **kwargs)\u001b[0m\n",
      "\u001b[0;31mKeyboardInterrupt\u001b[0m: "
     ]
    }
   ],
   "source": [
    "prev_time = time.time()\n",
    "state = initial_state\n",
    "for step in range(NUM_TRAINING_STEPS):\n",
    "    batch = preproc_data(next(train_di))\n",
    "    state, metrics = update(state, batch)\n",
    "    # We use JAX runahead to mask data preprocessing and JAX dispatch overheads.\n",
    "    # Using values from state/metrics too often will block the runahead and can\n",
    "    # cause these overheads to become more prominent.\n",
    "    if step % EVAL_INTERVAL == 0:\n",
    "      steps_per_sec = EVAL_INTERVAL / (time.time() - prev_time)\n",
    "      prev_time = time.time()\n",
    "      rng, new_rng = jax.random.split(rng)\n",
    "      valid_loss = loss_fn.apply(state.params, new_rng, preproc_data(next(test_di))) \n",
    "      metrics.update({'steps_per_sec': steps_per_sec, 'valid_loss': valid_loss})\n",
    "      print({k: float(v) for k, v in metrics.items()})"
   ]
  },
  {
   "cell_type": "code",
   "execution_count": 18,
   "metadata": {},
   "outputs": [],
   "source": [
    "@hk.transform\n",
    "def generate(context: jnp.array, rng) -> jnp.array:\n",
    "    inp = context[:, 3:]\n",
    "    logits = forward(inp)  # (B, T*D, 256)\n",
    "    print(logits.shape)\n",
    "    \n",
    "    logits = jnp.concatenate((logits, jnp.zeros((BATCH_SIZE, 3, 256))), axis=1)\n",
    "    logits = jax.random.categorical(rng, logits, axis=-1)\n",
    "    res_bytes = logits.reshape((BATCH_SIZE, BLOCK_SIZE, EMBEDDING_SIZE))\n",
    "    \n",
    "    mask = jnp.array([1, 256, 256*256, 256*256*256])\n",
    "    res = jnp.apply_along_axis(lambda x: jnp.sum(x*mask), -1, res_bytes)\n",
    "    return res"
   ]
  },
  {
   "cell_type": "code",
   "execution_count": 19,
   "metadata": {},
   "outputs": [
    {
     "name": "stdout",
     "output_type": "stream",
     "text": [
      "(2, 5757, 256)\n"
     ]
    }
   ],
   "source": [
    "test_batch = preproc_data(next(test_di))\n",
    "rng = jax.random.PRNGKey(SEED+10)\n",
    "rng, new_rng = jax.random.split(rng)\n",
    "b = generate.apply(state.params, new_rng, test_batch.inputs, new_rng)"
   ]
  },
  {
   "cell_type": "code",
   "execution_count": 20,
   "metadata": {},
   "outputs": [
    {
     "data": {
      "text/plain": [
       "((2, 1440), (2, 5760))"
      ]
     },
     "execution_count": 20,
     "metadata": {},
     "output_type": "execute_result"
    }
   ],
   "source": [
    "b.shape, test_batch.targets.shape"
   ]
  },
  {
   "cell_type": "code",
   "execution_count": 21,
   "metadata": {},
   "outputs": [],
   "source": [
    "_dest = test_batch.targets.reshape((BATCH_SIZE, BLOCK_SIZE, EMBEDDING_SIZE))\n",
    "mask = jnp.array([1, 256, 256*256, 256*256*256])\n",
    "_dest = jnp.apply_along_axis(lambda x: jnp.sum(x*mask), -1, _dest)"
   ]
  },
  {
   "cell_type": "code",
   "execution_count": 22,
   "metadata": {},
   "outputs": [
    {
     "name": "stdout",
     "output_type": "stream",
     "text": [
      "MAE ... 60627.671875\n"
     ]
    }
   ],
   "source": [
    "print(f\"MAE ... {jnp.mean(jnp.abs(_dest[:, :-1] - b[:, :-1]))}\")"
   ]
  },
  {
   "cell_type": "code",
   "execution_count": 24,
   "metadata": {},
   "outputs": [
    {
     "data": {
      "image/png": "[encoded data removed]",
      "text/plain": [
       "<Figure size 432x288 with 1 Axes>"
      ]
     },
     "metadata": {
      "needs_background": "light"
     },
     "output_type": "display_data"
    }
   ],
   "source": [
    "plt.figure()\n",
    "plt.plot(b[0, :300])\n",
    "plt.plot(_dest[0, :300])\n",
    "plt.show()"
   ]
  },
  {
   "cell_type": "code",
   "execution_count": null,
   "metadata": {},
   "outputs": [],
   "source": []
  }
 ],
 "metadata": {
  "kernelspec": {
   "display_name": "Python 3 (ipykernel)",
   "language": "python",
   "name": "python3"
  },
  "language_info": {
   "codemirror_mode": {
    "name": "ipython",
    "version": 3
   },
   "file_extension": ".py",
   "mimetype": "text/x-python",
   "name": "python",
   "nbconvert_exporter": "python",
   "pygments_lexer": "ipython3",
   "version": "3.9.6"
  }
 },
 "nbformat": 4,
 "nbformat_minor": 1
}
