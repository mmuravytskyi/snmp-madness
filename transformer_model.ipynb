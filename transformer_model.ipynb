{
 "cells": [
  {
   "cell_type": "code",
   "execution_count": 1,
   "metadata": {},
   "outputs": [],
   "source": [
    "import logging\n",
    "import time\n",
    "import jax\n",
    "import optax\n",
    "import data\n",
    "import dataclasses\n",
    "\n",
    "import matplotlib.pyplot as plt\n",
    "import functools as ft\n",
    "import haiku as hk\n",
    "import typing as t\n",
    "import jax.numpy as jnp\n",
    "import numpy as np"
   ]
  },
  {
   "cell_type": "markdown",
   "metadata": {},
   "source": [
    "### statics"
   ]
  },
  {
   "cell_type": "code",
   "execution_count": 2,
   "metadata": {},
   "outputs": [],
   "source": [
    "# 36 is 3 hours, rounding up to the nearest power of 2 -> 64\n",
    "BLOCK_SIZE = 32 # de facto it'll be x4 after byte encoding\n",
    "BATCH_SIZE = 4\n",
    "SPLIT = 0.85\n",
    "LEARNING_RATE = 3e-4\n",
    "SEED = 2137\n",
    "NUM_TRAINING_STEPS = 50000\n",
    "EVAL_INTERVAL = 1000\n",
    "EMBEDDING_SIZE = 4\n",
    "\n",
    "VOCAB_SIZE = 256\n",
    "PAD_TOKEN = jnp.array(-1, dtype=jnp.int16)\n",
    "GRAD_CLIP_VALUE = 1\n",
    "\n",
    "NUM_LAYERS = 2  \n",
    "NUM_HEADS = 16  # Number of attention heads.\n",
    "MODEL_SIZE = 64\n",
    "KEY_SIZE = 64\n",
    "DROPOUT_RATE = 0.0\n",
    "SOFTMAX_TEMP = 1.2\n",
    "\n",
    "LOAD_WEIGHTS = True"
   ]
  },
  {
   "cell_type": "markdown",
   "metadata": {},
   "source": [
    "### utils"
   ]
  },
  {
   "cell_type": "code",
   "execution_count": 3,
   "metadata": {},
   "outputs": [],
   "source": [
    "class TrainingState(t.NamedTuple):\n",
    "  \"\"\"Container for the training state.\"\"\"\n",
    "  params: hk.Params\n",
    "  opt_state: optax.OptState\n",
    "  rng: jax.Array\n",
    "  step: jax.Array\n",
    "\n",
    "class Batch(t.NamedTuple):\n",
    "    inputs: np.ndarray  # Integer tokens, shape [B, T]\n",
    "    targets: np.ndarray  # Integer tokens, shape [B, T]\n",
    "\n",
    "Metrics = t.MutableMapping[str, t.Any]"
   ]
  },
  {
   "cell_type": "code",
   "execution_count": 4,
   "metadata": {},
   "outputs": [],
   "source": [
    "@jax.jit\n",
    "def local_label_smoothing(arr: jnp.array, std: int = 2, mean: float = 0.7):\n",
    "    # assert arr.shape[1] % EMBEDDING_SIZE == 0\n",
    "    # [0, 0, 0, 1, 0, 0]\n",
    "    #   into\n",
    "    # [0, 0.05, 0.1, 0.7, 0.1, 0.05]\n",
    "    il = jnp.argmax(arr) + 2*std\n",
    "    arr = arr * mean\n",
    "    _lin = jnp.arange(std) + 1\n",
    "    coef  = (1 - mean) / 2 / _lin.sum()\n",
    "    \n",
    "    # TODO circular conv\n",
    "    c = jnp.apply_along_axis(lambda x: jnp.convolve(jnp.array([.05, .1, .7, .1, .05]), x, mode=\"same\"), -1, arr)\n",
    "    return c"
   ]
  },
  {
   "cell_type": "code",
   "execution_count": 5,
   "metadata": {},
   "outputs": [],
   "source": [
    "@jax.jit\n",
    "def to_bytes(arr):\n",
    "  \"\"\" Converts an array of uint32 into an array of bytes in little endian\"\"\"\n",
    "\n",
    "  @ft.partial(jax.vmap, in_axes=(None, 0), out_axes=-1)\n",
    "  def _to_bytes(arr, byte_index:int):\n",
    "    mask = 0xFF << (8 * byte_index)\n",
    "    b = (arr & mask) >> 8 * byte_index\n",
    "    return  b.astype(jnp.uint16)\n",
    "\n",
    "  return _to_bytes(arr, jnp.arange(4))\n",
    "\n",
    "@ft.partial(jax.jit, static_argnames=(\"axis\"))\n",
    "def from_bytes(array, axis):\n",
    "  \"\"\" Converts an array of bytes in little endian  into an array of uint32\"\"\"\n",
    "\n",
    "  @ft.partial(jax.vmap, in_axes=(axis, -1))\n",
    "  def _from_bytes(arr, byte_index):\n",
    "    return arr << 8 * byte_index\n",
    "\n",
    "  return jnp.sum(_from_bytes(array, jnp.arange(4)), axis=axis)"
   ]
  },
  {
   "cell_type": "markdown",
   "metadata": {},
   "source": [
    "### load data"
   ]
  },
  {
   "cell_type": "code",
   "execution_count": 6,
   "metadata": {},
   "outputs": [],
   "source": [
    "sdl = data.SimpleDataLoader(\"../data/samples_5m_subset_v1.csv\",\n",
    "                            BLOCK_SIZE,\n",
    "                            BATCH_SIZE,\n",
    "                            EMBEDDING_SIZE,\n",
    "                            SPLIT,\n",
    "                            normalize=False,\n",
    "                            log=False,\n",
    "                            shift=False,\n",
    "                            batch_first=True\n",
    "                            )\n",
    "train_di = sdl.get_data_iter(\"train\")\n",
    "test_di = sdl.get_data_iter(\"test\")"
   ]
  },
  {
   "cell_type": "code",
   "execution_count": 7,
   "metadata": {},
   "outputs": [
    {
     "data": {
      "text/plain": [
       "(4, 32)"
      ]
     },
     "execution_count": 7,
     "metadata": {},
     "output_type": "execute_result"
    }
   ],
   "source": [
    "expl_batch = next(train_di)\n",
    "expl_batch[\"target\"].shape"
   ]
  },
  {
   "cell_type": "code",
   "execution_count": 8,
   "metadata": {},
   "outputs": [
    {
     "data": {
      "text/plain": [
       "Array([9896693, 9095198, 8973590, 7857157], dtype=int32)"
      ]
     },
     "execution_count": 8,
     "metadata": {},
     "output_type": "execute_result"
    }
   ],
   "source": [
    "expl_batch['input'][0, :4]"
   ]
  },
  {
   "cell_type": "code",
   "execution_count": 9,
   "metadata": {},
   "outputs": [
    {
     "data": {
      "text/plain": [
       "Array([[245,   2, 151,   0],\n",
       "       [ 30, 200, 138,   0],\n",
       "       [ 22, 237, 136,   0]], dtype=uint16)"
      ]
     },
     "execution_count": 9,
     "metadata": {},
     "output_type": "execute_result"
    }
   ],
   "source": [
    "to_bytes(expl_batch['input'])[0, :3, :]"
   ]
  },
  {
   "cell_type": "code",
   "execution_count": 10,
   "metadata": {},
   "outputs": [],
   "source": [
    "@jax.jit\n",
    "def preproc_data(batch: dict):\n",
    "    _inputs = to_bytes(batch['input'])\n",
    "    _targets = to_bytes(batch['target'])\n",
    "    # TODO: make it a bit cleaner\n",
    "    _inputs = _inputs.reshape((BATCH_SIZE, EMBEDDING_SIZE*BLOCK_SIZE))\n",
    "    _targets = _targets.reshape((BATCH_SIZE, EMBEDDING_SIZE*BLOCK_SIZE))\n",
    "    return Batch(inputs=_inputs, targets=_targets)"
   ]
  },
  {
   "cell_type": "code",
   "execution_count": 11,
   "metadata": {},
   "outputs": [],
   "source": [
    "@jax.jit\n",
    "def apply_byte_error_weights(arr: jnp.array):\n",
    "    assert arr.shape[1] % EMBEDDING_SIZE == 0\n",
    "    c = arr.shape[1] // EMBEDDING_SIZE\n",
    "    weights = jnp.array([1., 2., 3., 4.] * c)\n",
    "    return weights*arr"
   ]
  },
  {
   "cell_type": "code",
   "execution_count": 12,
   "metadata": {},
   "outputs": [
    {
     "data": {
      "text/plain": [
       "(4, 128)"
      ]
     },
     "execution_count": 12,
     "metadata": {},
     "output_type": "execute_result"
    }
   ],
   "source": [
    "_inputs = preproc_data(expl_batch)\n",
    "_inputs.inputs.shape"
   ]
  },
  {
   "cell_type": "code",
   "execution_count": 13,
   "metadata": {},
   "outputs": [
    {
     "data": {
      "image/png": "[encoded data removed]",
      "text/plain": [
       "<Figure size 432x288 with 1 Axes>"
      ]
     },
     "metadata": {
      "needs_background": "light"
     },
     "output_type": "display_data"
    }
   ],
   "source": [
    "plt.figure()\n",
    "plt.plot(_inputs.inputs[0, :100])\n",
    "plt.plot(_inputs.targets[0, :100])\n",
    "plt.show()"
   ]
  },
  {
   "cell_type": "markdown",
   "metadata": {},
   "source": [
    "### model"
   ]
  },
  {
   "cell_type": "markdown",
   "metadata": {},
   "source": [
    "from: https://github.com/deepmind/dm-haiku/tree/main/examples/transformer"
   ]
  },
  {
   "cell_type": "code",
   "execution_count": 14,
   "metadata": {},
   "outputs": [],
   "source": [
    "\"\"\"Didactic example of an autoregressive Transformer-based language model.\n",
    "Glossary of shapes:\n",
    "- B: Batch size.\n",
    "- T: Sequence length.\n",
    "- D: Model embedding size.\n",
    "- H: Number of attention heads.\n",
    "- V: Vocabulary size.\n",
    "\"\"\"\n",
    "\n",
    "def layer_norm(x: jax.Array) -> jax.Array:\n",
    "  \"\"\"Applies a unique LayerNorm to x with default settings.\"\"\"\n",
    "  ln = hk.LayerNorm(axis=-1, create_scale=True, create_offset=True)\n",
    "  return ln(x)\n",
    "\n",
    "\n",
    "@dataclasses.dataclass\n",
    "class Transformer(hk.Module):\n",
    "  \"\"\"A transformer stack.\"\"\"\n",
    "\n",
    "  num_heads: int\n",
    "  num_layers: int\n",
    "  key_size: int\n",
    "  dropout_rate: float\n",
    "  widening_factor: int = 4\n",
    "  name: t.Optional[str] = None\n",
    "\n",
    "  def __call__(\n",
    "      self,\n",
    "      embeddings: jax.Array,  # [B, T, D]\n",
    "      mask: jax.Array,  # [B, T]\n",
    "      *,\n",
    "      is_training: bool = True,\n",
    "  ) -> jax.Array:  # [B, T, D]\n",
    "    \"\"\"Transforms input embedding sequences to output embedding sequences.\"\"\"\n",
    "\n",
    "    initializer = hk.initializers.VarianceScaling(2 / self.num_layers)\n",
    "    dropout_rate = self.dropout_rate if is_training else 0.\n",
    "    _, seq_len, model_size = embeddings.shape\n",
    "\n",
    "    # Compute causal mask for autoregressive sequence modelling.\n",
    "    mask = mask[:, None, None, :]  # [B, H=1, T'=1, T]\n",
    "    causal_mask = np.tril(np.ones((1, 1, seq_len, seq_len)))  # [B=1, H=1, T, T]\n",
    "    mask = mask * causal_mask  # [B, H=1, T, T]\n",
    "\n",
    "    h = embeddings\n",
    "    for _ in range(self.num_layers):\n",
    "      # First the attention block.\n",
    "      attn_block = hk.MultiHeadAttention(\n",
    "          num_heads=self.num_heads,\n",
    "          key_size=self.key_size,\n",
    "          model_size=model_size,\n",
    "          w_init=initializer,\n",
    "      )\n",
    "      h_norm = layer_norm(h)\n",
    "      h_attn = attn_block(h_norm, h_norm, h_norm, mask = mask)\n",
    "      h_attn = hk.dropout(hk.next_rng_key(), dropout_rate, h_attn)\n",
    "      h = h + h_attn\n",
    "\n",
    "      # Then the dense block.\n",
    "      dense_block = hk.Sequential([\n",
    "          hk.Linear(self.widening_factor * model_size, w_init=initializer),\n",
    "          jax.nn.gelu,\n",
    "          hk.Linear(model_size, w_init=initializer),\n",
    "      ])\n",
    "      h_norm = layer_norm(h)\n",
    "      h_dense = dense_block(h_norm)\n",
    "      h_dense = hk.dropout(hk.next_rng_key(), dropout_rate, h_dense)\n",
    "      h = h + h_dense\n",
    "\n",
    "    return layer_norm(h)\n",
    "\n",
    "\n",
    "@dataclasses.dataclass\n",
    "class TransformerModel(hk.Module):\n",
    "  \"\"\"An autoregressive transformer-based model.\"\"\"\n",
    "\n",
    "  transformer: Transformer\n",
    "  model_size: int\n",
    "  vocab_size: int\n",
    "  pad_token: int\n",
    "  name: t.Optional[str] = None\n",
    "\n",
    "  def __call__(\n",
    "      self,\n",
    "      tokens: jax.Array,\n",
    "      *,\n",
    "      is_training: bool = True,\n",
    "  ) -> jax.Array:\n",
    "    \"\"\"Forward pass, producing a sequence of logits.\"\"\"\n",
    "    input_mask = jnp.greater(tokens, self.pad_token)\n",
    "    unused_batch_size, seq_len = tokens.shape\n",
    "\n",
    "    # Embed the input tokens and positions.\n",
    "    embed_init = hk.initializers.TruncatedNormal(stddev=0.02)\n",
    "    token_embedding_map = hk.Embed(\n",
    "        self.vocab_size, embed_dim=self.model_size, w_init=embed_init)\n",
    "    token_embeddings = token_embedding_map(tokens)\n",
    "    \n",
    "    # TODO byte_position emb\n",
    "    # [4, seq_len // 4, model_size] repeat\n",
    "    # [1, 2, 3, 4], ..., -> [4, model_size]\n",
    "    _byte_position_embeddings = hk.get_parameter(\n",
    "        'byte_position_embeddings', [EMBEDDING_SIZE, self.model_size], init=embed_init)\n",
    "    \n",
    "    byte_position_embeddings = _byte_position_embeddings\n",
    "    for _ in range((seq_len // EMBEDDING_SIZE) - 1) :\n",
    "        byte_position_embeddings = jnp.concatenate(\n",
    "            (byte_position_embeddings, _byte_position_embeddings), axis=0)\n",
    "    byte_position_embeddings = jnp.concatenate(\n",
    "        (byte_position_embeddings[2:3], byte_position_embeddings), axis=0)[None, :, :]\n",
    "    \n",
    "    positional_embeddings = hk.get_parameter(\n",
    "        'positional_embeddings', [seq_len, self.model_size], init=embed_init)\n",
    "    input_embeddings = token_embeddings + positional_embeddings + byte_position_embeddings # [B, T, D]\n",
    "\n",
    "    # Run the transformer over the inputs.\n",
    "    embeddings = self.transformer(\n",
    "        input_embeddings,\n",
    "        input_mask,\n",
    "        is_training=is_training,\n",
    "    )  # [B, T, D]\n",
    "\n",
    "    # Decode the embeddings (here, we use untied weights).\n",
    "    return hk.Linear(self.vocab_size)(embeddings)  # [B, T, V]"
   ]
  },
  {
   "cell_type": "markdown",
   "metadata": {},
   "source": [
    "### training"
   ]
  },
  {
   "cell_type": "code",
   "execution_count": 51,
   "metadata": {},
   "outputs": [],
   "source": [
    "def forward(tokens: t.Union[np.ndarray, jax.Array]) -> jax.Array:\n",
    "    net = TransformerModel(\n",
    "        model_size=MODEL_SIZE,\n",
    "        vocab_size=VOCAB_SIZE,\n",
    "        pad_token=PAD_TOKEN,\n",
    "        transformer=Transformer(\n",
    "            num_heads=NUM_HEADS,\n",
    "            num_layers=NUM_LAYERS,\n",
    "            key_size=KEY_SIZE,\n",
    "            dropout_rate=DROPOUT_RATE,\n",
    "        ),\n",
    "    )\n",
    "    return net(tokens)\n",
    "\n",
    "# Create the optimiser.\n",
    "optimiser = optax.chain(\n",
    "  # optax.clip_by_global_norm(GRAD_CLIP_VALUE),\n",
    "  optax.adam(LEARNING_RATE, b1=0.9, b2=0.99),\n",
    ")\n",
    "\n",
    "# Create the loss.\n",
    "@hk.transform\n",
    "def loss_fn(batch: Batch) -> jax.Array:\n",
    "    \"\"\"Computes the (scalar) loss on `data` w.r.t. params.\"\"\"\n",
    "    inp = batch.inputs[:, 3:]\n",
    "    out = batch.targets[:,  :-3]\n",
    "    \n",
    "    logits = forward(inp)\n",
    "    \n",
    "    # this mask excludes -1's which we use as a padding in an input seq\n",
    "    mask = jnp.greater(inp, jnp.array(-1, dtype=jnp.int16))\n",
    "    targets = jax.nn.one_hot(out, VOCAB_SIZE)  # (B, T*D, 256)\n",
    "    ### LOCAL LABEL SMOOTHING ###\n",
    "    # targets = local_label_smoothing(targets)\n",
    "    \n",
    "    assert logits.shape == targets.shape\n",
    "    \n",
    "    log_likelihood = jnp.sum(targets * jax.nn.log_softmax(logits / SOFTMAX_TEMP), axis=-1) # (B, T)\n",
    "    \n",
    "    predictions = jnp.argmax(jax.nn.softmax(logits / SOFTMAX_TEMP), axis=-1)\n",
    "    #  neighbouring classes are similar therefore we use calculate accuracy \n",
    "    #  for the closes 1 and 2 heighbours as well\n",
    "    out = out.astype(jnp.int32) # convert to signed int in order to make correct comparisons\n",
    "    acc = jnp.asarray(predictions == out)[:, :-1].reshape((BATCH_SIZE, BLOCK_SIZE-1, 4))\n",
    "    acc3 = jnp.logical_and(predictions <= out + 1, predictions >= out - 1)\n",
    "    acc3 = acc3[:, :-1].reshape((BATCH_SIZE, BLOCK_SIZE-1, 4))\n",
    "    acc5 = jnp.logical_and(predictions <= out + 2, predictions >= out - 2)\n",
    "    acc5 = acc5[:, :-1].reshape((BATCH_SIZE, BLOCK_SIZE-1, 4))\n",
    "\n",
    "    metrics = {\n",
    "        'accuracy': acc.mean(axis=(0, 1)),\n",
    "        'accuracy_3': acc3.mean(axis=(0, 1)),\n",
    "        'accuracy_5': acc5.mean(axis=(0, 1)),\n",
    "    }\n",
    "        \n",
    "    ### BYTE-LEVEL ERROR SCALING ###\n",
    "    # the last token is the first byte of the prediction\n",
    "    # it's scaled by 1.0, so we can skip it and it would have the same effect\n",
    "    log_likelihood = log_likelihood.at[:, :-1].set(apply_byte_error_weights(log_likelihood[:, :-1]))\n",
    "    return -jnp.sum(log_likelihood * mask) / jnp.sum(mask), metrics  # NLL per token.\n",
    "\n",
    "@jax.jit\n",
    "def update(state: TrainingState, batch) -> t.Tuple[TrainingState, Metrics]:\n",
    "    \"\"\"Does an SGD step and returns metrics.\"\"\"\n",
    "    rng, new_rng = jax.random.split(state.rng)\n",
    "    loss_and_grad_fn = jax.value_and_grad(loss_fn.apply, has_aux=True)\n",
    "    (loss, metrics), gradients = loss_and_grad_fn(state.params, rng, batch)\n",
    "\n",
    "    updates, new_opt_state = optimiser.update(gradients, state.opt_state)\n",
    "    new_params = optax.apply_updates(state.params, updates)\n",
    "\n",
    "    new_state = TrainingState(\n",
    "        params=new_params,\n",
    "        opt_state=new_opt_state,\n",
    "        rng=new_rng,\n",
    "        step=state.step + 1,\n",
    "    )\n",
    "\n",
    "    metrics.update({\n",
    "        'step': state.step,\n",
    "        'loss': loss,\n",
    "    })\n",
    "    return new_state, metrics"
   ]
  },
  {
   "cell_type": "code",
   "execution_count": 52,
   "metadata": {},
   "outputs": [],
   "source": [
    "rng = jax.random.PRNGKey(SEED)\n",
    "rng, init_rng = jax.random.split(rng)\n",
    "init_batch = preproc_data(expl_batch)\n",
    "initial_params = loss_fn.init(init_rng, init_batch)\n",
    "\n",
    "initial_opt_state = optimiser.init(initial_params)\n",
    "initial_state =  TrainingState(\n",
    "    params=initial_params,\n",
    "    opt_state=initial_opt_state,\n",
    "    rng=init_rng,\n",
    "    step=jnp.array(0),\n",
    ")\n",
    "\n",
    "valid_loss_all = []\n",
    "train_loss_all = []"
   ]
  },
  {
   "cell_type": "code",
   "execution_count": 53,
   "metadata": {},
   "outputs": [
    {
     "name": "stdout",
     "output_type": "stream",
     "text": [
      "Step: 0, Loss: 15.14, Vloss: 11.81, Acc: ['0.00', '0.00', '0.00', '0.00'], Acc3: ['0.01', '0.01', '0.00', '0.00'], \n",
      "Step: 1000, Loss: 6.04, Vloss: 4.45, Acc: ['0.01', '0.02', '0.68', '1.00'], Acc3: ['0.01', '0.08', '0.85', '1.00'], \n",
      "Step: 2000, Loss: 5.37, Vloss: 7.14, Acc: ['0.01', '0.27', '0.63', '1.00'], Acc3: ['0.04', '0.29', '0.77', '1.00'], \n",
      "Step: 3000, Loss: 5.31, Vloss: 5.53, Acc: ['0.00', '0.00', '0.35', '0.86'], Acc3: ['0.00', '0.01', '0.52', '0.99'], \n",
      "Step: 4000, Loss: 5.21, Vloss: 5.28, Acc: ['0.01', '0.01', '0.25', '1.00'], Acc3: ['0.02', '0.02', '0.44', '1.00'], \n",
      "Step: 5000, Loss: 5.19, Vloss: 5.49, Acc: ['0.02', '0.06', '0.51', '1.00'], Acc3: ['0.02', '0.15', '0.57', '1.00'], \n",
      "Step: 6000, Loss: 5.20, Vloss: 6.48, Acc: ['0.01', '0.31', '0.69', '0.94'], Acc3: ['0.04', '0.41', '0.75', '0.99'], \n",
      "Step: 7000, Loss: 5.17, Vloss: 4.45, Acc: ['0.00', '0.12', '0.54', '0.98'], Acc3: ['0.01', '0.19', '0.58', '1.00'], \n",
      "Step: 8000, Loss: 5.14, Vloss: 5.78, Acc: ['0.01', '0.00', '0.57', '1.00'], Acc3: ['0.01', '0.01', '0.71', '1.00'], \n",
      "Step: 9000, Loss: 5.18, Vloss: 5.36, Acc: ['0.01', '0.52', '0.75', '1.00'], Acc3: ['0.03', '0.65', '0.77', '1.00'], \n",
      "Step: 10000, Loss: 5.14, Vloss: 4.82, Acc: ['0.00', '0.09', '0.74', '0.96'], Acc3: ['0.00', '0.24', '0.76', '1.00'], \n",
      "Step: 11000, Loss: 5.15, Vloss: 5.24, Acc: ['0.00', '0.48', '0.76', '1.00'], Acc3: ['0.02', '0.65', '0.76', '1.00'], \n",
      "Step: 12000, Loss: 5.18, Vloss: 4.25, Acc: ['0.02', '0.15', '0.94', '1.00'], Acc3: ['0.02', '0.22', '0.99', '1.00'], \n",
      "Step: 13000, Loss: 5.11, Vloss: 6.06, Acc: ['0.00', '0.00', '0.08', '0.90'], Acc3: ['0.00', '0.01', '0.24', '1.00'], \n",
      "Step: 14000, Loss: 5.17, Vloss: 4.06, Acc: ['0.00', '0.40', '0.69', '1.00'], Acc3: ['0.01', '0.44', '0.80', '1.00'], \n",
      "Step: 15000, Loss: 5.18, Vloss: 5.27, Acc: ['0.02', '0.29', '0.69', '1.00'], Acc3: ['0.05', '0.39', '0.76', '1.00'], \n",
      "Step: 16000, Loss: 5.13, Vloss: 3.31, Acc: ['0.00', '0.23', '0.35', '1.00'], Acc3: ['0.02', '0.25', '0.48', '1.00'], \n",
      "Step: 17000, Loss: 5.14, Vloss: 5.31, Acc: ['0.00', '0.06', '0.29', '0.98'], Acc3: ['0.00', '0.14', '0.33', '1.00'], \n",
      "Step: 18000, Loss: 5.15, Vloss: 7.58, Acc: ['0.01', '0.08', '0.55', '0.96'], Acc3: ['0.01', '0.21', '0.65', '1.00'], \n",
      "Step: 19000, Loss: 5.13, Vloss: 5.76, Acc: ['0.01', '0.02', '0.54', '1.00'], Acc3: ['0.01', '0.06', '0.68', '1.00'], \n",
      "Step: 20000, Loss: 5.09, Vloss: 4.05, Acc: ['0.02', '0.26', '0.88', '1.00'], Acc3: ['0.06', '0.31', '0.99', '1.00'], \n",
      "Step: 21000, Loss: 5.10, Vloss: 5.62, Acc: ['0.02', '0.33', '0.72', '1.00'], Acc3: ['0.03', '0.48', '0.75', '1.00'], \n",
      "Step: 22000, Loss: 5.17, Vloss: 5.42, Acc: ['0.01', '0.01', '0.26', '0.96'], Acc3: ['0.01', '0.01', '0.32', '0.99'], \n",
      "Step: 23000, Loss: 5.11, Vloss: 2.22, Acc: ['0.00', '0.05', '0.44', '0.98'], Acc3: ['0.01', '0.11', '0.51', '1.00'], \n",
      "Step: 24000, Loss: 5.11, Vloss: 5.96, Acc: ['0.00', '0.23', '0.62', '1.00'], Acc3: ['0.01', '0.35', '0.69', '1.00'], \n",
      "Step: 25000, Loss: 5.14, Vloss: 5.15, Acc: ['0.01', '0.23', '0.43', '0.90'], Acc3: ['0.02', '0.26', '0.49', '0.98'], \n",
      "Step: 26000, Loss: 5.14, Vloss: 3.30, Acc: ['0.00', '0.27', '0.73', '1.00'], Acc3: ['0.02', '0.36', '0.81', '1.00'], \n",
      "Step: 27000, Loss: 5.10, Vloss: 4.12, Acc: ['0.01', '0.00', '0.53', '1.00'], Acc3: ['0.01', '0.02', '0.71', '1.00'], \n",
      "Step: 28000, Loss: 5.15, Vloss: 4.26, Acc: ['0.01', '0.31', '0.52', '1.00'], Acc3: ['0.02', '0.34', '0.52', '1.00'], \n",
      "Step: 29000, Loss: 5.17, Vloss: 5.40, Acc: ['0.01', '0.27', '0.81', '1.00'], Acc3: ['0.02', '0.35', '0.92', '1.00'], \n",
      "Step: 30000, Loss: 5.12, Vloss: 6.24, Acc: ['0.00', '0.07', '0.56', '1.00'], Acc3: ['0.00', '0.15', '0.67', '1.00'], \n",
      "Step: 31000, Loss: 5.11, Vloss: 6.94, Acc: ['0.02', '0.25', '0.29', '1.00'], Acc3: ['0.04', '0.25', '0.38', '1.00'], \n",
      "Step: 32000, Loss: 5.12, Vloss: 5.86, Acc: ['0.00', '0.35', '0.69', '1.00'], Acc3: ['0.06', '0.43', '0.74', '1.00'], \n",
      "Step: 33000, Loss: 5.16, Vloss: 6.42, Acc: ['0.00', '0.02', '0.26', '1.00'], Acc3: ['0.01', '0.02', '0.42', '1.00'], \n",
      "Step: 34000, Loss: 5.13, Vloss: 6.39, Acc: ['0.00', '0.22', '0.37', '0.98'], Acc3: ['0.01', '0.23', '0.49', '1.00'], \n",
      "Step: 35000, Loss: 5.19, Vloss: 4.58, Acc: ['0.00', '0.06', '0.38', '0.98'], Acc3: ['0.01', '0.10', '0.52', '1.00'], \n",
      "Step: 36000, Loss: 5.11, Vloss: 5.41, Acc: ['0.00', '0.23', '0.29', '1.00'], Acc3: ['0.00', '0.24', '0.38', '1.00'], \n",
      "Step: 37000, Loss: 5.11, Vloss: 7.14, Acc: ['0.02', '0.19', '0.26', '0.98'], Acc3: ['0.02', '0.20', '0.29', '1.00'], \n",
      "Step: 38000, Loss: 5.13, Vloss: 3.76, Acc: ['0.00', '0.02', '0.29', '1.00'], Acc3: ['0.01', '0.14', '0.45', '1.00'], \n",
      "Step: 39000, Loss: 5.08, Vloss: 2.72, Acc: ['0.00', '0.03', '0.52', '1.00'], Acc3: ['0.01', '0.07', '0.62', '1.00'], \n",
      "Step: 40000, Loss: 5.12, Vloss: 5.64, Acc: ['0.02', '0.52', '0.68', '1.00'], Acc3: ['0.05', '0.53', '0.71', '1.00'], \n",
      "Step: 41000, Loss: 5.13, Vloss: 6.20, Acc: ['0.00', '0.00', '0.47', '1.00'], Acc3: ['0.00', '0.01', '0.78', '1.00'], \n",
      "Step: 42000, Loss: 5.07, Vloss: 5.93, Acc: ['0.00', '0.01', '0.29', '0.98'], Acc3: ['0.02', '0.07', '0.47', '1.00'], \n",
      "Step: 43000, Loss: 5.10, Vloss: 6.76, Acc: ['0.01', '0.04', '0.80', '1.00'], Acc3: ['0.01', '0.14', '0.87', '1.00'], \n",
      "Step: 44000, Loss: 5.11, Vloss: 6.65, Acc: ['0.01', '0.00', '0.34', '0.96'], Acc3: ['0.02', '0.00', '0.47', '1.00'], \n",
      "Step: 45000, Loss: 5.03, Vloss: 4.94, Acc: ['0.01', '0.43', '0.75', '1.00'], Acc3: ['0.02', '0.49', '0.76', '1.00'], \n",
      "Step: 46000, Loss: 5.07, Vloss: 5.77, Acc: ['0.02', '0.00', '0.28', '0.94'], Acc3: ['0.02', '0.02', '0.36', '1.00'], \n",
      "Step: 47000, Loss: 5.14, Vloss: 4.82, Acc: ['0.01', '0.29', '0.51', '0.94'], Acc3: ['0.07', '0.35', '0.52', '1.00'], \n",
      "Step: 48000, Loss: 5.20, Vloss: 6.80, Acc: ['0.02', '0.25', '0.57', '0.98'], Acc3: ['0.02', '0.28', '0.68', '0.99'], \n",
      "Step: 49000, Loss: 5.05, Vloss: 6.85, Acc: ['0.01', '0.02', '0.58', '0.97'], Acc3: ['0.01', '0.04', '0.68', '1.00'], \n"
     ]
    }
   ],
   "source": [
    "if LOAD_WEIGHTS:\n",
    "    model_params = jnp.load('transformer_aka_karpathy.npy', allow_pickle=True)\n",
    "else:\n",
    "    avg_loss = []\n",
    "    prev_time = time.time()\n",
    "    state = initial_state\n",
    "    for step in range(NUM_TRAINING_STEPS):\n",
    "        batch = preproc_data(next(train_di))\n",
    "        state, metrics = update(state, batch)\n",
    "        # We use JAX runahead to mask data preprocessing and JAX dispatch overheads.\n",
    "        # Using values from state/metrics too often will block the runahead and can\n",
    "        # cause these overheads to become more prominent.\n",
    "        avg_loss.append(float(metrics['loss']))\n",
    "        # TODO:\n",
    "        #  - add elapsed time in min\n",
    "        if step % EVAL_INTERVAL == 0:\n",
    "            steps_per_sec = EVAL_INTERVAL / (time.time() - prev_time)\n",
    "            prev_time = time.time()\n",
    "            rng, new_rng = jax.random.split(rng)\n",
    "            valid_loss, _ = loss_fn.apply(state.params, new_rng, preproc_data(next(test_di))) \n",
    "            valid_loss_all.append(valid_loss)\n",
    "            \n",
    "            metrics.update({'steps_per_sec': steps_per_sec, 'valid_loss': valid_loss})\n",
    "            # logging.info({k: float(v) for k, v in metrics.items()})\n",
    "            print(f\"Step: {step}, \" \\\n",
    "                  f\"Loss: {sum(avg_loss)/len(avg_loss):.2f}, \" \\\n",
    "                  f\"Vloss: {metrics['valid_loss']:.2f}, \" \\\n",
    "                  f\"Acc: {[f'{i:0.2f}' for i in metrics['accuracy']]}, \" \\\n",
    "                  f\"Acc3: {[f'{i:0.2f}' for i in metrics['accuracy_3']]}, \" \\\n",
    "                  # f\"Acc5: {metrics['accuracy_5']}, \" \\\n",
    "                  f\"\")\n",
    "            avg_loss = []\n",
    "            "
   ]
  },
  {
   "cell_type": "code",
   "execution_count": 44,
   "metadata": {
    "scrolled": true
   },
   "outputs": [
    {
     "data": {
      "image/png": "[encoded data removed]",
      "text/plain": [
       "<Figure size 432x288 with 1 Axes>"
      ]
     },
     "metadata": {
      "needs_background": "light"
     },
     "output_type": "display_data"
    }
   ],
   "source": [
    "plt.figure()\n",
    "plt.plot(valid_loss_all)\n",
    "plt.plot(train_loss_all)\n",
    "plt.show()"
   ]
  },
  {
   "cell_type": "markdown",
   "metadata": {},
   "source": [
    "### validation"
   ]
  },
  {
   "cell_type": "code",
   "execution_count": null,
   "metadata": {},
   "outputs": [],
   "source": [
    "if LOAD_WEIGHTS:\n",
    "    model_weights = model_params.item()\n",
    "else:\n",
    "    model_weights = state.params"
   ]
  },
  {
   "cell_type": "code",
   "execution_count": 54,
   "metadata": {},
   "outputs": [],
   "source": [
    "if not LOAD_WEIGHTS:\n",
    "    with open('transformer_aka_karpathy_all_edges.npy', 'wb') as f:\n",
    "        jnp.save(f, state.params)"
   ]
  },
  {
   "cell_type": "code",
   "execution_count": null,
   "metadata": {},
   "outputs": [],
   "source": [
    "class LoopValues(t.NamedTuple):\n",
    "    logits: jnp.ndarray\n",
    "    output_seq: jnp.ndarray"
   ]
  },
  {
   "cell_type": "code",
   "execution_count": null,
   "metadata": {},
   "outputs": [],
   "source": [
    "mask = jnp.array([1, 256, 256*256, 256*256*256])"
   ]
  },
  {
   "cell_type": "code",
   "execution_count": null,
   "metadata": {},
   "outputs": [],
   "source": [
    "@hk.transform\n",
    "def generate(context: jnp.array, seq_len: int) -> jnp.array:\n",
    "    output_seq = jnp.zeros((BATCH_SIZE, seq_len))\n",
    "    new_input = jnp.array(context[:, 3:], dtype = jnp.int32) # initial input\n",
    "\n",
    "    def body_fn(idx: int, v: LoopValues) -> LoopValues:\n",
    "        new_logits = forward(v.logits)  # (B, T*D, 256)\n",
    "        print(new_logits.shape)\n",
    "        new_logits = jax.random.categorical(hk.next_rng_key(), new_logits, axis=-1)  # (B, T*D)\n",
    "        new_output_seq = v.output_seq.at[:, idx].set(new_logits[:, -1])\n",
    "        return LoopValues(logits = new_logits, output_seq=new_output_seq)\n",
    "        \n",
    "    initial_values = LoopValues(logits=new_input, output_seq=output_seq)\n",
    "    lv: LoopValues = hk.fori_loop(0, seq_len, body_fn, initial_values)        \n",
    "    return lv.output_seq\n",
    "\n",
    "@hk.transform\n",
    "def generate_full_seq(context: jnp.array) -> jnp.array:\n",
    "    inp = context[:, 3:]\n",
    "    logits = forward(inp)  # (B, T*D, 256)\n",
    "    \n",
    "    logits = jnp.concatenate((logits, jnp.zeros((BATCH_SIZE, 3, 256))), axis=1)\n",
    "    logits = jax.random.categorical(hk.next_rng_key(), logits, axis=-1)\n",
    "    res_bytes = logits.reshape((BATCH_SIZE, BLOCK_SIZE, EMBEDDING_SIZE))\n",
    "    \n",
    "    res = jnp.apply_along_axis(lambda x: jnp.sum(x*mask), -1, res_bytes)\n",
    "    return res"
   ]
  },
  {
   "cell_type": "code",
   "execution_count": null,
   "metadata": {},
   "outputs": [],
   "source": [
    "test_batch = preproc_data(next(test_di))\n",
    "rng = jax.random.PRNGKey(SEED + 10)\n",
    "rng, new_rng = jax.random.split(rng)\n",
    "\n",
    "_predictions = generate_full_seq.apply(model_weights, new_rng, test_batch.inputs)\n",
    "_predictions.shape"
   ]
  },
  {
   "cell_type": "code",
   "execution_count": null,
   "metadata": {},
   "outputs": [],
   "source": [
    "context = test_batch.targets.reshape((BATCH_SIZE, BLOCK_SIZE, EMBEDDING_SIZE))\n",
    "context = jnp.apply_along_axis(lambda x: jnp.sum(x*mask), -1, context)"
   ]
  },
  {
   "cell_type": "code",
   "execution_count": null,
   "metadata": {},
   "outputs": [],
   "source": [
    "context.shape"
   ]
  },
  {
   "cell_type": "code",
   "execution_count": null,
   "metadata": {},
   "outputs": [],
   "source": [
    "print(f\"MAE ... {jnp.mean(jnp.abs(_predictions- context))}\")"
   ]
  },
  {
   "cell_type": "code",
   "execution_count": null,
   "metadata": {},
   "outputs": [],
   "source": [
    "jnp.exp(-1.6)"
   ]
  },
  {
   "cell_type": "code",
   "execution_count": null,
   "metadata": {},
   "outputs": [],
   "source": [
    "plt.figure()\n",
    "plt.plot(context[0, :150], label=\"Truth\")\n",
    "plt.plot(_predictions[0, :150], label=\"Preds\")\n",
    "plt.legend()\n",
    "plt.show()"
   ]
  },
  {
   "cell_type": "code",
   "execution_count": null,
   "metadata": {},
   "outputs": [],
   "source": [
    "half_T = (BLOCK_SIZE * 4) // 2 \n",
    "half_zeros_input = jnp.concatenate(\n",
    "    (jnp.ones((BATCH_SIZE, half_T))*PAD_TOKEN, test_batch.inputs[:, :half_T]),\n",
    "    axis=1)\n",
    "\n",
    "predictions = generate.apply(model_weights, new_rng, half_zeros_input, half_T)\n",
    "predictions.shape"
   ]
  },
  {
   "cell_type": "code",
   "execution_count": null,
   "metadata": {},
   "outputs": [],
   "source": [
    "predictions = jnp.apply_along_axis(lambda x: jnp.sum(x*mask), -1, predictions.reshape((BATCH_SIZE, 128, 4)))"
   ]
  },
  {
   "cell_type": "code",
   "execution_count": null,
   "metadata": {},
   "outputs": [],
   "source": [
    "targets = jnp.apply_along_axis(lambda x: jnp.sum(x*mask), -1, test_batch.targets.reshape((BATCH_SIZE, 256, 4)))"
   ]
  },
  {
   "cell_type": "code",
   "execution_count": null,
   "metadata": {},
   "outputs": [],
   "source": [
    "(BLOCK_SIZE * 4) - 3"
   ]
  },
  {
   "cell_type": "code",
   "execution_count": null,
   "metadata": {},
   "outputs": [],
   "source": [
    "test_data_full = sdl.edges_test_data  # (E, NUM_TEST_SAMPLES)\n",
    "print(test_data_full.shape)"
   ]
  },
  {
   "cell_type": "code",
   "execution_count": null,
   "metadata": {},
   "outputs": [],
   "source": [
    "def test_data_generator(data_full: jnp.array, rng) -> jnp.array:\n",
    "    assert data_full.ndim == 1\n",
    "    model_input_size = BLOCK_SIZE - 1\n",
    "    seq_len = data_full.shape[0]\n",
    "    \n",
    "    data_full = data_full[:BLOCK_SIZE*16].reshape((16, BLOCK_SIZE))\n",
    "\n",
    "    predictions_full = jnp.zeros((16, BLOCK_SIZE))\n",
    "    for idx in range(16):\n",
    "        print(f\"{idx}/16\")\n",
    "        rng, new_rng = jax.random.split(rng)\n",
    "        \n",
    "        context = to_bytes(data_full[idx])     \n",
    "        context = context.reshape((1, BLOCK_SIZE*EMBEDDING_SIZE))\n",
    "        context = jnp.concatenate((context, jnp.zeros((1, BLOCK_SIZE*EMBEDDING_SIZE), dtype=jnp.uint8)), axis=0)\n",
    "        b = generate_full_seq.apply(model_weights, new_rng, context)\n",
    "        predictions_full = predictions_full.at[idx].set(b[0])\n",
    "\n",
    "    return jnp.ravel(predictions_full)"
   ]
  },
  {
   "cell_type": "code",
   "execution_count": null,
   "metadata": {},
   "outputs": [],
   "source": [
    "fin_result = test_data_generator(test_data_full[0], jax.random.PRNGKey(SEED + 11))"
   ]
  },
  {
   "cell_type": "code",
   "execution_count": null,
   "metadata": {},
   "outputs": [],
   "source": [
    "plt.figure()\n",
    "plt.plot(fin_result[10300:10400])\n",
    "plt.plot(test_data_full[0, 10301:10401])\n",
    "plt.show()"
   ]
  },
  {
   "cell_type": "code",
   "execution_count": null,
   "metadata": {},
   "outputs": [],
   "source": [
    "jnp.mean(jnp.abs(fin_result[:-1] - test_data_full[0, 1:23040])).item()"
   ]
  },
  {
   "cell_type": "code",
   "execution_count": null,
   "metadata": {},
   "outputs": [],
   "source": [
    "jnp.tril(jnp.ones((10, 10)))"
   ]
  },
  {
   "cell_type": "markdown",
   "metadata": {},
   "source": [
    "### other tests"
   ]
  },
  {
   "cell_type": "markdown",
   "metadata": {},
   "source": [
    "provide only 3/4 of the context and see what happens "
   ]
  },
  {
   "cell_type": "code",
   "execution_count": null,
   "metadata": {},
   "outputs": [],
   "source": [
    "offset = test_batch.inputs.shape[1] // 4\n",
    "padded_input = jnp.pad(test_batch.inputs, ((0, 0), (offset, 0)))[:, :-offset]\n",
    "padded_input.shape"
   ]
  },
  {
   "cell_type": "code",
   "execution_count": null,
   "metadata": {},
   "outputs": [],
   "source": [
    "rng, new_rng = jax.random.split(rng)\n",
    "predictions = generate_full_seq.apply(model_weights, new_rng, padded_input)\n",
    "predictions.shape"
   ]
  },
  {
   "cell_type": "code",
   "execution_count": null,
   "metadata": {},
   "outputs": [],
   "source": [
    "plt.figure()\n",
    "plt.plot(predictions[0, 300:400])\n",
    "# plt.plot(test_batch.targets[0, 300:400])\n",
    "plt.show()"
   ]
  },
  {
   "cell_type": "code",
   "execution_count": null,
   "metadata": {},
   "outputs": [],
   "source": [
    "@hk.transform\n",
    "def sample(context: jnp.array) -> jnp.array:\n",
    "    for _ in range(4):\n",
    "        inpt_cond = context if context.shape[1] <= BLOCK_SIZE*4 - 3 else context[:, -(BLOCK_SIZE*4 - 3):]\n",
    "        inpt_cond = jnp.array(inpt_cond, dtype = jnp.uint8)\n",
    "        print(f\"0 {inpt_cond.shape}, {inpt_cond.dtype}\")\n",
    "        logits = forward(inpt_cond)\n",
    "        print(f\"1 {logits.shape}\")\n",
    "        logits = jax.random.categorical(hk.next_rng_key(), logits, axis=-1)\n",
    "        print(f\"2 {logits.shape}\")\n",
    "        context = jnp.concatenate((context, logits[:, -1:]), axis=1)\n",
    "    return context\n",
    "\n",
    "test_batch = preproc_data(next(test_di))\n",
    "logits = sample.apply(model_weights, new_rng, test_batch.inputs[:, 3:])"
   ]
  },
  {
   "cell_type": "code",
   "execution_count": null,
   "metadata": {},
   "outputs": [],
   "source": [
    "logits.shape"
   ]
  }
 ],
 "metadata": {
  "kernelspec": {
   "display_name": "Python 3 (ipykernel)",
   "language": "python",
   "name": "python3"
  },
  "language_info": {
   "codemirror_mode": {
    "name": "ipython",
    "version": 3
   },
   "file_extension": ".py",
   "mimetype": "text/x-python",
   "name": "python",
   "nbconvert_exporter": "python",
   "pygments_lexer": "ipython3",
   "version": "3.9.6"
  }
 },
 "nbformat": 4,
 "nbformat_minor": 1
}
