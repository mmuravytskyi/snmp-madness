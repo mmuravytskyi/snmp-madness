{
 "cells": [
  {
   "cell_type": "code",
   "execution_count": 1,
   "metadata": {},
   "outputs": [
    {
     "name": "stdout",
     "output_type": "stream",
     "text": [
      "/Users/nick/Dev/magisterka/venv/bin/python3\n",
      "Python 3.9.6\n"
     ]
    }
   ],
   "source": [
    "! which python3\n",
    "! python3 -V"
   ]
  },
  {
   "cell_type": "code",
   "execution_count": 2,
   "metadata": {},
   "outputs": [],
   "source": [
    "import typing as t\n",
    "import jraph\n",
    "import jax.numpy as jnp\n",
    "from jax import lax\n",
    "import networkx as nx\n",
    "import metadata\n",
    "import haiku as hk\n",
    "import utils\n",
    "import jax\n",
    "import optax"
   ]
  },
  {
   "cell_type": "code",
   "execution_count": 3,
   "metadata": {},
   "outputs": [],
   "source": [
    "WINDOW = int(31*24*60/5)\n",
    "VIS = False"
   ]
  },
  {
   "cell_type": "code",
   "execution_count": 4,
   "metadata": {},
   "outputs": [],
   "source": [
    "def create_graph_tuple(senders, receivers, edges) -> jraph.GraphsTuple:\n",
    "    return jraph.GraphsTuple(\n",
    "        nodes=None,\n",
    "        edges=edges,\n",
    "        senders=senders,\n",
    "        receivers=receivers,\n",
    "        n_node=jnp.asarray([metadata.NUM_NODES]),\n",
    "        n_edge=jnp.asarray([metadata.NUM_EDGES]),\n",
    "        globals=None)"
   ]
  },
  {
   "cell_type": "code",
   "execution_count": 5,
   "metadata": {},
   "outputs": [],
   "source": [
    "_senders = []\n",
    "_receivers = []\n",
    "\n",
    "for x, row in enumerate(metadata.ADJACENCY_MATRIX):\n",
    "    for y, _ in enumerate(row):\n",
    "        if metadata.ADJACENCY_MATRIX[x][y]:\n",
    "            _senders.append(x)\n",
    "            _receivers.append(y)\n",
    "\n",
    "senders = jnp.array(_senders)\n",
    "receivers = jnp.array(_receivers)\n",
    "nodes = jnp.array([1] * metadata.NUM_NODES)\n",
    "edges = jnp.array([1] * metadata.NUM_EDGES)\n",
    "\n",
    "graph_features = jnp.array([[1]])\n",
    "graph = create_graph_tuple(senders, receivers, edges)\n",
    "\n",
    "if VIS:\n",
    "    utils.draw_jraph_graph_structure(graph)"
   ]
  },
  {
   "attachments": {},
   "cell_type": "markdown",
   "metadata": {},
   "source": [
    "### Load data"
   ]
  },
  {
   "cell_type": "code",
   "execution_count": 6,
   "metadata": {},
   "outputs": [],
   "source": [
    "import pandas as pd"
   ]
  },
  {
   "cell_type": "code",
   "execution_count": 7,
   "metadata": {},
   "outputs": [],
   "source": [
    "df = pd.read_pickle(\"../data/samples_5m_subset_v1.pkl\")"
   ]
  },
  {
   "cell_type": "code",
   "execution_count": 8,
   "metadata": {},
   "outputs": [],
   "source": [
    "def get_data_for_link(src: str, dst: str, n: int) -> jnp.array:\n",
    "    ss: pd.Series = df[(df[\"src_host\"] == src) & (df[\"dst_host\"] == dst)]\n",
    "    return ss.incoming_rate_avg.to_numpy()[:n]"
   ]
  },
  {
   "cell_type": "code",
   "execution_count": 9,
   "metadata": {},
   "outputs": [],
   "source": [
    "_map = metadata.NODE_IDS_TO_LABELS_MAPPING\n",
    "\n",
    "_senders = []\n",
    "_receivers = []\n",
    "_edges = jnp.array([[]])\n",
    "\n",
    "for x, row in enumerate(metadata.ADJACENCY_MATRIX):\n",
    "    for y, _ in enumerate(row):\n",
    "        if metadata.ADJACENCY_MATRIX[x][y]:\n",
    "            _edges = jnp.append(_edges, \n",
    "                get_data_for_link(_map[x], _map[y], WINDOW))\n",
    "                \n",
    "            _senders.append(x)\n",
    "            _receivers.append(y)\n",
    "\n",
    "senders = jnp.array(_senders)\n",
    "receivers = jnp.array(_receivers)\n",
    "edges = jnp.array(_edges.reshape((metadata.NUM_EDGES, WINDOW)))"
   ]
  },
  {
   "cell_type": "code",
   "execution_count": 10,
   "metadata": {},
   "outputs": [],
   "source": [
    "graph = create_graph_tuple(senders, receivers, edges)"
   ]
  },
  {
   "cell_type": "code",
   "execution_count": 11,
   "metadata": {},
   "outputs": [],
   "source": [
    "if VIS:\n",
    "    utils.draw_jraph_graph_structure(graph)"
   ]
  },
  {
   "attachments": {},
   "cell_type": "markdown",
   "metadata": {},
   "source": [
    "### Model"
   ]
  },
  {
   "cell_type": "code",
   "execution_count": 38,
   "metadata": {},
   "outputs": [],
   "source": [
    "HIDDEN_SIZE = 256\n",
    "LEARNING_RATE = 1e-4\n",
    "SPLIT = 0.9\n",
    "BLOCK_SIZE = int(24*60/5)  # 1 day\n",
    "BATCH_SIZE = 32\n",
    "SEED = 1237\n",
    "NUM_TRAINING_STEPS = 500"
   ]
  },
  {
   "cell_type": "code",
   "execution_count": 13,
   "metadata": {},
   "outputs": [],
   "source": [
    "n = int(SPLIT * edges.shape[1])\n",
    "d_train = edges[0][:n]\n",
    "d_val = edges[0][n:]"
   ]
  },
  {
   "cell_type": "code",
   "execution_count": 14,
   "metadata": {},
   "outputs": [],
   "source": [
    "d_train = jnp.log(d_train)\n",
    "d_val = jnp.log(d_val)"
   ]
  },
  {
   "cell_type": "code",
   "execution_count": 15,
   "metadata": {},
   "outputs": [
    {
     "data": {
      "text/plain": [
       "((893,), (8035,), (15, 8928))"
      ]
     },
     "execution_count": 15,
     "metadata": {},
     "output_type": "execute_result"
    }
   ],
   "source": [
    "d_val.shape, d_train.shape, edges.shape"
   ]
  },
  {
   "cell_type": "code",
   "execution_count": 16,
   "metadata": {},
   "outputs": [],
   "source": [
    "class TrainingState(t.NamedTuple):\n",
    "    params: hk.Params\n",
    "    opt_state: optax.OptState\n",
    "\n",
    "class LoopValues(t.NamedTuple):\n",
    "    tokens: jnp.ndarray\n",
    "    state: t.Any\n",
    "    rng_key: jnp.ndarray\n",
    "\n",
    "Batch = t.Mapping[str, jnp.ndarray]"
   ]
  },
  {
   "cell_type": "code",
   "execution_count": 17,
   "metadata": {},
   "outputs": [],
   "source": [
    "the_seed = hk.PRNGSequence(SEED)\n",
    "\n",
    "def get_batch(split: str) -> Batch:\n",
    "    data = d_train if split == \"train\" else d_val\n",
    "    ixs = jax.random.randint(next(the_seed), (BATCH_SIZE, ), 0, len(data) - BLOCK_SIZE)\n",
    "    x = jnp.stack([data[i:i+BLOCK_SIZE] for i in ixs])\n",
    "    y = jnp.stack([data[i+1:i+BLOCK_SIZE+1] for i in ixs])\n",
    "    return {'input': x, 'target': y}"
   ]
  },
  {
   "cell_type": "code",
   "execution_count": 18,
   "metadata": {},
   "outputs": [],
   "source": [
    "expl_batch = get_batch(\"train\")"
   ]
  },
  {
   "cell_type": "code",
   "execution_count": 39,
   "metadata": {},
   "outputs": [],
   "source": [
    "def make_network() -> hk.RNNCore:\n",
    "    \"\"\"Defines the network architecture.\"\"\"\n",
    "    # model = hk.DeepRNN([\n",
    "    #    hk.Linear(HIDDEN_SIZE, name=\"linear\"),\n",
    "    #     jax.nn.relu,\n",
    "    #     hk.LSTM(HIDDEN_SIZE, name=\"lstm1\"),\n",
    "    #     jax.nn.relu,\n",
    "    #     hk.LSTM(HIDDEN_SIZE, name=\"lstm2\"),\n",
    "    #     jax.nn.relu,\n",
    "    #     hk.Linear(1),\n",
    "    # ])\n",
    "    model = hk.VanillaRNN(HIDDEN_SIZE)\n",
    "    return model\n",
    "\n",
    "def make_optimizer() -> optax.GradientTransformation:\n",
    "    \"\"\"Defines the optimizer.\"\"\"\n",
    "    return optax.adam(LEARNING_RATE)"
   ]
  },
  {
   "cell_type": "code",
   "execution_count": 40,
   "metadata": {},
   "outputs": [],
   "source": [
    "def sequence_loss(batch: Batch) -> jnp.ndarray:\n",
    "    \"\"\"Unrolls the network over a sequence of inputs & targets, gets loss.\"\"\"\n",
    "    core = make_network()\n",
    "    batch_size, sequence_length = batch['input'].shape  # (B, T) \n",
    "\n",
    "    initial_state = core.initial_state(batch_size)\n",
    "    _input = jnp.expand_dims(batch['input'], -1) # (B, T, 1) \n",
    "    \n",
    "    logits, _ = hk.dynamic_unroll(core, _input, initial_state, time_major=False)\n",
    "    # logits -> (B, T, 1)\n",
    "    loss = jnp.mean(jnp.square(logits[:, :, -1] - batch['target']))\n",
    "    return loss"
   ]
  },
  {
   "cell_type": "code",
   "execution_count": 41,
   "metadata": {},
   "outputs": [],
   "source": [
    "@jax.jit\n",
    "def update(state: TrainingState, batch: Batch) -> TrainingState:\n",
    "    \"\"\"Does a step of SGD given inputs & targets.\"\"\"\n",
    "    _, optimizer = make_optimizer()\n",
    "    _, loss_fn = hk.without_apply_rng(hk.transform(sequence_loss))\n",
    "    gradients = jax.grad(loss_fn)(state.params, batch)\n",
    "    updates, new_opt_state = optimizer(gradients, state.opt_state)\n",
    "    new_params = optax.apply_updates(state.params, updates)\n",
    "    return TrainingState(params=new_params, opt_state=new_opt_state)"
   ]
  },
  {
   "cell_type": "code",
   "execution_count": 42,
   "metadata": {},
   "outputs": [],
   "source": [
    "rng = hk.PRNGSequence(SEED)\n",
    "\n",
    "init_params_fn, loss_fn = hk.without_apply_rng(hk.transform(sequence_loss))\n",
    "initial_params = init_params_fn(next(rng), expl_batch)\n",
    "opt_init, _ = make_optimizer()\n",
    "initial_opt_state = opt_init(initial_params)\n",
    "\n",
    "# de facto initial state\n",
    "state = TrainingState(params=initial_params, opt_state=initial_opt_state)"
   ]
  },
  {
   "cell_type": "code",
   "execution_count": 43,
   "metadata": {},
   "outputs": [],
   "source": [
    "loss_fn = jax.jit(loss_fn)"
   ]
  },
  {
   "cell_type": "code",
   "execution_count": 44,
   "metadata": {},
   "outputs": [
    {
     "name": "stdout",
     "output_type": "stream",
     "text": [
      "{'step': 0, 'loss': 27.07697296142578}\n",
      "{'step': 50, 'loss': 1.893117904663086}\n",
      "{'step': 100, 'loss': 1.7854197025299072}\n",
      "{'step': 150, 'loss': 1.5991572141647339}\n",
      "{'step': 200, 'loss': 1.4713588953018188}\n",
      "{'step': 250, 'loss': 1.3259913921356201}\n",
      "{'step': 300, 'loss': 1.2625882625579834}\n",
      "{'step': 350, 'loss': 1.2234253883361816}\n",
      "{'step': 400, 'loss': 1.1826382875442505}\n",
      "{'step': 450, 'loss': 1.1363584995269775}\n"
     ]
    }
   ],
   "source": [
    "state = update(state, expl_batch)\n",
    "\n",
    "for step in range(NUM_TRAINING_STEPS):\n",
    "    train_batch = get_batch(\"train\")\n",
    "    state = update(state, train_batch)\n",
    "\n",
    "    if step % 50 == 0:\n",
    "        eval_batch = get_batch(\"eval\")\n",
    "        loss = loss_fn(state.params, eval_batch)\n",
    "        print({\n",
    "            'step': step,\n",
    "            'loss': float(loss),\n",
    "        })"
   ]
  },
  {
   "attachments": {},
   "cell_type": "markdown",
   "metadata": {},
   "source": [
    "### Generating data from the model"
   ]
  },
  {
   "cell_type": "code",
   "execution_count": 25,
   "metadata": {},
   "outputs": [],
   "source": [
    "def generate(\n",
    "    rng_key: jnp.ndarray,\n",
    "    context: jnp.ndarray,\n",
    "    sample_length: int,\n",
    ") -> jnp.ndarray:\n",
    "    \"\"\"Draws samples from the model, given an initial context.\"\"\"\n",
    "    # assert context.ndim == 1  # No batching for now.\n",
    "    core = make_network()\n",
    "\n",
    "    def body_fn(t: int, v: LoopValues) -> LoopValues:\n",
    "        token = v.tokens[t]\n",
    "        next_logits, next_state = core(token, v.state)\n",
    "        key, subkey = jax.random.split(v.rng_key)\n",
    "        next_token = jax.random.categorical(subkey, next_logits, axis=-1)\n",
    "        new_tokens = v.tokens.at[t + 1].set(next_token)\n",
    "        return LoopValues(tokens=new_tokens, state=next_state, rng_key=key)\n",
    "\n",
    "    batch_size, sequence_length = context.shape  # (B, T) \n",
    "\n",
    "    _input = context\n",
    "    _input = jnp.expand_dims(context, -1) # (B, T, 1) \n",
    "    print(f\"yes {_input.shape}\")\n",
    "    \n",
    "    logits, state = hk.dynamic_unroll(core, context, \n",
    "                        core.initial_state(None), time_major=False)\n",
    "    print(2)\n",
    "    key, subkey = jax.random.split(rng_key)\n",
    "    first_token = jax.random.categorical(subkey, logits[-1])\n",
    "    tokens = jnp.zeros(sample_length, dtype=jnp.int32)\n",
    "    tokens = tokens.at[0].set(first_token)\n",
    "    initial_values = LoopValues(tokens=tokens, state=state, rng_key=key)\n",
    "    values: LoopValues = lax.fori_loop(0, sample_length, body_fn, initial_values)\n",
    "\n",
    "    return values.tokens"
   ]
  },
  {
   "cell_type": "code",
   "execution_count": 26,
   "metadata": {},
   "outputs": [],
   "source": [
    "_, sample_fn = hk.without_apply_rng(hk.transform(generate))\n",
    "sample_fn = jax.jit(sample_fn, static_argnums=[3])"
   ]
  },
  {
   "cell_type": "code",
   "execution_count": 27,
   "metadata": {},
   "outputs": [
    {
     "name": "stdout",
     "output_type": "stream",
     "text": [
      "yes (32, 288, 1)\n"
     ]
    },
    {
     "ename": "ValueError",
     "evalue": "'vanilla_rnn/linear/w' with retrieved shape (1, 64) does not match shape=[32, 64] dtype=dtype('float32')",
     "output_type": "error",
     "traceback": [
      "\u001b[0;31m---------------------------------------------------------------------------\u001b[0m",
      "\u001b[0;31mValueError\u001b[0m                                Traceback (most recent call last)",
      "Cell \u001b[0;32mIn [27], line 2\u001b[0m\n\u001b[1;32m      1\u001b[0m context \u001b[39m=\u001b[39m expl_batch[\u001b[39m'\u001b[39m\u001b[39minput\u001b[39m\u001b[39m'\u001b[39m]\n\u001b[0;32m----> 2\u001b[0m samples \u001b[39m=\u001b[39m sample_fn(state\u001b[39m.\u001b[39;49mparams, \u001b[39mnext\u001b[39;49m(rng), context, \u001b[39m10\u001b[39;49m)\n",
      "    \u001b[0;31m[... skipping hidden 11 frame]\u001b[0m\n",
      "File \u001b[0;32m~/Dev/magisterka/venv/lib/python3.9/site-packages/haiku/_src/multi_transform.py:298\u001b[0m, in \u001b[0;36mwithout_apply_rng.<locals>.apply_fn\u001b[0;34m(params, *args, **kwargs)\u001b[0m\n\u001b[1;32m    296\u001b[0m \u001b[39mdef\u001b[39;00m \u001b[39mapply_fn\u001b[39m(params, \u001b[39m*\u001b[39margs, \u001b[39m*\u001b[39m\u001b[39m*\u001b[39mkwargs):\n\u001b[1;32m    297\u001b[0m   check_rng_kwarg(kwargs)\n\u001b[0;32m--> 298\u001b[0m   \u001b[39mreturn\u001b[39;00m f\u001b[39m.\u001b[39;49mapply(params, \u001b[39mNone\u001b[39;49;00m, \u001b[39m*\u001b[39;49margs, \u001b[39m*\u001b[39;49m\u001b[39m*\u001b[39;49mkwargs)\n",
      "File \u001b[0;32m~/Dev/magisterka/venv/lib/python3.9/site-packages/haiku/_src/transform.py:128\u001b[0m, in \u001b[0;36mwithout_state.<locals>.apply_fn\u001b[0;34m(params, *args, **kwargs)\u001b[0m\n\u001b[1;32m    121\u001b[0m \u001b[39mif\u001b[39;00m \u001b[39m\"\u001b[39m\u001b[39mstate\u001b[39m\u001b[39m\"\u001b[39m \u001b[39min\u001b[39;00m kwargs:\n\u001b[1;32m    122\u001b[0m   \u001b[39mraise\u001b[39;00m \u001b[39mTypeError\u001b[39;00m(\n\u001b[1;32m    123\u001b[0m       \u001b[39m\"\u001b[39m\u001b[39mHaiku transform adds three arguments (params, state, rng) to apply. \u001b[39m\u001b[39m\"\u001b[39m\n\u001b[1;32m    124\u001b[0m       \u001b[39m\"\u001b[39m\u001b[39mIf the functions you are transforming use the same names you must \u001b[39m\u001b[39m\"\u001b[39m\n\u001b[1;32m    125\u001b[0m       \u001b[39m\"\u001b[39m\u001b[39mpass them positionally (e.g. `f.apply(.., my_state)` and not by \u001b[39m\u001b[39m\"\u001b[39m\n\u001b[1;32m    126\u001b[0m       \u001b[39m\"\u001b[39m\u001b[39mname (e.g. `f.apply(.., state=my_state)`)\u001b[39m\u001b[39m\"\u001b[39m)\n\u001b[0;32m--> 128\u001b[0m out, state \u001b[39m=\u001b[39m f\u001b[39m.\u001b[39;49mapply(params, {}, \u001b[39m*\u001b[39;49margs, \u001b[39m*\u001b[39;49m\u001b[39m*\u001b[39;49mkwargs)\n\u001b[1;32m    129\u001b[0m \u001b[39mif\u001b[39;00m state:\n\u001b[1;32m    130\u001b[0m   \u001b[39mraise\u001b[39;00m \u001b[39mValueError\u001b[39;00m(\u001b[39m\"\u001b[39m\u001b[39mIf your transformed function uses `hk.\u001b[39m\u001b[39m{\u001b[39m\u001b[39mget,set}_state` \u001b[39m\u001b[39m\"\u001b[39m\n\u001b[1;32m    131\u001b[0m                    \u001b[39m\"\u001b[39m\u001b[39mthen use `hk.transform_with_state`.\u001b[39m\u001b[39m\"\u001b[39m)\n",
      "File \u001b[0;32m~/Dev/magisterka/venv/lib/python3.9/site-packages/haiku/_src/transform.py:357\u001b[0m, in \u001b[0;36mtransform_with_state.<locals>.apply_fn\u001b[0;34m(params, state, rng, *args, **kwargs)\u001b[0m\n\u001b[1;32m    355\u001b[0m \u001b[39mwith\u001b[39;00m base\u001b[39m.\u001b[39mnew_context(params\u001b[39m=\u001b[39mparams, state\u001b[39m=\u001b[39mstate, rng\u001b[39m=\u001b[39mrng) \u001b[39mas\u001b[39;00m ctx:\n\u001b[1;32m    356\u001b[0m   \u001b[39mtry\u001b[39;00m:\n\u001b[0;32m--> 357\u001b[0m     out \u001b[39m=\u001b[39m f(\u001b[39m*\u001b[39;49margs, \u001b[39m*\u001b[39;49m\u001b[39m*\u001b[39;49mkwargs)\n\u001b[1;32m    358\u001b[0m   \u001b[39mexcept\u001b[39;00m jax\u001b[39m.\u001b[39merrors\u001b[39m.\u001b[39mUnexpectedTracerError \u001b[39mas\u001b[39;00m e:\n\u001b[1;32m    359\u001b[0m     \u001b[39mraise\u001b[39;00m jax\u001b[39m.\u001b[39merrors\u001b[39m.\u001b[39mUnexpectedTracerError(unexpected_tracer_hint) \u001b[39mfrom\u001b[39;00m \u001b[39me\u001b[39;00m\n",
      "Cell \u001b[0;32mIn [25], line 24\u001b[0m, in \u001b[0;36mgenerate\u001b[0;34m(rng_key, context, sample_length)\u001b[0m\n\u001b[1;32m     21\u001b[0m _input \u001b[39m=\u001b[39m jnp\u001b[39m.\u001b[39mexpand_dims(context, \u001b[39m-\u001b[39m\u001b[39m1\u001b[39m) \u001b[39m# (B, T, 1) \u001b[39;00m\n\u001b[1;32m     22\u001b[0m \u001b[39mprint\u001b[39m(\u001b[39mf\u001b[39m\u001b[39m\"\u001b[39m\u001b[39myes \u001b[39m\u001b[39m{\u001b[39;00m_input\u001b[39m.\u001b[39mshape\u001b[39m}\u001b[39;00m\u001b[39m\"\u001b[39m)\n\u001b[0;32m---> 24\u001b[0m logits, state \u001b[39m=\u001b[39m hk\u001b[39m.\u001b[39;49mdynamic_unroll(core, context, \n\u001b[1;32m     25\u001b[0m                     core\u001b[39m.\u001b[39;49minitial_state(\u001b[39mNone\u001b[39;49;00m), time_major\u001b[39m=\u001b[39;49m\u001b[39mFalse\u001b[39;49;00m)\n\u001b[1;32m     26\u001b[0m \u001b[39mprint\u001b[39m(\u001b[39m2\u001b[39m)\n\u001b[1;32m     27\u001b[0m key, subkey \u001b[39m=\u001b[39m jax\u001b[39m.\u001b[39mrandom\u001b[39m.\u001b[39msplit(rng_key)\n",
      "File \u001b[0;32m~/Dev/magisterka/venv/lib/python3.9/site-packages/haiku/_src/recurrent.py:199\u001b[0m, in \u001b[0;36mdynamic_unroll\u001b[0;34m(core, input_sequence, initial_state, time_major, reverse, return_all_states, unroll)\u001b[0m\n\u001b[1;32m    196\u001b[0m \u001b[39mif\u001b[39;00m \u001b[39mnot\u001b[39;00m time_major:\n\u001b[1;32m    197\u001b[0m   input_sequence \u001b[39m=\u001b[39m _swap_batch_time(input_sequence)\n\u001b[0;32m--> 199\u001b[0m scan_result \u001b[39m=\u001b[39m scan(\n\u001b[1;32m    200\u001b[0m     scan_f, initial_state, input_sequence, reverse\u001b[39m=\u001b[39;49mreverse, unroll\u001b[39m=\u001b[39;49munroll)\n\u001b[1;32m    201\u001b[0m \u001b[39mif\u001b[39;00m return_all_states:\n\u001b[1;32m    202\u001b[0m   _, (output_sequence, state_sequence) \u001b[39m=\u001b[39m scan_result\n",
      "File \u001b[0;32m~/Dev/magisterka/venv/lib/python3.9/site-packages/haiku/_src/stateful.py:640\u001b[0m, in \u001b[0;36mscan\u001b[0;34m(f, init, xs, length, reverse, unroll)\u001b[0m\n\u001b[1;32m    634\u001b[0m \u001b[39m# We know that we don't need to thread params in and out, since for init we\u001b[39;00m\n\u001b[1;32m    635\u001b[0m \u001b[39m# have already created them (given that above we unroll one step of the scan)\u001b[39;00m\n\u001b[1;32m    636\u001b[0m \u001b[39m# and for apply we know they are immutable. As such we only need to thread the\u001b[39;00m\n\u001b[1;32m    637\u001b[0m \u001b[39m# state and rng in and out.\u001b[39;00m\n\u001b[1;32m    639\u001b[0m init \u001b[39m=\u001b[39m (init, internal_state(params\u001b[39m=\u001b[39m\u001b[39mFalse\u001b[39;00m))\n\u001b[0;32m--> 640\u001b[0m (carry, state), ys \u001b[39m=\u001b[39m jax\u001b[39m.\u001b[39;49mlax\u001b[39m.\u001b[39;49mscan(\n\u001b[1;32m    641\u001b[0m     stateful_fun, init, xs, length, reverse, unroll\u001b[39m=\u001b[39;49munroll)\n\u001b[1;32m    642\u001b[0m update_internal_state(state)\n\u001b[1;32m    644\u001b[0m \u001b[39mif\u001b[39;00m running_init_fn:\n",
      "    \u001b[0;31m[... skipping hidden 9 frame]\u001b[0m\n",
      "File \u001b[0;32m~/Dev/magisterka/venv/lib/python3.9/site-packages/haiku/_src/stateful.py:623\u001b[0m, in \u001b[0;36mscan.<locals>.stateful_fun\u001b[0;34m(carry, x)\u001b[0m\n\u001b[1;32m    620\u001b[0m \u001b[39mwith\u001b[39;00m temporary_internal_state(state):\n\u001b[1;32m    621\u001b[0m   \u001b[39mwith\u001b[39;00m base\u001b[39m.\u001b[39massert_no_new_parameters(), \\\n\u001b[1;32m    622\u001b[0m        base\u001b[39m.\u001b[39mpush_jax_trace_level():\n\u001b[0;32m--> 623\u001b[0m     carry, out \u001b[39m=\u001b[39m f(carry, x)\n\u001b[1;32m    624\u001b[0m   reserve_up_to_full_rng_block()\n\u001b[1;32m    625\u001b[0m   carry \u001b[39m=\u001b[39m (carry, internal_state(params\u001b[39m=\u001b[39m\u001b[39mFalse\u001b[39;00m))\n",
      "File \u001b[0;32m~/Dev/magisterka/venv/lib/python3.9/site-packages/haiku/_src/recurrent.py:190\u001b[0m, in \u001b[0;36mdynamic_unroll.<locals>.scan_f\u001b[0;34m(prev_state, inputs)\u001b[0m\n\u001b[1;32m    189\u001b[0m \u001b[39mdef\u001b[39;00m \u001b[39mscan_f\u001b[39m(prev_state, inputs):\n\u001b[0;32m--> 190\u001b[0m   outputs, next_state \u001b[39m=\u001b[39m core(inputs, prev_state)\n\u001b[1;32m    191\u001b[0m   \u001b[39mif\u001b[39;00m return_all_states:\n\u001b[1;32m    192\u001b[0m     \u001b[39mreturn\u001b[39;00m next_state, (outputs, next_state)\n",
      "File \u001b[0;32m~/Dev/magisterka/venv/lib/python3.9/site-packages/haiku/_src/module.py:426\u001b[0m, in \u001b[0;36mwrap_method.<locals>.wrapped\u001b[0;34m(self, *args, **kwargs)\u001b[0m\n\u001b[1;32m    423\u001b[0m   \u001b[39mif\u001b[39;00m method_name \u001b[39m!=\u001b[39m \u001b[39m\"\u001b[39m\u001b[39m__call__\u001b[39m\u001b[39m\"\u001b[39m:\n\u001b[1;32m    424\u001b[0m     f \u001b[39m=\u001b[39m jax\u001b[39m.\u001b[39mnamed_call(f, name\u001b[39m=\u001b[39mmethod_name)\n\u001b[0;32m--> 426\u001b[0m out \u001b[39m=\u001b[39m f(\u001b[39m*\u001b[39;49margs, \u001b[39m*\u001b[39;49m\u001b[39m*\u001b[39;49mkwargs)\n\u001b[1;32m    428\u001b[0m \u001b[39m# Module names are set in the constructor. If `f` is the constructor then\u001b[39;00m\n\u001b[1;32m    429\u001b[0m \u001b[39m# its name will only be set **after** `f` has run. For methods other\u001b[39;00m\n\u001b[1;32m    430\u001b[0m \u001b[39m# than `__init__` we need the name before running in order to wrap their\u001b[39;00m\n\u001b[1;32m    431\u001b[0m \u001b[39m# execution with `named_call`.\u001b[39;00m\n\u001b[1;32m    432\u001b[0m \u001b[39mif\u001b[39;00m module_name \u001b[39mis\u001b[39;00m \u001b[39mNone\u001b[39;00m:\n",
      "File \u001b[0;32m/Library/Developer/CommandLineTools/Library/Frameworks/Python3.framework/Versions/3.9/lib/python3.9/contextlib.py:79\u001b[0m, in \u001b[0;36mContextDecorator.__call__.<locals>.inner\u001b[0;34m(*args, **kwds)\u001b[0m\n\u001b[1;32m     76\u001b[0m \u001b[39m@wraps\u001b[39m(func)\n\u001b[1;32m     77\u001b[0m \u001b[39mdef\u001b[39;00m \u001b[39minner\u001b[39m(\u001b[39m*\u001b[39margs, \u001b[39m*\u001b[39m\u001b[39m*\u001b[39mkwds):\n\u001b[1;32m     78\u001b[0m     \u001b[39mwith\u001b[39;00m \u001b[39mself\u001b[39m\u001b[39m.\u001b[39m_recreate_cm():\n\u001b[0;32m---> 79\u001b[0m         \u001b[39mreturn\u001b[39;00m func(\u001b[39m*\u001b[39;49margs, \u001b[39m*\u001b[39;49m\u001b[39m*\u001b[39;49mkwds)\n",
      "File \u001b[0;32m~/Dev/magisterka/venv/lib/python3.9/site-packages/haiku/_src/module.py:272\u001b[0m, in \u001b[0;36mrun_interceptors\u001b[0;34m(bound_method, method_name, self, *args, **kwargs)\u001b[0m\n\u001b[1;32m    270\u001b[0m \u001b[39m\"\"\"Runs any method interceptors or the original method.\"\"\"\u001b[39;00m\n\u001b[1;32m    271\u001b[0m \u001b[39mif\u001b[39;00m \u001b[39mnot\u001b[39;00m interceptor_stack:\n\u001b[0;32m--> 272\u001b[0m   \u001b[39mreturn\u001b[39;00m bound_method(\u001b[39m*\u001b[39;49margs, \u001b[39m*\u001b[39;49m\u001b[39m*\u001b[39;49mkwargs)\n\u001b[1;32m    274\u001b[0m ctx \u001b[39m=\u001b[39m MethodContext(module\u001b[39m=\u001b[39m\u001b[39mself\u001b[39m,\n\u001b[1;32m    275\u001b[0m                     method_name\u001b[39m=\u001b[39mmethod_name,\n\u001b[1;32m    276\u001b[0m                     orig_method\u001b[39m=\u001b[39mbound_method)\n\u001b[1;32m    277\u001b[0m interceptor_stack_copy \u001b[39m=\u001b[39m interceptor_stack\u001b[39m.\u001b[39mclone()\n",
      "File \u001b[0;32m~/Dev/magisterka/venv/lib/python3.9/site-packages/haiku/_src/recurrent.py:258\u001b[0m, in \u001b[0;36mVanillaRNN.__call__\u001b[0;34m(self, inputs, prev_state)\u001b[0m\n\u001b[1;32m    256\u001b[0m \u001b[39m# TODO(b/173771088): Consider changing default to double_bias=False.\u001b[39;00m\n\u001b[1;32m    257\u001b[0m hidden_to_hidden \u001b[39m=\u001b[39m hk\u001b[39m.\u001b[39mLinear(\u001b[39mself\u001b[39m\u001b[39m.\u001b[39mhidden_size, with_bias\u001b[39m=\u001b[39m\u001b[39mself\u001b[39m\u001b[39m.\u001b[39mdouble_bias)\n\u001b[0;32m--> 258\u001b[0m out \u001b[39m=\u001b[39m jax\u001b[39m.\u001b[39mnn\u001b[39m.\u001b[39mrelu(input_to_hidden(inputs) \u001b[39m+\u001b[39m hidden_to_hidden(prev_state))\n\u001b[1;32m    259\u001b[0m \u001b[39mreturn\u001b[39;00m out, out\n",
      "File \u001b[0;32m~/Dev/magisterka/venv/lib/python3.9/site-packages/haiku/_src/module.py:426\u001b[0m, in \u001b[0;36mwrap_method.<locals>.wrapped\u001b[0;34m(self, *args, **kwargs)\u001b[0m\n\u001b[1;32m    423\u001b[0m   \u001b[39mif\u001b[39;00m method_name \u001b[39m!=\u001b[39m \u001b[39m\"\u001b[39m\u001b[39m__call__\u001b[39m\u001b[39m\"\u001b[39m:\n\u001b[1;32m    424\u001b[0m     f \u001b[39m=\u001b[39m jax\u001b[39m.\u001b[39mnamed_call(f, name\u001b[39m=\u001b[39mmethod_name)\n\u001b[0;32m--> 426\u001b[0m out \u001b[39m=\u001b[39m f(\u001b[39m*\u001b[39;49margs, \u001b[39m*\u001b[39;49m\u001b[39m*\u001b[39;49mkwargs)\n\u001b[1;32m    428\u001b[0m \u001b[39m# Module names are set in the constructor. If `f` is the constructor then\u001b[39;00m\n\u001b[1;32m    429\u001b[0m \u001b[39m# its name will only be set **after** `f` has run. For methods other\u001b[39;00m\n\u001b[1;32m    430\u001b[0m \u001b[39m# than `__init__` we need the name before running in order to wrap their\u001b[39;00m\n\u001b[1;32m    431\u001b[0m \u001b[39m# execution with `named_call`.\u001b[39;00m\n\u001b[1;32m    432\u001b[0m \u001b[39mif\u001b[39;00m module_name \u001b[39mis\u001b[39;00m \u001b[39mNone\u001b[39;00m:\n",
      "File \u001b[0;32m/Library/Developer/CommandLineTools/Library/Frameworks/Python3.framework/Versions/3.9/lib/python3.9/contextlib.py:79\u001b[0m, in \u001b[0;36mContextDecorator.__call__.<locals>.inner\u001b[0;34m(*args, **kwds)\u001b[0m\n\u001b[1;32m     76\u001b[0m \u001b[39m@wraps\u001b[39m(func)\n\u001b[1;32m     77\u001b[0m \u001b[39mdef\u001b[39;00m \u001b[39minner\u001b[39m(\u001b[39m*\u001b[39margs, \u001b[39m*\u001b[39m\u001b[39m*\u001b[39mkwds):\n\u001b[1;32m     78\u001b[0m     \u001b[39mwith\u001b[39;00m \u001b[39mself\u001b[39m\u001b[39m.\u001b[39m_recreate_cm():\n\u001b[0;32m---> 79\u001b[0m         \u001b[39mreturn\u001b[39;00m func(\u001b[39m*\u001b[39;49margs, \u001b[39m*\u001b[39;49m\u001b[39m*\u001b[39;49mkwds)\n",
      "File \u001b[0;32m~/Dev/magisterka/venv/lib/python3.9/site-packages/haiku/_src/module.py:272\u001b[0m, in \u001b[0;36mrun_interceptors\u001b[0;34m(bound_method, method_name, self, *args, **kwargs)\u001b[0m\n\u001b[1;32m    270\u001b[0m \u001b[39m\"\"\"Runs any method interceptors or the original method.\"\"\"\u001b[39;00m\n\u001b[1;32m    271\u001b[0m \u001b[39mif\u001b[39;00m \u001b[39mnot\u001b[39;00m interceptor_stack:\n\u001b[0;32m--> 272\u001b[0m   \u001b[39mreturn\u001b[39;00m bound_method(\u001b[39m*\u001b[39;49margs, \u001b[39m*\u001b[39;49m\u001b[39m*\u001b[39;49mkwargs)\n\u001b[1;32m    274\u001b[0m ctx \u001b[39m=\u001b[39m MethodContext(module\u001b[39m=\u001b[39m\u001b[39mself\u001b[39m,\n\u001b[1;32m    275\u001b[0m                     method_name\u001b[39m=\u001b[39mmethod_name,\n\u001b[1;32m    276\u001b[0m                     orig_method\u001b[39m=\u001b[39mbound_method)\n\u001b[1;32m    277\u001b[0m interceptor_stack_copy \u001b[39m=\u001b[39m interceptor_stack\u001b[39m.\u001b[39mclone()\n",
      "File \u001b[0;32m~/Dev/magisterka/venv/lib/python3.9/site-packages/haiku/_src/basic.py:176\u001b[0m, in \u001b[0;36mLinear.__call__\u001b[0;34m(self, inputs, precision)\u001b[0m\n\u001b[1;32m    174\u001b[0m   stddev \u001b[39m=\u001b[39m \u001b[39m1.\u001b[39m \u001b[39m/\u001b[39m np\u001b[39m.\u001b[39msqrt(\u001b[39mself\u001b[39m\u001b[39m.\u001b[39minput_size)\n\u001b[1;32m    175\u001b[0m   w_init \u001b[39m=\u001b[39m hk\u001b[39m.\u001b[39minitializers\u001b[39m.\u001b[39mTruncatedNormal(stddev\u001b[39m=\u001b[39mstddev)\n\u001b[0;32m--> 176\u001b[0m w \u001b[39m=\u001b[39m hk\u001b[39m.\u001b[39;49mget_parameter(\u001b[39m\"\u001b[39;49m\u001b[39mw\u001b[39;49m\u001b[39m\"\u001b[39;49m, [input_size, output_size], dtype, init\u001b[39m=\u001b[39;49mw_init)\n\u001b[1;32m    178\u001b[0m out \u001b[39m=\u001b[39m jnp\u001b[39m.\u001b[39mdot(inputs, w, precision\u001b[39m=\u001b[39mprecision)\n\u001b[1;32m    180\u001b[0m \u001b[39mif\u001b[39;00m \u001b[39mself\u001b[39m\u001b[39m.\u001b[39mwith_bias:\n",
      "File \u001b[0;32m~/Dev/magisterka/venv/lib/python3.9/site-packages/haiku/_src/base.py:448\u001b[0m, in \u001b[0;36mreplaceable.<locals>.wrapped\u001b[0;34m(*args, **kwargs)\u001b[0m\n\u001b[1;32m    446\u001b[0m \u001b[39m@functools\u001b[39m\u001b[39m.\u001b[39mwraps(f)\n\u001b[1;32m    447\u001b[0m \u001b[39mdef\u001b[39;00m \u001b[39mwrapped\u001b[39m(\u001b[39m*\u001b[39margs, \u001b[39m*\u001b[39m\u001b[39m*\u001b[39mkwargs):\n\u001b[0;32m--> 448\u001b[0m   \u001b[39mreturn\u001b[39;00m wrapped\u001b[39m.\u001b[39;49m_current(\u001b[39m*\u001b[39;49margs, \u001b[39m*\u001b[39;49m\u001b[39m*\u001b[39;49mkwargs)\n",
      "File \u001b[0;32m~/Dev/magisterka/venv/lib/python3.9/site-packages/haiku/_src/base.py:540\u001b[0m, in \u001b[0;36mget_parameter\u001b[0;34m(name, shape, dtype, init)\u001b[0m\n\u001b[1;32m    537\u001b[0m param \u001b[39m=\u001b[39m check_not_none(param, \u001b[39m\"\u001b[39m\u001b[39mParameters cannot be `None`.\u001b[39m\u001b[39m\"\u001b[39m)\n\u001b[1;32m    539\u001b[0m \u001b[39mif\u001b[39;00m param\u001b[39m.\u001b[39mshape \u001b[39m!=\u001b[39m \u001b[39mtuple\u001b[39m(shape):\n\u001b[0;32m--> 540\u001b[0m   \u001b[39mraise\u001b[39;00m \u001b[39mValueError\u001b[39;00m(\n\u001b[1;32m    541\u001b[0m       \u001b[39mf\u001b[39m\u001b[39m\"\u001b[39m\u001b[39m{\u001b[39;00mfq_name\u001b[39m!r}\u001b[39;00m\u001b[39m with retrieved shape \u001b[39m\u001b[39m{\u001b[39;00mparam\u001b[39m.\u001b[39mshape\u001b[39m!r}\u001b[39;00m\u001b[39m does not match \u001b[39m\u001b[39m\"\u001b[39m\n\u001b[1;32m    542\u001b[0m       \u001b[39mf\u001b[39m\u001b[39m\"\u001b[39m\u001b[39mshape=\u001b[39m\u001b[39m{\u001b[39;00mshape\u001b[39m!r}\u001b[39;00m\u001b[39m dtype=\u001b[39m\u001b[39m{\u001b[39;00mdtype\u001b[39m!r}\u001b[39;00m\u001b[39m\"\u001b[39m)\n\u001b[1;32m    544\u001b[0m \u001b[39mreturn\u001b[39;00m param\n",
      "\u001b[0;31mValueError\u001b[0m: 'vanilla_rnn/linear/w' with retrieved shape (1, 64) does not match shape=[32, 64] dtype=dtype('float32')"
     ]
    }
   ],
   "source": [
    "context = expl_batch['input']\n",
    "samples = sample_fn(state.params, next(rng), context, 10)"
   ]
  },
  {
   "attachments": {},
   "cell_type": "markdown",
   "metadata": {},
   "source": [
    "### Bad predictions"
   ]
  },
  {
   "cell_type": "code",
   "execution_count": 45,
   "metadata": {},
   "outputs": [],
   "source": [
    "def pred():\n",
    "    core = make_network()\n",
    "    # batch_size, sequence_length = context.shape  # (B, T) \n",
    "\n",
    "    initial_state = core.initial_state(32)\n",
    "    _input = jnp.expand_dims(context, -1) # (B, T, 1) \n",
    "\n",
    "    logits, _ = hk.dynamic_unroll(core, _input, initial_state, time_major=False)\n",
    "    return logits"
   ]
  },
  {
   "cell_type": "code",
   "execution_count": 46,
   "metadata": {},
   "outputs": [],
   "source": [
    "yess = hk.transform(pred)"
   ]
  },
  {
   "cell_type": "code",
   "execution_count": 47,
   "metadata": {},
   "outputs": [
    {
     "data": {
      "text/plain": [
       "(32, 288, 256)"
      ]
     },
     "execution_count": 47,
     "metadata": {},
     "output_type": "execute_result"
    }
   ],
   "source": [
    "preds = yess.apply(state.params, next(rng))\n",
    "preds.shape"
   ]
  },
  {
   "cell_type": "code",
   "execution_count": 48,
   "metadata": {},
   "outputs": [],
   "source": [
    "import plotnine as gg"
   ]
  },
  {
   "cell_type": "code",
   "execution_count": 49,
   "metadata": {},
   "outputs": [],
   "source": [
    "def plot_samples(truth: jnp.ndarray, prediction: jnp.ndarray):\n",
    "  assert truth.shape == prediction.shape\n",
    "  df = pd.DataFrame({'truth': truth.squeeze(), 'predicted': prediction.squeeze()}).reset_index()\n",
    "  df = pd.melt(df, id_vars=['index'], value_vars=['truth', 'predicted'])\n",
    "  plot = (\n",
    "      gg.ggplot(df)\n",
    "      + gg.aes(x='index', y='value', color='variable')\n",
    "      + gg.geom_line()\n",
    "  )\n",
    "  return plot"
   ]
  },
  {
   "cell_type": "code",
   "execution_count": 33,
   "metadata": {},
   "outputs": [
    {
     "data": {
      "text/plain": [
       "(32, 288)"
      ]
     },
     "execution_count": 33,
     "metadata": {},
     "output_type": "execute_result"
    }
   ],
   "source": [
    "expl_batch['target'].shape"
   ]
  },
  {
   "cell_type": "code",
   "execution_count": 50,
   "metadata": {},
   "outputs": [
    {
     "name": "stdout",
     "output_type": "stream",
     "text": [
      "{'step': 0, 'loss': 1.1202341318130493}\n",
      "{'step': 50, 'loss': 1.0953623056411743}\n",
      "{'step': 100, 'loss': 1.083993911743164}\n",
      "{'step': 150, 'loss': 1.0364179611206055}\n",
      "{'step': 200, 'loss': 1.056391716003418}\n",
      "{'step': 250, 'loss': 1.0640658140182495}\n",
      "{'step': 300, 'loss': 1.0608035326004028}\n",
      "{'step': 350, 'loss': 1.0696359872817993}\n",
      "{'step': 400, 'loss': 1.0788978338241577}\n",
      "{'step': 450, 'loss': 1.0862934589385986}\n"
     ]
    }
   ],
   "source": [
    "for step in range(NUM_TRAINING_STEPS):\n",
    "    train_batch = get_batch(\"train\")\n",
    "    state = update(state, train_batch)\n",
    "\n",
    "    if step % 50 == 0:\n",
    "        eval_batch = get_batch(\"eval\")\n",
    "        loss = loss_fn(state.params, eval_batch)\n",
    "        print({\n",
    "            'step': step,\n",
    "            'loss': float(loss),\n",
    "        })"
   ]
  },
  {
   "cell_type": "code",
   "execution_count": null,
   "metadata": {},
   "outputs": [],
   "source": [
    "batch_id = 0\n",
    "preds[batch_id, :, 0]"
   ]
  },
  {
   "cell_type": "code",
   "execution_count": 53,
   "metadata": {},
   "outputs": [
    {
     "data": {
      "image/png": "[encoded data removed]",
      "text/plain": [
       "<Figure size 640x480 with 1 Axes>"
      ]
     },
     "execution_count": 53,
     "metadata": {},
     "output_type": "execute_result"
    }
   ],
   "source": [
    "batch_id = 0\n",
    "plot = plot_samples(expl_batch['target'][batch_id, :], preds[batch_id, :, 0] + 10)\n",
    "plot.draw()"
   ]
  },
  {
   "cell_type": "code",
   "execution_count": null,
   "metadata": {},
   "outputs": [],
   "source": []
  }
 ],
 "metadata": {
  "kernelspec": {
   "display_name": "Python 3 (ipykernel)",
   "language": "python",
   "name": "python3"
  },
  "language_info": {
   "codemirror_mode": {
    "name": "ipython",
    "version": 3
   },
   "file_extension": ".py",
   "mimetype": "text/x-python",
   "name": "python",
   "nbconvert_exporter": "python",
   "pygments_lexer": "ipython3",
   "version": "3.9.6"
  },
  "orig_nbformat": 4,
  "vscode": {
   "interpreter": {
    "hash": "c94cf9b8d61ef0af6ee19adc2b2bd297d5114e58aac02f9bc6eec7d189283be5"
   }
  }
 },
 "nbformat": 4,
 "nbformat_minor": 2
}
