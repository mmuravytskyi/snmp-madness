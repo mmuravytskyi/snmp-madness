{
 "cells": [
  {
   "cell_type": "code",
   "execution_count": 1,
   "metadata": {},
   "outputs": [
    {
     "name": "stdout",
     "output_type": "stream",
     "text": [
      "/Users/nick/Dev/magisterka/venv/bin/python3\n",
      "Python 3.9.6\n"
     ]
    }
   ],
   "source": [
    "! which python3\n",
    "! python3 -V"
   ]
  },
  {
   "cell_type": "code",
   "execution_count": 2,
   "metadata": {},
   "outputs": [],
   "source": [
    "import typing as t\n",
    "import jraph\n",
    "import jax.numpy as jnp\n",
    "import plotnine as gg\n",
    "from jax import lax\n",
    "import networkx as nx\n",
    "import metadata\n",
    "import haiku as hk\n",
    "import utils\n",
    "import jax\n",
    "import optax"
   ]
  },
  {
   "cell_type": "code",
   "execution_count": 3,
   "metadata": {},
   "outputs": [],
   "source": [
    "WINDOW = int(31*24*60/5)\n",
    "VIS = False"
   ]
  },
  {
   "cell_type": "code",
   "execution_count": 4,
   "metadata": {},
   "outputs": [],
   "source": [
    "def create_graph_tuple(senders, receivers, edges) -> jraph.GraphsTuple:\n",
    "    return jraph.GraphsTuple(\n",
    "        nodes=None,\n",
    "        edges=edges,\n",
    "        senders=senders,\n",
    "        receivers=receivers,\n",
    "        n_node=jnp.asarray([metadata.NUM_NODES]),\n",
    "        n_edge=jnp.asarray([metadata.NUM_EDGES]),\n",
    "        globals=None)"
   ]
  },
  {
   "cell_type": "code",
   "execution_count": 5,
   "metadata": {},
   "outputs": [],
   "source": [
    "_senders = []\n",
    "_receivers = []\n",
    "\n",
    "for x, row in enumerate(metadata.ADJACENCY_MATRIX):\n",
    "    for y, _ in enumerate(row):\n",
    "        if metadata.ADJACENCY_MATRIX[x][y]:\n",
    "            _senders.append(x)\n",
    "            _receivers.append(y)\n",
    "\n",
    "senders = jnp.array(_senders)\n",
    "receivers = jnp.array(_receivers)\n",
    "nodes = jnp.array([1] * metadata.NUM_NODES)\n",
    "edges = jnp.array([1] * metadata.NUM_EDGES)\n",
    "\n",
    "graph_features = jnp.array([[1]])\n",
    "graph = create_graph_tuple(senders, receivers, edges)\n",
    "\n",
    "if VIS:\n",
    "    utils.draw_jraph_graph_structure(graph)"
   ]
  },
  {
   "attachments": {},
   "cell_type": "markdown",
   "metadata": {},
   "source": [
    "### Load data"
   ]
  },
  {
   "cell_type": "code",
   "execution_count": 6,
   "metadata": {},
   "outputs": [],
   "source": [
    "import pandas as pd"
   ]
  },
  {
   "cell_type": "code",
   "execution_count": 7,
   "metadata": {},
   "outputs": [],
   "source": [
    "df = pd.read_pickle(\"../data/samples_5m_subset_v1.pkl\")"
   ]
  },
  {
   "cell_type": "code",
   "execution_count": 8,
   "metadata": {},
   "outputs": [],
   "source": [
    "def get_data_for_link(src: str, dst: str, n: int) -> jnp.array:\n",
    "    ss: pd.Series = df[(df[\"src_host\"] == src) & (df[\"dst_host\"] == dst)]\n",
    "    return ss.incoming_rate_avg.to_numpy()[:n]"
   ]
  },
  {
   "cell_type": "code",
   "execution_count": 9,
   "metadata": {},
   "outputs": [],
   "source": [
    "_map = metadata.NODE_IDS_TO_LABELS_MAPPING\n",
    "\n",
    "_senders = []\n",
    "_receivers = []\n",
    "_edges = jnp.array([[]])\n",
    "\n",
    "for x, row in enumerate(metadata.ADJACENCY_MATRIX):\n",
    "    for y, _ in enumerate(row):\n",
    "        if metadata.ADJACENCY_MATRIX[x][y]:\n",
    "            _edges = jnp.append(_edges, \n",
    "                get_data_for_link(_map[x], _map[y], WINDOW))\n",
    "                \n",
    "            _senders.append(x)\n",
    "            _receivers.append(y)\n",
    "\n",
    "senders = jnp.array(_senders)\n",
    "receivers = jnp.array(_receivers)\n",
    "edges = jnp.array(_edges.reshape((metadata.NUM_EDGES, WINDOW)))"
   ]
  },
  {
   "cell_type": "code",
   "execution_count": 10,
   "metadata": {},
   "outputs": [],
   "source": [
    "graph = create_graph_tuple(senders, receivers, edges)"
   ]
  },
  {
   "cell_type": "code",
   "execution_count": 11,
   "metadata": {},
   "outputs": [],
   "source": [
    "if VIS:\n",
    "    utils.draw_jraph_graph_structure(graph)"
   ]
  },
  {
   "attachments": {},
   "cell_type": "markdown",
   "metadata": {},
   "source": [
    "### Model"
   ]
  },
  {
   "cell_type": "code",
   "execution_count": 12,
   "metadata": {},
   "outputs": [],
   "source": [
    "HIDDEN_SIZE = 256\n",
    "LEARNING_RATE = 1e-4\n",
    "SPLIT = 0.9\n",
    "BLOCK_SIZE = int(24*60/5)  # 1 day\n",
    "BATCH_SIZE = 32\n",
    "SEED = 1237\n",
    "NUM_TRAINING_STEPS = 1000"
   ]
  },
  {
   "cell_type": "code",
   "execution_count": 13,
   "metadata": {},
   "outputs": [],
   "source": [
    "n = int(SPLIT * edges.shape[1])\n",
    "d_train = edges[0][:n]\n",
    "d_val = edges[0][n:]"
   ]
  },
  {
   "cell_type": "code",
   "execution_count": 14,
   "metadata": {},
   "outputs": [],
   "source": [
    "d_train = jnp.log(d_train)\n",
    "d_val = jnp.log(d_val)"
   ]
  },
  {
   "cell_type": "code",
   "execution_count": 15,
   "metadata": {},
   "outputs": [
    {
     "data": {
      "text/plain": [
       "((893,), (8035,), (15, 8928))"
      ]
     },
     "execution_count": 15,
     "metadata": {},
     "output_type": "execute_result"
    }
   ],
   "source": [
    "d_val.shape, d_train.shape, edges.shape"
   ]
  },
  {
   "cell_type": "code",
   "execution_count": 16,
   "metadata": {},
   "outputs": [],
   "source": [
    "class TrainingState(t.NamedTuple):\n",
    "    params: hk.Params\n",
    "    opt_state: optax.OptState\n",
    "\n",
    "class LoopValues(t.NamedTuple):\n",
    "    tokens: jnp.ndarray\n",
    "    state: t.Any\n",
    "    rng_key: jnp.ndarray\n",
    "\n",
    "Batch = t.Mapping[str, jnp.ndarray]"
   ]
  },
  {
   "cell_type": "code",
   "execution_count": 17,
   "metadata": {},
   "outputs": [],
   "source": [
    "the_seed = hk.PRNGSequence(SEED)\n",
    "\n",
    "def get_batch(split: str) -> Batch:\n",
    "    data = d_train if split == \"train\" else d_val\n",
    "    ixs = jax.random.randint(next(the_seed), (BATCH_SIZE, ), 0, len(data) - BLOCK_SIZE)\n",
    "    x = jnp.stack([data[i:i+BLOCK_SIZE] for i in ixs])\n",
    "    y = jnp.stack([data[i+1:i+BLOCK_SIZE+1] for i in ixs])\n",
    "    return {'input': x, 'target': y}"
   ]
  },
  {
   "cell_type": "code",
   "execution_count": 18,
   "metadata": {},
   "outputs": [],
   "source": [
    "expl_batch = get_batch(\"train\")"
   ]
  },
  {
   "cell_type": "code",
   "execution_count": 19,
   "metadata": {},
   "outputs": [],
   "source": [
    "def make_network() -> hk.Module:\n",
    "    \"\"\"Defines the network architecture.\"\"\"\n",
    "    model = hk.VanillaRNN(HIDDEN_SIZE)\n",
    "    return model\n",
    "\n",
    "def make_optimizer() -> optax.GradientTransformation:\n",
    "    \"\"\"Defines the optimizer.\"\"\"\n",
    "    return optax.adam(LEARNING_RATE)"
   ]
  },
  {
   "cell_type": "code",
   "execution_count": 20,
   "metadata": {},
   "outputs": [],
   "source": [
    "def sequence_loss(batch: Batch) -> jnp.ndarray:\n",
    "    \"\"\"Unrolls the network over a sequence of inputs & targets, gets loss.\"\"\"\n",
    "    core = make_network()\n",
    "    batch_size, sequence_length = batch['input'].shape  # (B, T) \n",
    "\n",
    "    initial_state = core.initial_state(batch_size)\n",
    "    _input = jnp.expand_dims(batch['input'], -1) # (B, T, 1) \n",
    "    \n",
    "    logits, _ = hk.dynamic_unroll(core, _input, initial_state, time_major=False)\n",
    "    # logits -> (B, T, 1)\n",
    "    loss = jnp.mean(jnp.square(logits[:, :, -1] - batch['target']))\n",
    "    return loss"
   ]
  },
  {
   "cell_type": "code",
   "execution_count": 21,
   "metadata": {},
   "outputs": [],
   "source": [
    "@jax.jit\n",
    "def update(state: TrainingState, batch: Batch) -> TrainingState:\n",
    "    \"\"\"Does a step of SGD given inputs & targets.\"\"\"\n",
    "    _, optimizer = make_optimizer()\n",
    "    _, loss_fn = hk.without_apply_rng(hk.transform(sequence_loss))\n",
    "    gradients = jax.grad(loss_fn)(state.params, batch)\n",
    "    updates, new_opt_state = optimizer(gradients, state.opt_state)\n",
    "    new_params = optax.apply_updates(state.params, updates)\n",
    "    return TrainingState(params=new_params, opt_state=new_opt_state)"
   ]
  },
  {
   "cell_type": "code",
   "execution_count": 22,
   "metadata": {},
   "outputs": [],
   "source": [
    "rng = hk.PRNGSequence(SEED)\n",
    "\n",
    "init_params_fn, loss_fn = hk.without_apply_rng(hk.transform(sequence_loss))\n",
    "initial_params = init_params_fn(next(rng), expl_batch)\n",
    "opt_init, _ = make_optimizer()\n",
    "initial_opt_state = opt_init(initial_params)\n",
    "\n",
    "# de facto initial state\n",
    "state = TrainingState(params=initial_params, opt_state=initial_opt_state)"
   ]
  },
  {
   "cell_type": "code",
   "execution_count": 23,
   "metadata": {},
   "outputs": [],
   "source": [
    "loss_fn = jax.jit(loss_fn)"
   ]
  },
  {
   "cell_type": "code",
   "execution_count": 24,
   "metadata": {},
   "outputs": [
    {
     "name": "stdout",
     "output_type": "stream",
     "text": [
      "{'step': 0, 'loss': 26.954971313476562}\n",
      "{'step': 50, 'loss': 1.9661026000976562}\n",
      "{'step': 100, 'loss': 1.745630145072937}\n",
      "{'step': 150, 'loss': 1.580053687095642}\n",
      "{'step': 200, 'loss': 1.4514918327331543}\n",
      "{'step': 250, 'loss': 1.323569893836975}\n",
      "{'step': 300, 'loss': 1.2672549486160278}\n",
      "{'step': 350, 'loss': 1.242878794670105}\n",
      "{'step': 400, 'loss': 1.1497708559036255}\n",
      "{'step': 450, 'loss': 1.121585726737976}\n",
      "{'step': 500, 'loss': 1.1114641427993774}\n",
      "{'step': 550, 'loss': 1.0418765544891357}\n",
      "{'step': 600, 'loss': 1.1071653366088867}\n",
      "{'step': 650, 'loss': 1.0555771589279175}\n",
      "{'step': 700, 'loss': 1.085044264793396}\n",
      "{'step': 750, 'loss': 1.0772420167922974}\n",
      "{'step': 800, 'loss': 1.0577820539474487}\n",
      "{'step': 850, 'loss': 1.1193467378616333}\n",
      "{'step': 900, 'loss': 1.043343186378479}\n",
      "{'step': 950, 'loss': 1.0217804908752441}\n"
     ]
    }
   ],
   "source": [
    "state = update(state, expl_batch)\n",
    "\n",
    "for step in range(NUM_TRAINING_STEPS):\n",
    "    train_batch = get_batch(\"train\")\n",
    "    state = update(state, train_batch)\n",
    "\n",
    "    if step % 50 == 0:\n",
    "        eval_batch = get_batch(\"eval\")\n",
    "        loss = loss_fn(state.params, eval_batch)\n",
    "        print({\n",
    "            'step': step,\n",
    "            'loss': float(loss),\n",
    "        })"
   ]
  },
  {
   "attachments": {},
   "cell_type": "markdown",
   "metadata": {},
   "source": [
    "### Generating data from the model"
   ]
  },
  {
   "cell_type": "code",
   "execution_count": 25,
   "metadata": {},
   "outputs": [],
   "source": [
    "def generate(\n",
    "    context: jnp.ndarray,\n",
    ") -> jnp.ndarray:\n",
    "    \"\"\"Draws samples from the model, given an initial context.\"\"\"\n",
    "    assert context.ndim == 1  # a single batch\n",
    "\n",
    "    core = make_network()\n",
    "\n",
    "    initial_state = core.initial_state(None)\n",
    "    _input = jnp.expand_dims(context, 0) # (1, T) \n",
    "    logits, _ = hk.dynamic_unroll(core, _input, initial_state, time_major=False)\n",
    "    return logits"
   ]
  },
  {
   "cell_type": "code",
   "execution_count": 26,
   "metadata": {},
   "outputs": [],
   "source": [
    "_, sample_fn = hk.without_apply_rng(hk.transform(generate))\n",
    "sample_fn = jax.jit(sample_fn)"
   ]
  },
  {
   "cell_type": "code",
   "execution_count": 31,
   "metadata": {},
   "outputs": [
    {
     "name": "stdout",
     "output_type": "stream",
     "text": [
      "(256, 288)\n"
     ]
    },
    {
     "data": {
      "image/png": "[encoded data removed]",
      "text/plain": [
       "<Figure size 640x480 with 1 Axes>"
      ]
     },
     "execution_count": 31,
     "metadata": {},
     "output_type": "execute_result"
    }
   ],
   "source": [
    "batch_id = 0\n",
    "\n",
    "context = expl_batch['input'][0, :]\n",
    "samples = sample_fn(state.params, context)\n",
    "\n",
    "plot = utils.plot_samples(expl_batch['target'][0, :], samples[-1, :])\n",
    "plot.draw()"
   ]
  }
 ],
 "metadata": {
  "kernelspec": {
   "display_name": "Python 3 (ipykernel)",
   "language": "python",
   "name": "python3"
  },
  "language_info": {
   "codemirror_mode": {
    "name": "ipython",
    "version": 3
   },
   "file_extension": ".py",
   "mimetype": "text/x-python",
   "name": "python",
   "nbconvert_exporter": "python",
   "pygments_lexer": "ipython3",
   "version": "3.9.6"
  },
  "orig_nbformat": 4,
  "vscode": {
   "interpreter": {
    "hash": "c94cf9b8d61ef0af6ee19adc2b2bd297d5114e58aac02f9bc6eec7d189283be5"
   }
  }
 },
 "nbformat": 4,
 "nbformat_minor": 2
}
