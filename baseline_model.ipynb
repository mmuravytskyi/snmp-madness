{
 "cells": [
  {
   "cell_type": "code",
   "execution_count": 106,
   "metadata": {},
   "outputs": [
    {
     "name": "stdout",
     "output_type": "stream",
     "text": [
      "/home/mykmur/dev/venv/bin/python3\r\n",
      "Python 3.8.15\r\n"
     ]
    }
   ],
   "source": [
    "! which python3\n",
    "! python3 -V"
   ]
  },
  {
   "cell_type": "code",
   "execution_count": 107,
   "metadata": {},
   "outputs": [],
   "source": [
    "import typing as t\n",
    "import jraph\n",
    "import jax.numpy as jnp\n",
    "import metadata\n",
    "import haiku as hk\n",
    "import utils\n",
    "import jax\n",
    "import optax\n",
    "import functools as ft"
   ]
  },
  {
   "cell_type": "code",
   "execution_count": 108,
   "metadata": {},
   "outputs": [],
   "source": [
    "WINDOW = int(31*12*24*60/5)\n",
    "VIS = False"
   ]
  },
  {
   "cell_type": "code",
   "execution_count": 109,
   "metadata": {},
   "outputs": [],
   "source": [
    "def create_graph_tuple(senders, receivers, edges) -> jraph.GraphsTuple:\n",
    "    return jraph.GraphsTuple(\n",
    "        nodes=None,\n",
    "        edges=edges,\n",
    "        senders=senders,\n",
    "        receivers=receivers,\n",
    "        n_node=jnp.asarray([metadata.NUM_NODES]),\n",
    "        n_edge=jnp.asarray([metadata.NUM_EDGES]),\n",
    "        globals=None)"
   ]
  },
  {
   "cell_type": "code",
   "execution_count": 110,
   "metadata": {},
   "outputs": [],
   "source": [
    "_senders = []\n",
    "_receivers = []\n",
    "\n",
    "for x, row in enumerate(metadata.ADJACENCY_MATRIX):\n",
    "    for y, _ in enumerate(row):\n",
    "        if metadata.ADJACENCY_MATRIX[x][y]:\n",
    "            _senders.append(x)\n",
    "            _receivers.append(y)\n",
    "\n",
    "senders = jnp.array(_senders)\n",
    "receivers = jnp.array(_receivers)\n",
    "nodes = jnp.array([1] * metadata.NUM_NODES)\n",
    "edges = jnp.array([1] * metadata.NUM_EDGES)\n",
    "\n",
    "graph_features = jnp.array([[1]])\n",
    "graph = create_graph_tuple(senders, receivers, edges)\n",
    "\n",
    "if VIS:\n",
    "    utils.draw_jraph_graph_structure(graph)"
   ]
  },
  {
   "cell_type": "code",
   "execution_count": 111,
   "outputs": [],
   "source": [
    "@jax.jit\n",
    "def to_bytes(arr):\n",
    "  \"\"\" Converts an array of uint32 into an array of bytes in little endian\"\"\"\n",
    "\n",
    "  @ft.partial(jax.vmap, in_axes=(None,0))\n",
    "  def _to_bytes(arr, byte_index:int):\n",
    "    mask = 0xFF << (8 * byte_index)\n",
    "    b = (arr & mask) >> 8 * byte_index\n",
    "    return  b.astype(jnp.uint8)\n",
    "\n",
    "  return _to_bytes(arr, jnp.arange(4))\n",
    "\n",
    "@ft.partial(jax.jit,static_argnames=(\"axis\"))\n",
    "def from_bytes(array,axis):\n",
    "  \"\"\" Converts an array of bytes in little endian  into an array of uint32\"\"\"\n",
    "  @ft.partial(jax.vmap,in_axes=(axis,0))\n",
    "  def _from_bytes(arr,byte_index):\n",
    "    return arr<<8*byte_index\n",
    "\n",
    "  return jnp.sum(_from_bytes(array,jnp.arange(4)),axis=axis)\n"
   ],
   "metadata": {
    "collapsed": false
   }
  },
  {
   "cell_type": "code",
   "execution_count": 112,
   "outputs": [
    {
     "data": {
      "text/plain": "Array([[1],\n       [1],\n       [0],\n       [0]], dtype=uint8)"
     },
     "execution_count": 112,
     "metadata": {},
     "output_type": "execute_result"
    }
   ],
   "source": [
    "to_bytes(jnp.array([257]))"
   ],
   "metadata": {
    "collapsed": false
   }
  },
  {
   "cell_type": "code",
   "execution_count": 113,
   "outputs": [
    {
     "data": {
      "text/plain": "Array(256, dtype=int32)"
     },
     "execution_count": 113,
     "metadata": {},
     "output_type": "execute_result"
    }
   ],
   "source": [
    "from_bytes(jnp.array([0, 1, 0, 0]), axis=0)"
   ],
   "metadata": {
    "collapsed": false
   }
  },
  {
   "attachments": {},
   "cell_type": "markdown",
   "metadata": {},
   "source": [
    "### Load data"
   ]
  },
  {
   "cell_type": "code",
   "execution_count": 114,
   "metadata": {},
   "outputs": [],
   "source": [
    "import pandas as pd"
   ]
  },
  {
   "cell_type": "code",
   "execution_count": 115,
   "metadata": {},
   "outputs": [],
   "source": [
    "df = pd.read_pickle(\"../data/samples_5m_subset_v1.pkl\")"
   ]
  },
  {
   "cell_type": "code",
   "execution_count": 116,
   "metadata": {},
   "outputs": [],
   "source": [
    "def get_data_for_link(src: str, dst: str) -> jnp.array:\n",
    "    ss: pd.Series = df[(df[\"src_host\"] == src) & (df[\"dst_host\"] == dst)]\n",
    "    return ss.incoming_rate_avg.to_numpy()"
   ]
  },
  {
   "cell_type": "code",
   "execution_count": 117,
   "metadata": {},
   "outputs": [],
   "source": [
    "_map = metadata.NODE_IDS_TO_LABELS_MAPPING\n",
    "\n",
    "_senders = []\n",
    "_receivers = []\n",
    "_edges = jnp.array([[]])\n",
    "\n",
    "for x, row in enumerate(metadata.ADJACENCY_MATRIX):\n",
    "    for y, _ in enumerate(row):\n",
    "        if metadata.ADJACENCY_MATRIX[x][y]:\n",
    "            _edges = jnp.append(_edges,\n",
    "                get_data_for_link(_map[x], _map[y]))\n",
    "                \n",
    "            _senders.append(x)\n",
    "            _receivers.append(y)\n",
    "\n",
    "senders = jnp.array(_senders)\n",
    "receivers = jnp.array(_receivers)\n",
    "edges = jnp.array(_edges.reshape((metadata.NUM_EDGES, int(len(_edges)/metadata.NUM_EDGES))), dtype=jnp.uint32)"
   ]
  },
  {
   "cell_type": "code",
   "execution_count": 118,
   "metadata": {},
   "outputs": [],
   "source": [
    "graph = create_graph_tuple(senders, receivers, edges)"
   ]
  },
  {
   "cell_type": "code",
   "execution_count": 119,
   "metadata": {},
   "outputs": [],
   "source": [
    "if VIS:\n",
    "    utils.draw_jraph_graph_structure(graph)"
   ]
  },
  {
   "attachments": {},
   "cell_type": "markdown",
   "metadata": {},
   "source": [
    "### Model"
   ]
  },
  {
   "cell_type": "code",
   "execution_count": 120,
   "metadata": {},
   "outputs": [],
   "source": [
    "HIDDEN_SIZE = 256\n",
    "LEARNING_RATE = 1e-2\n",
    "SPLIT = 0.9\n",
    "BLOCK_SIZE = int(24*60/5)  # 1 day\n",
    "BATCH_SIZE = 8\n",
    "SEED = 2137\n",
    "NUM_TRAINING_STEPS = 600\n",
    "EVAL_INTERVAL = 10"
   ]
  },
  {
   "cell_type": "code",
   "execution_count": 121,
   "metadata": {},
   "outputs": [],
   "source": [
    "n = int(SPLIT * edges.shape[1])\n",
    "d_train = edges[0][:n]\n",
    "d_val = edges[0][n:]"
   ]
  },
  {
   "cell_type": "code",
   "execution_count": 122,
   "outputs": [
    {
     "data": {
      "text/plain": "dtype('uint32')"
     },
     "execution_count": 122,
     "metadata": {},
     "output_type": "execute_result"
    }
   ],
   "source": [
    "d_train.dtype"
   ],
   "metadata": {
    "collapsed": false
   }
  },
  {
   "cell_type": "code",
   "execution_count": 123,
   "outputs": [
    {
     "data": {
      "text/plain": "((146043, 4), (16227, 4))"
     },
     "execution_count": 123,
     "metadata": {},
     "output_type": "execute_result"
    }
   ],
   "source": [
    "d_train_emb = to_bytes(d_train).T\n",
    "d_val_emb = to_bytes(d_val).T\n",
    "\n",
    "d_train_emb.shape, d_val_emb.shape"
   ],
   "metadata": {
    "collapsed": false
   }
  },
  {
   "cell_type": "code",
   "execution_count": 124,
   "metadata": {},
   "outputs": [],
   "source": [
    "d_train = jnp.log(d_train)\n",
    "d_val = jnp.log(d_val)"
   ]
  },
  {
   "cell_type": "code",
   "execution_count": 125,
   "metadata": {},
   "outputs": [
    {
     "data": {
      "text/plain": "((16227,), (146043,), (15, 162270))"
     },
     "execution_count": 125,
     "metadata": {},
     "output_type": "execute_result"
    }
   ],
   "source": [
    "d_val.shape, d_train.shape, edges.shape"
   ]
  },
  {
   "cell_type": "code",
   "execution_count": 126,
   "metadata": {},
   "outputs": [],
   "source": [
    "class TrainingState(t.NamedTuple):\n",
    "    params: hk.Params\n",
    "    opt_state: optax.OptState\n",
    "\n",
    "class LoopValues(t.NamedTuple):\n",
    "    tokens: jnp.ndarray\n",
    "    state: t.Any\n",
    "    rng_key: jnp.ndarray\n",
    "\n",
    "Batch = t.Mapping[str, jnp.ndarray]"
   ]
  },
  {
   "cell_type": "code",
   "execution_count": 127,
   "metadata": {},
   "outputs": [],
   "source": [
    "the_seed = hk.PRNGSequence(SEED)\n",
    "\n",
    "def get_batch(split: str, emb = False) -> Batch:\n",
    "    if emb:\n",
    "        data = d_train_emb if split == \"train\" else d_val_emb\n",
    "    else:\n",
    "        data = d_train if split == \"train\" else d_val\n",
    "\n",
    "    ixs = jax.random.randint(next(the_seed), (BATCH_SIZE, ), 0, len(data) - BLOCK_SIZE)\n",
    "\n",
    "    x = jnp.stack([data[i:i+BLOCK_SIZE] for i in ixs], dtype=jnp.float32)\n",
    "    y = jnp.stack([data[i+1:i+BLOCK_SIZE+1] for i in ixs], dtype=jnp.float32)\n",
    "    return {'input': x, 'target': y}"
   ]
  },
  {
   "cell_type": "code",
   "execution_count": 128,
   "metadata": {},
   "outputs": [],
   "source": [
    "expl_batch = get_batch(\"train\", True)"
   ]
  },
  {
   "cell_type": "code",
   "execution_count": 129,
   "outputs": [
    {
     "data": {
      "text/plain": "(8, 288, 4)"
     },
     "execution_count": 129,
     "metadata": {},
     "output_type": "execute_result"
    }
   ],
   "source": [
    "expl_batch['input'].shape"
   ],
   "metadata": {
    "collapsed": false
   }
  },
  {
   "cell_type": "code",
   "execution_count": 130,
   "metadata": {},
   "outputs": [
    {
     "ename": "ValueError",
     "evalue": "If using all scalar values, you must pass an index",
     "output_type": "error",
     "traceback": [
      "\u001B[0;31m---------------------------------------------------------------------------\u001B[0m",
      "\u001B[0;31mValueError\u001B[0m                                Traceback (most recent call last)",
      "Cell \u001B[0;32mIn[130], line 2\u001B[0m\n\u001B[1;32m      1\u001B[0m _off \u001B[38;5;241m=\u001B[39m \u001B[38;5;241m30\u001B[39m\n\u001B[0;32m----> 2\u001B[0m plot \u001B[38;5;241m=\u001B[39m \u001B[43mutils\u001B[49m\u001B[38;5;241;43m.\u001B[39;49m\u001B[43mplot_samples\u001B[49m\u001B[43m(\u001B[49m\n\u001B[1;32m      3\u001B[0m \u001B[43m    \u001B[49m\u001B[43mtruth\u001B[49m\u001B[38;5;241;43m=\u001B[39;49m\u001B[43mexpl_batch\u001B[49m\u001B[43m[\u001B[49m\u001B[38;5;124;43m'\u001B[39;49m\u001B[38;5;124;43mtarget\u001B[39;49m\u001B[38;5;124;43m'\u001B[39;49m\u001B[43m]\u001B[49m\u001B[43m[\u001B[49m\u001B[38;5;241;43m0\u001B[39;49m\u001B[43m,\u001B[49m\u001B[43m \u001B[49m\u001B[43m:\u001B[49m\u001B[43m_off\u001B[49m\u001B[43m]\u001B[49m\u001B[43m,\u001B[49m\n\u001B[1;32m      4\u001B[0m \u001B[43m    \u001B[49m\u001B[43mprediction\u001B[49m\u001B[38;5;241;43m=\u001B[39;49m\u001B[43mexpl_batch\u001B[49m\u001B[43m[\u001B[49m\u001B[38;5;124;43m'\u001B[39;49m\u001B[38;5;124;43minput\u001B[39;49m\u001B[38;5;124;43m'\u001B[39;49m\u001B[43m]\u001B[49m\u001B[43m[\u001B[49m\u001B[38;5;241;43m0\u001B[39;49m\u001B[43m,\u001B[49m\u001B[43m \u001B[49m\u001B[43m:\u001B[49m\u001B[43m_off\u001B[49m\u001B[43m]\u001B[49m\u001B[43m,\u001B[49m\n\u001B[1;32m      5\u001B[0m \u001B[43m    \u001B[49m\u001B[43mtruth_label\u001B[49m\u001B[38;5;241;43m=\u001B[39;49m\u001B[38;5;124;43m'\u001B[39;49m\u001B[38;5;124;43my, target\u001B[39;49m\u001B[38;5;124;43m'\u001B[39;49m\u001B[43m,\u001B[49m\n\u001B[1;32m      6\u001B[0m \u001B[43m    \u001B[49m\u001B[43mprediction_label\u001B[49m\u001B[38;5;241;43m=\u001B[39;49m\u001B[38;5;124;43m'\u001B[39;49m\u001B[38;5;124;43mx, input\u001B[39;49m\u001B[38;5;124;43m'\u001B[39;49m\u001B[43m)\u001B[49m\n\u001B[1;32m      7\u001B[0m plot\u001B[38;5;241m.\u001B[39mdraw()\n",
      "File \u001B[0;32m~/dev/snmp-madness/utils.py:37\u001B[0m, in \u001B[0;36mplot_samples\u001B[0;34m(truth, prediction, truth_label, prediction_label)\u001B[0m\n\u001B[1;32m     34\u001B[0m \u001B[38;5;28;01mdef\u001B[39;00m \u001B[38;5;21mplot_samples\u001B[39m(truth, prediction,\n\u001B[1;32m     35\u001B[0m                  truth_label\u001B[38;5;241m=\u001B[39m\u001B[38;5;124m'\u001B[39m\u001B[38;5;124mtruth\u001B[39m\u001B[38;5;124m'\u001B[39m, prediction_label\u001B[38;5;241m=\u001B[39m\u001B[38;5;124m'\u001B[39m\u001B[38;5;124mpredicted\u001B[39m\u001B[38;5;124m'\u001B[39m):\n\u001B[1;32m     36\u001B[0m   \u001B[38;5;28;01massert\u001B[39;00m truth\u001B[38;5;241m.\u001B[39mshape \u001B[38;5;241m==\u001B[39m prediction\u001B[38;5;241m.\u001B[39mshape\n\u001B[0;32m---> 37\u001B[0m   df \u001B[38;5;241m=\u001B[39m \u001B[43mpd\u001B[49m\u001B[38;5;241;43m.\u001B[39;49m\u001B[43mDataFrame\u001B[49m\u001B[43m(\u001B[49m\u001B[43m{\u001B[49m\u001B[43mtruth_label\u001B[49m\u001B[43m:\u001B[49m\u001B[43m \u001B[49m\u001B[43mtruth\u001B[49m\u001B[38;5;241;43m.\u001B[39;49m\u001B[43msqueeze\u001B[49m\u001B[43m(\u001B[49m\u001B[43m)\u001B[49m\u001B[43m,\u001B[49m\u001B[43m \u001B[49m\u001B[43mprediction_label\u001B[49m\u001B[43m:\u001B[49m\u001B[43m \u001B[49m\u001B[43mprediction\u001B[49m\u001B[38;5;241;43m.\u001B[39;49m\u001B[43msqueeze\u001B[49m\u001B[43m(\u001B[49m\u001B[43m)\u001B[49m\u001B[43m}\u001B[49m\u001B[43m)\u001B[49m\u001B[38;5;241m.\u001B[39mreset_index()\n\u001B[1;32m     38\u001B[0m   df \u001B[38;5;241m=\u001B[39m pd\u001B[38;5;241m.\u001B[39mmelt(df, id_vars\u001B[38;5;241m=\u001B[39m[\u001B[38;5;124m'\u001B[39m\u001B[38;5;124mindex\u001B[39m\u001B[38;5;124m'\u001B[39m], value_vars\u001B[38;5;241m=\u001B[39m[truth_label, prediction_label])\n\u001B[1;32m     39\u001B[0m   plot \u001B[38;5;241m=\u001B[39m (\n\u001B[1;32m     40\u001B[0m       gg\u001B[38;5;241m.\u001B[39mggplot(df)\n\u001B[1;32m     41\u001B[0m       \u001B[38;5;241m+\u001B[39m gg\u001B[38;5;241m.\u001B[39maes(x\u001B[38;5;241m=\u001B[39m\u001B[38;5;124m'\u001B[39m\u001B[38;5;124mindex\u001B[39m\u001B[38;5;124m'\u001B[39m, y\u001B[38;5;241m=\u001B[39m\u001B[38;5;124m'\u001B[39m\u001B[38;5;124mvalue\u001B[39m\u001B[38;5;124m'\u001B[39m, color\u001B[38;5;241m=\u001B[39m\u001B[38;5;124m'\u001B[39m\u001B[38;5;124mvariable\u001B[39m\u001B[38;5;124m'\u001B[39m)\n\u001B[1;32m     42\u001B[0m       \u001B[38;5;241m+\u001B[39m gg\u001B[38;5;241m.\u001B[39mgeom_line()\n\u001B[1;32m     43\u001B[0m   )\n",
      "File \u001B[0;32m~/dev/venv/lib/python3.8/site-packages/pandas/core/frame.py:664\u001B[0m, in \u001B[0;36mDataFrame.__init__\u001B[0;34m(self, data, index, columns, dtype, copy)\u001B[0m\n\u001B[1;32m    658\u001B[0m     mgr \u001B[38;5;241m=\u001B[39m \u001B[38;5;28mself\u001B[39m\u001B[38;5;241m.\u001B[39m_init_mgr(\n\u001B[1;32m    659\u001B[0m         data, axes\u001B[38;5;241m=\u001B[39m{\u001B[38;5;124m\"\u001B[39m\u001B[38;5;124mindex\u001B[39m\u001B[38;5;124m\"\u001B[39m: index, \u001B[38;5;124m\"\u001B[39m\u001B[38;5;124mcolumns\u001B[39m\u001B[38;5;124m\"\u001B[39m: columns}, dtype\u001B[38;5;241m=\u001B[39mdtype, copy\u001B[38;5;241m=\u001B[39mcopy\n\u001B[1;32m    660\u001B[0m     )\n\u001B[1;32m    662\u001B[0m \u001B[38;5;28;01melif\u001B[39;00m \u001B[38;5;28misinstance\u001B[39m(data, \u001B[38;5;28mdict\u001B[39m):\n\u001B[1;32m    663\u001B[0m     \u001B[38;5;66;03m# GH#38939 de facto copy defaults to False only in non-dict cases\u001B[39;00m\n\u001B[0;32m--> 664\u001B[0m     mgr \u001B[38;5;241m=\u001B[39m \u001B[43mdict_to_mgr\u001B[49m\u001B[43m(\u001B[49m\u001B[43mdata\u001B[49m\u001B[43m,\u001B[49m\u001B[43m \u001B[49m\u001B[43mindex\u001B[49m\u001B[43m,\u001B[49m\u001B[43m \u001B[49m\u001B[43mcolumns\u001B[49m\u001B[43m,\u001B[49m\u001B[43m \u001B[49m\u001B[43mdtype\u001B[49m\u001B[38;5;241;43m=\u001B[39;49m\u001B[43mdtype\u001B[49m\u001B[43m,\u001B[49m\u001B[43m \u001B[49m\u001B[43mcopy\u001B[49m\u001B[38;5;241;43m=\u001B[39;49m\u001B[43mcopy\u001B[49m\u001B[43m,\u001B[49m\u001B[43m \u001B[49m\u001B[43mtyp\u001B[49m\u001B[38;5;241;43m=\u001B[39;49m\u001B[43mmanager\u001B[49m\u001B[43m)\u001B[49m\n\u001B[1;32m    665\u001B[0m \u001B[38;5;28;01melif\u001B[39;00m \u001B[38;5;28misinstance\u001B[39m(data, ma\u001B[38;5;241m.\u001B[39mMaskedArray):\n\u001B[1;32m    666\u001B[0m     \u001B[38;5;28;01mimport\u001B[39;00m \u001B[38;5;21;01mnumpy\u001B[39;00m\u001B[38;5;21;01m.\u001B[39;00m\u001B[38;5;21;01mma\u001B[39;00m\u001B[38;5;21;01m.\u001B[39;00m\u001B[38;5;21;01mmrecords\u001B[39;00m \u001B[38;5;28;01mas\u001B[39;00m \u001B[38;5;21;01mmrecords\u001B[39;00m\n",
      "File \u001B[0;32m~/dev/venv/lib/python3.8/site-packages/pandas/core/internals/construction.py:493\u001B[0m, in \u001B[0;36mdict_to_mgr\u001B[0;34m(data, index, columns, dtype, typ, copy)\u001B[0m\n\u001B[1;32m    489\u001B[0m     \u001B[38;5;28;01melse\u001B[39;00m:\n\u001B[1;32m    490\u001B[0m         \u001B[38;5;66;03m# dtype check to exclude e.g. range objects, scalars\u001B[39;00m\n\u001B[1;32m    491\u001B[0m         arrays \u001B[38;5;241m=\u001B[39m [x\u001B[38;5;241m.\u001B[39mcopy() \u001B[38;5;28;01mif\u001B[39;00m \u001B[38;5;28mhasattr\u001B[39m(x, \u001B[38;5;124m\"\u001B[39m\u001B[38;5;124mdtype\u001B[39m\u001B[38;5;124m\"\u001B[39m) \u001B[38;5;28;01melse\u001B[39;00m x \u001B[38;5;28;01mfor\u001B[39;00m x \u001B[38;5;129;01min\u001B[39;00m arrays]\n\u001B[0;32m--> 493\u001B[0m \u001B[38;5;28;01mreturn\u001B[39;00m \u001B[43marrays_to_mgr\u001B[49m\u001B[43m(\u001B[49m\u001B[43marrays\u001B[49m\u001B[43m,\u001B[49m\u001B[43m \u001B[49m\u001B[43mcolumns\u001B[49m\u001B[43m,\u001B[49m\u001B[43m \u001B[49m\u001B[43mindex\u001B[49m\u001B[43m,\u001B[49m\u001B[43m \u001B[49m\u001B[43mdtype\u001B[49m\u001B[38;5;241;43m=\u001B[39;49m\u001B[43mdtype\u001B[49m\u001B[43m,\u001B[49m\u001B[43m \u001B[49m\u001B[43mtyp\u001B[49m\u001B[38;5;241;43m=\u001B[39;49m\u001B[43mtyp\u001B[49m\u001B[43m,\u001B[49m\u001B[43m \u001B[49m\u001B[43mconsolidate\u001B[49m\u001B[38;5;241;43m=\u001B[39;49m\u001B[43mcopy\u001B[49m\u001B[43m)\u001B[49m\n",
      "File \u001B[0;32m~/dev/venv/lib/python3.8/site-packages/pandas/core/internals/construction.py:118\u001B[0m, in \u001B[0;36marrays_to_mgr\u001B[0;34m(arrays, columns, index, dtype, verify_integrity, typ, consolidate)\u001B[0m\n\u001B[1;32m    115\u001B[0m \u001B[38;5;28;01mif\u001B[39;00m verify_integrity:\n\u001B[1;32m    116\u001B[0m     \u001B[38;5;66;03m# figure out the index, if necessary\u001B[39;00m\n\u001B[1;32m    117\u001B[0m     \u001B[38;5;28;01mif\u001B[39;00m index \u001B[38;5;129;01mis\u001B[39;00m \u001B[38;5;28;01mNone\u001B[39;00m:\n\u001B[0;32m--> 118\u001B[0m         index \u001B[38;5;241m=\u001B[39m \u001B[43m_extract_index\u001B[49m\u001B[43m(\u001B[49m\u001B[43marrays\u001B[49m\u001B[43m)\u001B[49m\n\u001B[1;32m    119\u001B[0m     \u001B[38;5;28;01melse\u001B[39;00m:\n\u001B[1;32m    120\u001B[0m         index \u001B[38;5;241m=\u001B[39m ensure_index(index)\n",
      "File \u001B[0;32m~/dev/venv/lib/python3.8/site-packages/pandas/core/internals/construction.py:656\u001B[0m, in \u001B[0;36m_extract_index\u001B[0;34m(data)\u001B[0m\n\u001B[1;32m    653\u001B[0m         \u001B[38;5;28;01mraise\u001B[39;00m \u001B[38;5;167;01mValueError\u001B[39;00m(\u001B[38;5;124m\"\u001B[39m\u001B[38;5;124mPer-column arrays must each be 1-dimensional\u001B[39m\u001B[38;5;124m\"\u001B[39m)\n\u001B[1;32m    655\u001B[0m \u001B[38;5;28;01mif\u001B[39;00m \u001B[38;5;129;01mnot\u001B[39;00m indexes \u001B[38;5;129;01mand\u001B[39;00m \u001B[38;5;129;01mnot\u001B[39;00m raw_lengths:\n\u001B[0;32m--> 656\u001B[0m     \u001B[38;5;28;01mraise\u001B[39;00m \u001B[38;5;167;01mValueError\u001B[39;00m(\u001B[38;5;124m\"\u001B[39m\u001B[38;5;124mIf using all scalar values, you must pass an index\u001B[39m\u001B[38;5;124m\"\u001B[39m)\n\u001B[1;32m    658\u001B[0m \u001B[38;5;28;01melif\u001B[39;00m have_series:\n\u001B[1;32m    659\u001B[0m     index \u001B[38;5;241m=\u001B[39m union_indexes(indexes)\n",
      "\u001B[0;31mValueError\u001B[0m: If using all scalar values, you must pass an index"
     ]
    }
   ],
   "source": [
    "_off = 30\n",
    "plot = utils.plot_samples(\n",
    "    truth=expl_batch['target'][0, :_off],\n",
    "    prediction=expl_batch['input'][0, :_off],\n",
    "    truth_label='y, target',\n",
    "    prediction_label='x, input')\n",
    "plot.draw()"
   ]
  },
  {
   "cell_type": "code",
   "execution_count": 131,
   "metadata": {},
   "outputs": [],
   "source": [
    "def make_network() -> hk.Module:\n",
    "    \"\"\"Defines the network architecture.\"\"\"\n",
    "    model = hk.GRU(HIDDEN_SIZE)\n",
    "    return model\n",
    "\n",
    "def make_optimizer() -> optax.GradientTransformation:\n",
    "    \"\"\"Defines the optimizer.\"\"\"\n",
    "    return optax.adam(LEARNING_RATE)"
   ]
  },
  {
   "cell_type": "code",
   "execution_count": 171,
   "metadata": {},
   "outputs": [],
   "source": [
    "def sequence_loss(batch: Batch) -> jnp.ndarray:\n",
    "    \"\"\"Unrolls the network over a sequence of inputs & targets, gets loss.\"\"\"\n",
    "    core = make_network()\n",
    "    batch_size, sequence_length, _ = batch['input'].shape  # (B, T, F)\n",
    "\n",
    "    initial_state = core.initial_state(batch_size)\n",
    "\n",
    "    # _input = jnp.expand_dims(batch['input'], -1)  # (B, T, 1)\n",
    "    _input = batch['input']\n",
    "    # print(_input.shape)\n",
    "\n",
    "    logits, _ = hk.dynamic_unroll(core, _input, initial_state, time_major=False)  # (B, T, HIDDEN_SIZE)\n",
    "    # print(logits.shape)\n",
    "\n",
    "    logits_batched = hk.BatchApply(hk.Linear(4))(logits)  # (B, T, 4)\n",
    "    # print(logits_batched.shape)\n",
    "    # print(batch['target'].shape)\n",
    "    # dcd_target = from_bytes(jnp.array(expl_batch['target'], dtype=jnp.uint32).T, axis=0)\n",
    "    # dcd_target = from_bytes(jnp.array(expl_batch['target'], dtype=jnp.uint32).T, axis=0)\n",
    "\n",
    "    loss = jnp.mean(jnp.square(batch['target'] - logits_batched))  # MAE\n",
    "    return loss"
   ]
  },
  {
   "cell_type": "code",
   "execution_count": 172,
   "metadata": {},
   "outputs": [],
   "source": [
    "@jax.jit\n",
    "def update(state: TrainingState, batch: Batch) -> TrainingState:\n",
    "    \"\"\"Does a step of SGD given inputs & targets.\"\"\"\n",
    "    _, optimizer = make_optimizer()\n",
    "    _, loss_fn = hk.without_apply_rng(hk.transform(sequence_loss))\n",
    "    gradients = jax.grad(loss_fn)(state.params, batch)\n",
    "    updates, new_opt_state = optimizer(gradients, state.opt_state)\n",
    "    new_params = optax.apply_updates(state.params, updates)\n",
    "    return TrainingState(params=new_params, opt_state=new_opt_state)"
   ]
  },
  {
   "cell_type": "code",
   "execution_count": 173,
   "metadata": {
    "collapsed": false
   },
   "outputs": [
    {
     "data": {
      "text/plain": "(8, 288, 4)"
     },
     "execution_count": 173,
     "metadata": {},
     "output_type": "execute_result"
    }
   ],
   "source": [
    "expl_batch['target'].shape"
   ]
  },
  {
   "cell_type": "code",
   "execution_count": 174,
   "outputs": [
    {
     "data": {
      "text/plain": "(288, 8)"
     },
     "execution_count": 174,
     "metadata": {},
     "output_type": "execute_result"
    }
   ],
   "source": [
    "from_bytes(jnp.array(expl_batch['target'], dtype=jnp.uint32).T, axis=0).shape"
   ],
   "metadata": {
    "collapsed": false
   }
  },
  {
   "cell_type": "code",
   "execution_count": 175,
   "metadata": {},
   "outputs": [],
   "source": [
    "rng = hk.PRNGSequence(SEED)\n",
    "\n",
    "init_params_fn, loss_fn = hk.without_apply_rng(hk.transform(sequence_loss))\n",
    "initial_params = init_params_fn(next(rng), expl_batch)\n",
    "opt_init, _ = make_optimizer()\n",
    "initial_opt_state = opt_init(initial_params)\n",
    "\n",
    "# de facto initial state\n",
    "state = TrainingState(params=initial_params, opt_state=initial_opt_state)"
   ]
  },
  {
   "cell_type": "code",
   "execution_count": 176,
   "metadata": {},
   "outputs": [],
   "source": [
    "loss_fn = jax.jit(loss_fn)"
   ]
  },
  {
   "cell_type": "code",
   "execution_count": 177,
   "metadata": {},
   "outputs": [
    {
     "name": "stdout",
     "output_type": "stream",
     "text": [
      "{'step': 0, 'train_loss': 15733.4169921875, 'eval_loss': 15386.1357421875}\n",
      "{'step': 10, 'train_loss': 11911.796875, 'eval_loss': 12143.193359375}\n",
      "{'step': 20, 'train_loss': 8668.3896484375, 'eval_loss': 8642.7392578125}\n",
      "{'step': 30, 'train_loss': 6226.814453125, 'eval_loss': 6421.62890625}\n",
      "{'step': 40, 'train_loss': 5100.8974609375, 'eval_loss': 4963.71728515625}\n",
      "{'step': 50, 'train_loss': 4203.34375, 'eval_loss': 4306.2333984375}\n",
      "{'step': 60, 'train_loss': 3968.046142578125, 'eval_loss': 3971.805908203125}\n",
      "{'step': 70, 'train_loss': 3941.452392578125, 'eval_loss': 3786.587646484375}\n",
      "{'step': 80, 'train_loss': 4020.843017578125, 'eval_loss': 3972.061767578125}\n",
      "{'step': 90, 'train_loss': 3936.454833984375, 'eval_loss': 3834.0087890625}\n",
      "{'step': 100, 'train_loss': 3872.682373046875, 'eval_loss': 3884.456298828125}\n",
      "{'step': 110, 'train_loss': 3956.9814453125, 'eval_loss': 3925.557373046875}\n",
      "{'step': 120, 'train_loss': 3967.9853515625, 'eval_loss': 3790.15185546875}\n",
      "{'step': 130, 'train_loss': 3892.22705078125, 'eval_loss': 3896.931396484375}\n",
      "{'step': 140, 'train_loss': 3938.96435546875, 'eval_loss': 3617.624755859375}\n",
      "{'step': 150, 'train_loss': 3970.43701171875, 'eval_loss': 3888.675048828125}\n",
      "{'step': 160, 'train_loss': 3971.864501953125, 'eval_loss': 3759.8642578125}\n",
      "{'step': 170, 'train_loss': 3813.908935546875, 'eval_loss': 3876.4072265625}\n",
      "{'step': 180, 'train_loss': 3949.752197265625, 'eval_loss': 3776.349853515625}\n",
      "{'step': 190, 'train_loss': 3780.32421875, 'eval_loss': 3897.630126953125}\n",
      "{'step': 200, 'train_loss': 3954.100830078125, 'eval_loss': 3817.479248046875}\n",
      "{'step': 210, 'train_loss': 3890.815673828125, 'eval_loss': 3744.3984375}\n",
      "{'step': 220, 'train_loss': 3792.653564453125, 'eval_loss': 3873.60595703125}\n",
      "{'step': 230, 'train_loss': 4130.55419921875, 'eval_loss': 3748.08984375}\n",
      "{'step': 240, 'train_loss': 3850.22705078125, 'eval_loss': 3922.783935546875}\n",
      "{'step': 250, 'train_loss': 3777.334228515625, 'eval_loss': 3739.255615234375}\n",
      "{'step': 260, 'train_loss': 3942.280029296875, 'eval_loss': 3780.3017578125}\n",
      "{'step': 270, 'train_loss': 3856.408447265625, 'eval_loss': 3788.4150390625}\n",
      "{'step': 280, 'train_loss': 3708.86669921875, 'eval_loss': 3750.5986328125}\n",
      "{'step': 290, 'train_loss': 3906.638916015625, 'eval_loss': 3993.743896484375}\n",
      "{'step': 300, 'train_loss': 3761.290283203125, 'eval_loss': 3773.39404296875}\n",
      "{'step': 310, 'train_loss': 3830.940185546875, 'eval_loss': 3712.97216796875}\n",
      "{'step': 320, 'train_loss': 3847.286376953125, 'eval_loss': 3708.6875}\n",
      "{'step': 330, 'train_loss': 3744.31298828125, 'eval_loss': 3653.142822265625}\n",
      "{'step': 340, 'train_loss': 3598.59228515625, 'eval_loss': 3921.069580078125}\n",
      "{'step': 350, 'train_loss': 3789.438720703125, 'eval_loss': 3767.328125}\n",
      "{'step': 360, 'train_loss': 3935.475830078125, 'eval_loss': 3928.50341796875}\n",
      "{'step': 370, 'train_loss': 4018.858642578125, 'eval_loss': 3849.134033203125}\n",
      "{'step': 380, 'train_loss': 3964.598876953125, 'eval_loss': 3854.178466796875}\n",
      "{'step': 390, 'train_loss': 3807.53076171875, 'eval_loss': 3871.8955078125}\n",
      "{'step': 400, 'train_loss': 3995.1767578125, 'eval_loss': 3864.014892578125}\n",
      "{'step': 410, 'train_loss': 3945.141845703125, 'eval_loss': 3847.186767578125}\n",
      "{'step': 420, 'train_loss': 3638.887939453125, 'eval_loss': 3653.80029296875}\n",
      "{'step': 430, 'train_loss': 3729.002197265625, 'eval_loss': 3799.407958984375}\n",
      "{'step': 440, 'train_loss': 3767.89794921875, 'eval_loss': 3688.057373046875}\n",
      "{'step': 450, 'train_loss': 3755.3798828125, 'eval_loss': 3795.1337890625}\n",
      "{'step': 460, 'train_loss': 3798.24560546875, 'eval_loss': 3830.217041015625}\n",
      "{'step': 470, 'train_loss': 3747.19091796875, 'eval_loss': 3900.953125}\n",
      "{'step': 480, 'train_loss': 3707.08984375, 'eval_loss': 3672.751708984375}\n",
      "{'step': 490, 'train_loss': 3701.438720703125, 'eval_loss': 3740.9619140625}\n",
      "{'step': 500, 'train_loss': 3976.498291015625, 'eval_loss': 3868.615966796875}\n",
      "{'step': 510, 'train_loss': 3809.373291015625, 'eval_loss': 3729.7265625}\n",
      "{'step': 520, 'train_loss': 3753.37158203125, 'eval_loss': 3901.810791015625}\n",
      "{'step': 530, 'train_loss': 3598.12548828125, 'eval_loss': 3833.52685546875}\n",
      "{'step': 540, 'train_loss': 3738.564208984375, 'eval_loss': 3863.139892578125}\n",
      "{'step': 550, 'train_loss': 3679.67138671875, 'eval_loss': 3813.15673828125}\n",
      "{'step': 560, 'train_loss': 3590.514404296875, 'eval_loss': 3678.552978515625}\n",
      "{'step': 570, 'train_loss': 3622.490966796875, 'eval_loss': 3772.541748046875}\n",
      "{'step': 580, 'train_loss': 3887.858154296875, 'eval_loss': 3716.276123046875}\n",
      "{'step': 590, 'train_loss': 3632.546142578125, 'eval_loss': 3848.82763671875}\n"
     ]
    }
   ],
   "source": [
    "train_loss_all = jnp.array([])\n",
    "eval_loss_all = jnp.array([])\n",
    "\n",
    "for step in range(NUM_TRAINING_STEPS):\n",
    "    train_batch = get_batch(\"train\", True)\n",
    "    state = update(state, train_batch)\n",
    "\n",
    "    if step % EVAL_INTERVAL == 0:\n",
    "        eval_batch = get_batch(\"eval\", True)\n",
    "        train_loss = loss_fn(state.params, train_batch)\n",
    "        eval_loss = loss_fn(state.params, eval_batch)\n",
    "        train_loss_all = jnp.append(train_loss_all, train_loss)\n",
    "        eval_loss_all = jnp.append(eval_loss_all, eval_loss)\n",
    "        print({\n",
    "            'step': step,\n",
    "            'train_loss': float(train_loss),\n",
    "            'eval_loss': float(eval_loss),\n",
    "        })\n",
    "\n",
    "final_state = state"
   ]
  },
  {
   "cell_type": "code",
   "execution_count": 178,
   "metadata": {},
   "outputs": [
    {
     "data": {
      "text/plain": "<Figure size 640x480 with 1 Axes>",
      "image/png": "[encoded data removed]"
     },
     "execution_count": 178,
     "metadata": {},
     "output_type": "execute_result"
    }
   ],
   "source": [
    "plot = utils.plot_samples(\n",
    "    truth=train_loss_all, \n",
    "    prediction=eval_loss_all,\n",
    "    truth_label='train loss',\n",
    "    prediction_label='eval loss')\n",
    "plot.draw()"
   ]
  },
  {
   "attachments": {},
   "cell_type": "markdown",
   "metadata": {},
   "source": [
    "### Generating data from the model"
   ]
  },
  {
   "cell_type": "code",
   "execution_count": 179,
   "metadata": {
    "collapsed": false
   },
   "outputs": [],
   "source": [
    "def generate(context: jnp.ndarray, seq_len: int) -> jnp.array:\n",
    "    \"\"\"Draws samples from the model, given an initial context.\"\"\"\n",
    "    core = make_network()\n",
    "    dense = hk.Linear(4)\n",
    "\n",
    "    batch_size, sequence_length, feat = context.shape  # (B, T, F)\n",
    "\n",
    "    print(context.shape)\n",
    "\n",
    "    initial_state = core.initial_state(batch_size)\n",
    "\n",
    "    # _input = jnp.expand_dims(context, -1)  # (B, T, 1)\n",
    "    _input = jnp.reshape(context, (BLOCK_SIZE, 1, feat))\n",
    "\n",
    "    context_outs, state = hk.dynamic_unroll(core, _input, initial_state)\n",
    "    context_outs = hk.BatchApply(dense)(context_outs)\n",
    "\n",
    "    print(f\" Ctx: {context_outs.shape}\")\n",
    "    # Now, unroll one step at a time using the running recurrent state.\n",
    "    _outs = []\n",
    "    logits = context_outs[-1, -1]\n",
    "    print(logits.shape)\n",
    "    for _ in range(seq_len - sequence_length):\n",
    "        logits, state = core(logits, state)\n",
    "        logits = dense(logits)\n",
    "        _outs.append(logits)\n",
    "\n",
    "    return jnp.concatenate([context_outs, jnp.stack(_outs)])"
   ]
  },
  {
   "cell_type": "code",
   "execution_count": 180,
   "metadata": {},
   "outputs": [],
   "source": [
    "fast_ar_predict = hk.transform(generate)\n",
    "fast_ar_predict = jax.jit(fast_ar_predict.apply, static_argnums=3)"
   ]
  },
  {
   "cell_type": "code",
   "execution_count": 181,
   "metadata": {
    "collapsed": false
   },
   "outputs": [
    {
     "name": "stdout",
     "output_type": "stream",
     "text": [
      "(1, 288, 4)\n",
      "(1, 288, 4)\n",
      " Ctx: (288, 1, 4)\n",
      "(4,)\n"
     ]
    }
   ],
   "source": [
    "val_batch = get_batch(\"valid\", True)  # (B, T, F)\n",
    "context = val_batch[\"input\"][:1, :, :]\n",
    "print(context.shape)\n",
    "predicted = fast_ar_predict(final_state.params, None, context, 600)"
   ]
  },
  {
   "cell_type": "code",
   "execution_count": 182,
   "metadata": {
    "collapsed": false
   },
   "outputs": [
    {
     "data": {
      "text/plain": "((1, 288, 4), (600, 1, 4), (8, 288, 4))"
     },
     "execution_count": 182,
     "metadata": {},
     "output_type": "execute_result"
    }
   ],
   "source": [
    "context.shape, predicted.shape, val_batch[\"target\"].shape"
   ]
  },
  {
   "cell_type": "code",
   "execution_count": 183,
   "outputs": [
    {
     "data": {
      "text/plain": "(Array([114.23323   , 116.077324  , 117.9041    ,   0.27571738], dtype=float32),\n Array([240., 214.,  20.,   4.], dtype=float32),\n Array([ 88., 245.,  27.,   4.], dtype=float32))"
     },
     "execution_count": 183,
     "metadata": {},
     "output_type": "execute_result"
    }
   ],
   "source": [
    "predicted[0, 0, :], context[0, 0, :], val_batch[\"target\"][0, 0, :]"
   ],
   "metadata": {
    "collapsed": false
   }
  },
  {
   "cell_type": "code",
   "execution_count": 184,
   "outputs": [],
   "source": [
    "dcd_context = from_bytes(jnp.array(context[0, :, :], dtype=jnp.uint32).T, axis=0)\n",
    "dcd_target = from_bytes(jnp.array(val_batch[\"target\"][0, :, :], dtype=jnp.uint32).T, axis=0)\n",
    "dcd_preds = from_bytes(jnp.array(predicted[:, 0, :], dtype=jnp.uint32).T, axis=0)"
   ],
   "metadata": {
    "collapsed": false
   }
  },
  {
   "cell_type": "code",
   "execution_count": 185,
   "metadata": {
    "collapsed": false
   },
   "outputs": [
    {
     "name": "stdout",
     "output_type": "stream",
     "text": [
      " MAE: 26224134.0000\n",
      " MSE: 22153690.0000\n"
     ]
    }
   ],
   "source": [
    "print(f\" MAE: {jnp.mean(jnp.abs(dcd_target - dcd_preds[:BLOCK_SIZE])):.4f}\")\n",
    "print(f\" MSE: {jnp.mean(jnp.square(dcd_target - dcd_preds[:BLOCK_SIZE])):.4f}\")"
   ]
  },
  {
   "cell_type": "code",
   "execution_count": 186,
   "metadata": {
    "collapsed": false
   },
   "outputs": [
    {
     "data": {
      "text/plain": "<Figure size 640x480 with 1 Axes>",
      "image/png": "[encoded data removed]"
     },
     "execution_count": 186,
     "metadata": {},
     "output_type": "execute_result"
    }
   ],
   "source": [
    "plot = utils.plot_samples(\n",
    "    dcd_target,\n",
    "    dcd_preds[:BLOCK_SIZE],\n",
    "    truth_label='truth, target',\n",
    "    prediction_label='prediction, samples')\n",
    "plot.draw()"
   ]
  },
  {
   "cell_type": "code",
   "execution_count": null,
   "outputs": [],
   "source": [],
   "metadata": {
    "collapsed": false
   }
  }
 ],
 "metadata": {
  "kernelspec": {
   "display_name": "Python 3 (ipykernel)",
   "language": "python",
   "name": "python3"
  },
  "language_info": {
   "codemirror_mode": {
    "name": "ipython",
    "version": 3
   },
   "file_extension": ".py",
   "mimetype": "text/x-python",
   "name": "python",
   "nbconvert_exporter": "python",
   "pygments_lexer": "ipython3",
   "version": "3.9.6 (default, Oct 18 2022, 12:41:40) \n[Clang 14.0.0 (clang-1400.0.29.202)]"
  },
  "orig_nbformat": 4,
  "vscode": {
   "interpreter": {
    "hash": "c94cf9b8d61ef0af6ee19adc2b2bd297d5114e58aac02f9bc6eec7d189283be5"
   }
  }
 },
 "nbformat": 4,
 "nbformat_minor": 2
}
