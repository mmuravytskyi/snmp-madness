{
 "cells": [
  {
   "cell_type": "code",
   "execution_count": 48,
   "metadata": {},
   "outputs": [],
   "source": [
    "import os\n",
    "import matplotlib.pyplot as plt\n",
    "import pandas as pd\n",
    "import numpy as np\n",
    "\n",
    "abs_data_path = \"data/stats\"\n",
    "CONNECTIONS = [\n",
    "    # B1\n",
    "    (\"b1\", \"ftj\"),\n",
    "    (\"b1\", \"uci\"),\n",
    "    (\"b1\", \"b6\"),\n",
    "    # B6\n",
    "    (\"b6\", \"ms\"),\n",
    "    (\"b6\", \"uci\"),\n",
    "    (\"b6\", \"b1\"),\n",
    "    (\"b6\", \"ftj\"),\n",
    "    # UCI\n",
    "    (\"uci\", \"ftj\"),\n",
    "    (\"uci\", \"b1\"),\n",
    "    (\"uci\", \"b6\"),\n",
    "    (\"uci\", \"cyfronet\"),\n",
    "     # FTJ\n",
    "    (\"ftj\", \"b1\"),\n",
    "    (\"ftj\", \"uci\"),\n",
    "    (\"ftj\", \"b6\"),\n",
    "    (\"ftj\", \"cyfronet\"),\n",
    "    ]"
   ]
  },
  {
   "cell_type": "markdown",
   "metadata": {},
   "source": [
    "### TODO: \n",
    "- inverstigate this :\n",
    "```\n",
    "Num of unique collections: 284\n",
    "Num of collection files: 271\n",
    "```"
   ]
  },
  {
   "cell_type": "markdown",
   "metadata": {},
   "source": [
    "### Load a dataframe"
   ]
  },
  {
   "cell_type": "code",
   "execution_count": 49,
   "metadata": {
    "tags": [
     "data"
    ]
   },
   "outputs": [],
   "source": [
    "files_tree = {}\n",
    "\n",
    "for date_folder in os.listdir(abs_data_path):\n",
    "    if date_folder.startswith(\".\"):\n",
    "        continue\n",
    "\n",
    "    for log_file in os.listdir(abs_data_path+\"/\"+date_folder):\n",
    "        if log_file[:-4] not in files_tree:\n",
    "            files_tree[log_file[:-4]] = []\n",
    "\n",
    "        files_tree[log_file[:-4]].append(abs_data_path+\"/\"+date_folder+\"/\"+log_file)\n",
    "\n",
    "files_flat = []\n",
    "for con in files_tree:\n",
    "    files_flat += files_tree[con]\n",
    "\n",
    "files_flat = set(files_flat)\n",
    "\n"
   ]
  },
  {
   "cell_type": "code",
   "execution_count": 50,
   "metadata": {
    "tags": []
   },
   "outputs": [],
   "source": [
    "csv_headers = [\"timestamp\", \"incoming_rate_avg\", \"outgoing_rate_avg\", \"incoming_rate_max\", \"outgoing_rate_max\"]\n",
    "col_names = csv_headers + [\"collection_timestamp\", \"src_host\", \"dst_host\"]\n",
    "\n",
    "df = pd.DataFrame(columns=col_names)\n",
    "\n",
    "dfs = []\n",
    "\n",
    "for date_folder in os.listdir(abs_data_path):\n",
    "\n",
    "    if date_folder.startswith(\".\"):\n",
    "        continue\n",
    "    if date_folder == \"2020-12-13_16\":\n",
    "        continue\n",
    "\n",
    "    collection_dir_path = abs_data_path + \"/\" + date_folder\n",
    "\n",
    "    collection_times = []\n",
    "    for file_path in os.listdir(collection_dir_path):\n",
    "        data_file_path = collection_dir_path + \"/\" + file_path\n",
    "\n",
    "        with open(data_file_path) as fil:\n",
    "            firstline = fil.readline().rstrip()\n",
    "            \n",
    "        collection_times.append(firstline.split()[0])\n",
    "\n",
    "        _df = pd.read_csv(data_file_path, sep=\" \", names=csv_headers, skiprows=[0])\n",
    "\n",
    "        src_host = data_file_path.split(\"/\")[-1].split(\"-\")[0][:-3]\n",
    "        dst_host = data_file_path.split(\"/\")[-1].split(\"-\")[1][:-4]\n",
    "\n",
    "        _df[\"collection_timestamp\"] = max(set(collection_times), key = collection_times.count)\n",
    "        _df[\"src_host\"] = src_host\n",
    "        _df[\"dst_host\"] = dst_host\n",
    "\n",
    "        dfs.append(_df[1:])\n",
    "\n",
    "df = pd.concat(dfs, ignore_index=True)\n"
   ]
  },
  {
   "cell_type": "code",
   "execution_count": 51,
   "metadata": {},
   "outputs": [],
   "source": [
    "df.timestamp = pd.to_datetime(df.timestamp, unit=\"s\")\n",
    "df.collection_timestamp = pd.to_datetime(df.collection_timestamp, unit=\"s\")\n",
    "df = df.astype({\"incoming_rate_max\": np.int64, \"outgoing_rate_max\": np.int64, \"src_host\": str, \"dst_host\": str})"
   ]
  },
  {
   "cell_type": "markdown",
   "metadata": {},
   "source": [
    "### Collection time analysis"
   ]
  },
  {
   "cell_type": "code",
   "execution_count": 52,
   "metadata": {},
   "outputs": [
    {
     "name": "stdout",
     "output_type": "stream",
     "text": [
      "Num of unique collections: 282\n",
      "Num of collection files: 271\n",
      "Data collected for 526 days 23:00:01, starting from 2020-12-13 22:55:03 to 2022-05-24 21:55:04\n"
     ]
    },
    {
     "data": {
      "text/html": [
       "<div>\n",
       "<style scoped>\n",
       "    .dataframe tbody tr th:only-of-type {\n",
       "        vertical-align: middle;\n",
       "    }\n",
       "\n",
       "    .dataframe tbody tr th {\n",
       "        vertical-align: top;\n",
       "    }\n",
       "\n",
       "    .dataframe thead th {\n",
       "        text-align: right;\n",
       "    }\n",
       "</style>\n",
       "<table border=\"1\" class=\"dataframe\">\n",
       "  <thead>\n",
       "    <tr style=\"text-align: right;\">\n",
       "      <th></th>\n",
       "      <th>timestamp</th>\n",
       "      <th>incoming_rate_avg</th>\n",
       "      <th>outgoing_rate_avg</th>\n",
       "      <th>incoming_rate_max</th>\n",
       "      <th>outgoing_rate_max</th>\n",
       "      <th>collection_timestamp</th>\n",
       "      <th>src_host</th>\n",
       "      <th>dst_host</th>\n",
       "    </tr>\n",
       "  </thead>\n",
       "  <tbody>\n",
       "    <tr>\n",
       "      <th>0</th>\n",
       "      <td>2022-04-06 21:50:04</td>\n",
       "      <td>16201</td>\n",
       "      <td>4794</td>\n",
       "      <td>16201</td>\n",
       "      <td>4794</td>\n",
       "      <td>2022-04-06 21:55:03</td>\n",
       "      <td>b6</td>\n",
       "      <td>b1</td>\n",
       "    </tr>\n",
       "    <tr>\n",
       "      <th>1</th>\n",
       "      <td>2022-04-06 21:50:00</td>\n",
       "      <td>16331</td>\n",
       "      <td>4831</td>\n",
       "      <td>29239</td>\n",
       "      <td>8524</td>\n",
       "      <td>2022-04-06 21:55:03</td>\n",
       "      <td>b6</td>\n",
       "      <td>b1</td>\n",
       "    </tr>\n",
       "    <tr>\n",
       "      <th>2</th>\n",
       "      <td>2022-04-06 21:45:00</td>\n",
       "      <td>29032</td>\n",
       "      <td>8490</td>\n",
       "      <td>29239</td>\n",
       "      <td>8524</td>\n",
       "      <td>2022-04-06 21:55:03</td>\n",
       "      <td>b6</td>\n",
       "      <td>b1</td>\n",
       "    </tr>\n",
       "    <tr>\n",
       "      <th>3</th>\n",
       "      <td>2022-04-06 21:40:00</td>\n",
       "      <td>13693</td>\n",
       "      <td>5999</td>\n",
       "      <td>13745</td>\n",
       "      <td>6012</td>\n",
       "      <td>2022-04-06 21:55:03</td>\n",
       "      <td>b6</td>\n",
       "      <td>b1</td>\n",
       "    </tr>\n",
       "    <tr>\n",
       "      <th>4</th>\n",
       "      <td>2022-04-06 21:35:00</td>\n",
       "      <td>8762</td>\n",
       "      <td>4762</td>\n",
       "      <td>22377</td>\n",
       "      <td>4793</td>\n",
       "      <td>2022-04-06 21:55:03</td>\n",
       "      <td>b6</td>\n",
       "      <td>b1</td>\n",
       "    </tr>\n",
       "  </tbody>\n",
       "</table>\n",
       "</div>"
      ],
      "text/plain": [
       "            timestamp  incoming_rate_avg  outgoing_rate_avg  \\\n",
       "0 2022-04-06 21:50:04              16201               4794   \n",
       "1 2022-04-06 21:50:00              16331               4831   \n",
       "2 2022-04-06 21:45:00              29032               8490   \n",
       "3 2022-04-06 21:40:00              13693               5999   \n",
       "4 2022-04-06 21:35:00               8762               4762   \n",
       "\n",
       "   incoming_rate_max  outgoing_rate_max collection_timestamp src_host dst_host  \n",
       "0              16201               4794  2022-04-06 21:55:03       b6       b1  \n",
       "1              29239               8524  2022-04-06 21:55:03       b6       b1  \n",
       "2              29239               8524  2022-04-06 21:55:03       b6       b1  \n",
       "3              13745               6012  2022-04-06 21:55:03       b6       b1  \n",
       "4              22377               4793  2022-04-06 21:55:03       b6       b1  "
      ]
     },
     "execution_count": 52,
     "metadata": {},
     "output_type": "execute_result"
    }
   ],
   "source": [
    "print(f\"Num of unique collections: {len(df.collection_timestamp.unique())}\")\n",
    "print(f\"Num of collection files: {len([ el for el in list(os.listdir(abs_data_path)) if not el.startswith('.') ])}\")\n",
    "\n",
    "collection_days = (df.collection_timestamp.max() - df.collection_timestamp.min())\n",
    "collection_start = df.collection_timestamp.min()\n",
    "collection_end = df.collection_timestamp.max()\n",
    "print(f\"Data collected for {collection_days}, starting from {collection_start} to {collection_end}\")\n",
    "\n",
    "df.head(5)"
   ]
  },
  {
   "cell_type": "code",
   "execution_count": 53,
   "metadata": {},
   "outputs": [],
   "source": [
    "df[\"collection_interval\"] = df.timestamp.shift(periods=1) - df.timestamp"
   ]
  },
  {
   "cell_type": "code",
   "execution_count": 54,
   "metadata": {},
   "outputs": [],
   "source": [
    "# fix wrong timestamps that appeared as a result of .shift substruction\n",
    "\n",
    "df.loc[(df.collection_interval < np.timedelta64(5, \"m\"), \"collection_interval\")] = np.timedelta64(5, \"m\")\n",
    "df.loc[0, \"collection_interval\"] = np.timedelta64(5, \"m\")"
   ]
  },
  {
   "cell_type": "code",
   "execution_count": 55,
   "metadata": {},
   "outputs": [
    {
     "data": {
      "text/plain": [
       "array([300000000000], dtype='timedelta64[ns]')"
      ]
     },
     "execution_count": 55,
     "metadata": {},
     "output_type": "execute_result"
    }
   ],
   "source": [
    "# everything is uniformly spreaded - samples with 5 min intervals\n",
    "\n",
    "df.loc[df.collection_interval <= np.timedelta64(6, \"m\")].collection_interval.unique()"
   ]
  },
  {
   "cell_type": "code",
   "execution_count": 88,
   "metadata": {},
   "outputs": [],
   "source": [
    "# SAVE as a CSV for further processing\n",
    "df.loc[df.collection_interval <= np.timedelta64(6, \"m\")].to_csv(\"data/samples_5m_v1.csv\")"
   ]
  },
  {
   "cell_type": "code",
   "execution_count": 68,
   "metadata": {},
   "outputs": [],
   "source": [
    "df = df.sort_values(by=[\"collection_timestamp\", \"timestamp\"], ignore_index=True)"
   ]
  },
  {
   "cell_type": "code",
   "execution_count": 70,
   "metadata": {},
   "outputs": [
    {
     "data": {
      "text/html": [
       "<div>\n",
       "<style scoped>\n",
       "    .dataframe tbody tr th:only-of-type {\n",
       "        vertical-align: middle;\n",
       "    }\n",
       "\n",
       "    .dataframe tbody tr th {\n",
       "        vertical-align: top;\n",
       "    }\n",
       "\n",
       "    .dataframe thead th {\n",
       "        text-align: right;\n",
       "    }\n",
       "</style>\n",
       "<table border=\"1\" class=\"dataframe\">\n",
       "  <thead>\n",
       "    <tr style=\"text-align: right;\">\n",
       "      <th></th>\n",
       "      <th>timestamp</th>\n",
       "      <th>incoming_rate_avg</th>\n",
       "      <th>outgoing_rate_avg</th>\n",
       "      <th>incoming_rate_max</th>\n",
       "      <th>outgoing_rate_max</th>\n",
       "      <th>collection_timestamp</th>\n",
       "      <th>src_host</th>\n",
       "      <th>dst_host</th>\n",
       "      <th>collection_interval</th>\n",
       "    </tr>\n",
       "  </thead>\n",
       "  <tbody>\n",
       "    <tr>\n",
       "      <th>0</th>\n",
       "      <td>2018-10-10</td>\n",
       "      <td>64697</td>\n",
       "      <td>1115851</td>\n",
       "      <td>742794</td>\n",
       "      <td>2647466</td>\n",
       "      <td>2020-12-13 22:55:03</td>\n",
       "      <td>b6</td>\n",
       "      <td>b1</td>\n",
       "      <td>1 days</td>\n",
       "    </tr>\n",
       "    <tr>\n",
       "      <th>1</th>\n",
       "      <td>2018-10-10</td>\n",
       "      <td>22067585</td>\n",
       "      <td>1395227</td>\n",
       "      <td>51617147</td>\n",
       "      <td>6582025</td>\n",
       "      <td>2020-12-13 22:55:03</td>\n",
       "      <td>ftj</td>\n",
       "      <td>uci</td>\n",
       "      <td>1 days</td>\n",
       "    </tr>\n",
       "    <tr>\n",
       "      <th>2</th>\n",
       "      <td>2018-10-10</td>\n",
       "      <td>1395230</td>\n",
       "      <td>22067759</td>\n",
       "      <td>6618640</td>\n",
       "      <td>51787979</td>\n",
       "      <td>2020-12-13 22:55:03</td>\n",
       "      <td>uci</td>\n",
       "      <td>ftj</td>\n",
       "      <td>1 days</td>\n",
       "    </tr>\n",
       "    <tr>\n",
       "      <th>3</th>\n",
       "      <td>2018-10-10</td>\n",
       "      <td>45660922</td>\n",
       "      <td>12897180</td>\n",
       "      <td>137559426</td>\n",
       "      <td>57333135</td>\n",
       "      <td>2020-12-13 22:55:03</td>\n",
       "      <td>uci</td>\n",
       "      <td>cyfronet</td>\n",
       "      <td>1 days</td>\n",
       "    </tr>\n",
       "    <tr>\n",
       "      <th>4</th>\n",
       "      <td>2018-10-10</td>\n",
       "      <td>1115841</td>\n",
       "      <td>64699</td>\n",
       "      <td>2656793</td>\n",
       "      <td>742812</td>\n",
       "      <td>2020-12-13 22:55:03</td>\n",
       "      <td>b1</td>\n",
       "      <td>b6</td>\n",
       "      <td>1 days</td>\n",
       "    </tr>\n",
       "  </tbody>\n",
       "</table>\n",
       "</div>"
      ],
      "text/plain": [
       "   timestamp  incoming_rate_avg  outgoing_rate_avg  incoming_rate_max  \\\n",
       "0 2018-10-10              64697            1115851             742794   \n",
       "1 2018-10-10           22067585            1395227           51617147   \n",
       "2 2018-10-10            1395230           22067759            6618640   \n",
       "3 2018-10-10           45660922           12897180          137559426   \n",
       "4 2018-10-10            1115841              64699            2656793   \n",
       "\n",
       "   outgoing_rate_max collection_timestamp src_host  dst_host  \\\n",
       "0            2647466  2020-12-13 22:55:03       b6        b1   \n",
       "1            6582025  2020-12-13 22:55:03      ftj       uci   \n",
       "2           51787979  2020-12-13 22:55:03      uci       ftj   \n",
       "3           57333135  2020-12-13 22:55:03      uci  cyfronet   \n",
       "4             742812  2020-12-13 22:55:03       b1        b6   \n",
       "\n",
       "  collection_interval  \n",
       "0              1 days  \n",
       "1              1 days  \n",
       "2              1 days  \n",
       "3              1 days  \n",
       "4              1 days  "
      ]
     },
     "execution_count": 70,
     "metadata": {},
     "output_type": "execute_result"
    }
   ],
   "source": [
    "df.head()"
   ]
  },
  {
   "cell_type": "code",
   "execution_count": 85,
   "metadata": {},
   "outputs": [
    {
     "name": "stdout",
     "output_type": "stream",
     "text": [
      "86401000000000 nanoseconds\n",
      "172799000000000 nanoseconds\n",
      "172801000000000 nanoseconds\n",
      "3 -28799666666666 nanoseconds\n"
     ]
    }
   ],
   "source": [
    "data_collections = df.collection_timestamp.unique().copy()[:5]\n",
    "nn = 0\n",
    "diff = []\n",
    "for pos, coll in enumerate(data_collections):\n",
    "    if pos == len(data_collections)-1:\n",
    "        break\n",
    "    if data_collections[pos+1] - data_collections[pos] != np.timedelta64(2, \"D\"):\n",
    "        print(data_collections[pos+1] - data_collections[pos])\n",
    "        nn+=1\n",
    "        diff.append(data_collections[pos+1] - data_collections[pos] - np.timedelta64(2, \"D\"))\n",
    "\n",
    "print(nn, np.array(diff).mean())"
   ]
  },
  {
   "cell_type": "code",
   "execution_count": null,
   "metadata": {},
   "outputs": [],
   "source": [
    "for collection in df.collection_timestamp.unique()[:3]:\n",
    "    print(collection)\n",
    "    for con in CONNECTIONS[:3]:\n",
    "        print(con)\n",
    "        print(df.loc[\n",
    "            (df.collection_timestamp == collection) & \\\n",
    "            (df.src_host == con[0]) &\n",
    "            (df.dst_host == con[1])\n",
    "        ])\n"
   ]
  },
  {
   "cell_type": "markdown",
   "metadata": {},
   "source": [
    "### Wierd code, mostly tests"
   ]
  },
  {
   "cell_type": "code",
   "execution_count": 58,
   "metadata": {},
   "outputs": [
    {
     "data": {
      "text/plain": [
       "collection_timestamp         \n",
       "2020-12-13 15:25:03   9810450   2020-12-13 15:20:03\n",
       "                      9810451   2020-12-13 15:20:00\n",
       "                      9810452   2020-12-13 15:15:00\n",
       "                      9810453   2020-12-13 15:10:00\n",
       "                      9810454   2020-12-13 15:05:00\n",
       "                                        ...        \n",
       "2022-05-24 21:55:04   6160045   2020-03-24 00:00:00\n",
       "                      6160046   2020-03-23 00:00:00\n",
       "                      6160047   2020-03-22 00:00:00\n",
       "                      6160048   2020-03-21 00:00:00\n",
       "                      6160049   2020-03-20 00:00:00\n",
       "Name: timestamp, Length: 10304760, dtype: datetime64[ns]"
      ]
     },
     "execution_count": 58,
     "metadata": {},
     "output_type": "execute_result"
    }
   ],
   "source": [
    "df.groupby(df.collection_timestamp, group_keys=True).apply(lambda x: x).timestamp"
   ]
  },
  {
   "cell_type": "code",
   "execution_count": 55,
   "metadata": {},
   "outputs": [
    {
     "data": {
      "text/plain": [
       "array([0], dtype='timedelta64[ns]')"
      ]
     },
     "execution_count": 55,
     "metadata": {},
     "output_type": "execute_result"
    }
   ],
   "source": [
    "(df.loc[df.collection_timestamp == \"2020-12-13 15:25:03\"].loc[df.src_host == \"b1\"].loc[df.dst_host == \"uci\"].timestamp.reset_index(drop=True) \\\n",
    "- df.loc[df.collection_timestamp == \"2020-12-13 15:25:03\"].loc[df.src_host == \"b1\"].loc[df.dst_host == \"ftj\"].timestamp.reset_index(drop=True)).unique()"
   ]
  },
  {
   "cell_type": "code",
   "execution_count": null,
   "metadata": {},
   "outputs": [],
   "source": [
    "df[df.collection_timestamp == \"2020-12-13 15:25:03\"].timestamp.to_numpy() - df[df.collection_timestamp == \"2022-05-24 21:55:04\"].timestamp.to_numpy()[:-1]"
   ]
  },
  {
   "cell_type": "code",
   "execution_count": null,
   "metadata": {},
   "outputs": [],
   "source": [
    "plt.plot(df[df.src_host == \"b1rtr\"][df.dst_host == \"uci\"][df.collection_timestamp == df[:1].collection_timestamp.to_numpy()[0]].timestamp[1:], _diff[1:].to_numpy(dtype=np.int64)/(1000000000*60))"
   ]
  },
  {
   "cell_type": "code",
   "execution_count": null,
   "metadata": {},
   "outputs": [],
   "source": [
    "_np_diff = _diff.to_numpy(dtype=np.int64)\n",
    "print(len(_np_diff))\n",
    "linn = np.linspace(0, 1000, num=len(_np_diff))\n",
    "print(len(linn), len(_np_diff))\n",
    "_np_diff.sort()\n",
    "plt.plot(linn, _np_diff)"
   ]
  },
  {
   "cell_type": "code",
   "execution_count": null,
   "metadata": {},
   "outputs": [],
   "source": [
    "first_best_file = files_tree['b6rtr-b1'][0]\n",
    "first_one = '/Users/nick/Dev/magisterka/data/stats/2020-12-15_00/b6rtr-b1.log'\n",
    "middle_one = '/Users/nick/Dev/magisterka/data/stats/2021-06-07_00/b6rtr-b1.log'\n",
    "last_one = '/Users/nick/Dev/magisterka/data/stats/2022-05-25_00/b6rtr-b1.log'\n",
    "\n",
    "headers = [\"timestamp\", \"incoming_rate_avg\", \"outgoing_rate_avg\", \"incoming_rate_max\", \"outgoing_rate_max\"]\n",
    "data_first = pd.read_csv(first_one, sep=\" \", names=headers, skiprows=[0])\n",
    "data_middle = pd.read_csv(middle_one, sep=\" \", names=headers, skiprows=[0])\n",
    "data_last = pd.read_csv(last_one, sep=\" \", names=headers, skiprows=[0])\n",
    "\n",
    "data_first.timestamp = pd.to_datetime(data_first.timestamp, unit=\"s\")\n",
    "data_last.timestamp = pd.to_datetime(data_last.timestamp, unit=\"s\")\n",
    "data_middle.timestamp = pd.to_datetime(data_middle.timestamp, unit=\"s\")"
   ]
  },
  {
   "cell_type": "code",
   "execution_count": null,
   "metadata": {},
   "outputs": [],
   "source": [
    "\n",
    "fig = plt.figure(figsize=(24, 3))\n",
    "plt.plot(data_first.timestamp, data_first.incoming_rate_avg, label=\"2020-12-15_00\")\n",
    "plt.plot(data_middle.timestamp, data_middle.incoming_rate_avg, label=\"2021-06-07_00\")\n",
    "plt.plot(data_last.timestamp, data_last.incoming_rate_avg, label=\"2022-05-25_00\")\n",
    "fig.legend()"
   ]
  },
  {
   "cell_type": "markdown",
   "metadata": {},
   "source": [
    "# Visual\n",
    "* Delta histogram\n",
    "* Delta time series graph\n",
    "* Aggregation level showed with colors \n",
    "* Use 'gggraph' for graph visualization"
   ]
  }
 ],
 "metadata": {
  "kernelspec": {
   "display_name": "Python 3 (ipykernel)",
   "language": "python",
   "name": "python3"
  },
  "language_info": {
   "codemirror_mode": {
    "name": "ipython",
    "version": 3
   },
   "file_extension": ".py",
   "mimetype": "text/x-python",
   "name": "python",
   "nbconvert_exporter": "python",
   "pygments_lexer": "ipython3",
   "version": "3.9.6"
  },
  "orig_nbformat": 4,
  "vscode": {
   "interpreter": {
    "hash": "c94cf9b8d61ef0af6ee19adc2b2bd297d5114e58aac02f9bc6eec7d189283be5"
   }
  }
 },
 "nbformat": 4,
 "nbformat_minor": 2
}
