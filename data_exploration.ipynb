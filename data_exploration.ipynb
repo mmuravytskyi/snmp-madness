{
 "cells": [
  {
   "cell_type": "code",
   "execution_count": 107,
   "metadata": {},
   "outputs": [],
   "source": [
    "import os\n",
    "import matplotlib.pyplot as plt\n",
    "import pandas as pd\n",
    "import numpy as np\n",
    "\n",
    "abs_data_path = \"../data/stats\"\n",
    "CONNECTIONS = [\n",
    "    # B1\n",
    "    (\"b1\", \"ftj\"),\n",
    "    (\"b1\", \"uci\"),\n",
    "    (\"b1\", \"b6\"),\n",
    "    # B6\n",
    "    (\"b6\", \"ms\"),\n",
    "    (\"b6\", \"uci\"),\n",
    "    (\"b6\", \"b1\"),\n",
    "    (\"b6\", \"ftj\"),\n",
    "    # UCI\n",
    "    (\"uci\", \"ftj\"),\n",
    "    (\"uci\", \"b1\"),\n",
    "    (\"uci\", \"b6\"),\n",
    "    (\"uci\", \"cyfronet\"),\n",
    "     # FTJ\n",
    "    (\"ftj\", \"b1\"),\n",
    "    (\"ftj\", \"uci\"),\n",
    "    (\"ftj\", \"b6\"),\n",
    "    (\"ftj\", \"cyfronet\"),\n",
    "    ]\n",
    "NODES = {\"cyfronet\", \"ftj\", \"uci\", \"b1\", \"b6\", \"ms\"}\n",
    "\n",
    "# graph is directional hence this matrix is asymetric\n",
    "ADJACENCY_MATRIX = [\n",
    "    [0, 0, 0, 0, 0, 0],\n",
    "    [1, 0, 1, 1, 1, 0],\n",
    "    [1, 1, 0, 1, 1, 0],\n",
    "    [0, 1, 1, 0, 1, 0],\n",
    "    [0, 1, 1, 1, 0, 1],\n",
    "    [0, 0, 0, 0, 0, 0],\n",
    "]\n",
    "\n",
    "SUBSET = True"
   ]
  },
  {
   "attachments": {},
   "cell_type": "markdown",
   "metadata": {},
   "source": [
    "### TODO: \n",
    "- inverstigate this :\n",
    "```\n",
    "Num of unique collections: 284\n",
    "Num of collection files: 271\n",
    "```\n",
    "- add a description for every column in the final dataframe"
   ]
  },
  {
   "cell_type": "markdown",
   "metadata": {},
   "source": [
    "### Load a dataframe"
   ]
  },
  {
   "cell_type": "code",
   "execution_count": 43,
   "metadata": {
    "tags": [
     "data"
    ]
   },
   "outputs": [],
   "source": [
    "files_tree = {}\n",
    "\n",
    "for date_folder in os.listdir(abs_data_path):\n",
    "    if date_folder.startswith(\".\"):\n",
    "        continue\n",
    "\n",
    "    for log_file in os.listdir(abs_data_path+\"/\"+date_folder):\n",
    "        if log_file[:-4] not in files_tree:\n",
    "            files_tree[log_file[:-4]] = []\n",
    "\n",
    "        files_tree[log_file[:-4]].append(abs_data_path+\"/\"+date_folder+\"/\"+log_file)\n",
    "\n",
    "files_flat = []\n",
    "for con in files_tree:\n",
    "    files_flat += files_tree[con]\n",
    "\n",
    "files_flat = set(files_flat)\n"
   ]
  },
  {
   "attachments": {},
   "cell_type": "markdown",
   "metadata": {},
   "source": [
    "Read file tree into a pandas dataframe"
   ]
  },
  {
   "cell_type": "code",
   "execution_count": 114,
   "metadata": {
    "tags": []
   },
   "outputs": [],
   "source": [
    "csv_headers = [\"timestamp\", \"incoming_rate_avg\", \"outgoing_rate_avg\", \"incoming_rate_max\", \"outgoing_rate_max\"]\n",
    "col_names = csv_headers + [\"collection_timestamp\", \"src_host\", \"dst_host\"]\n",
    "\n",
    "df = pd.DataFrame(columns=col_names)\n",
    "\n",
    "dfs = []\n",
    "\n",
    "for date_folder in os.listdir(abs_data_path):\n",
    "\n",
    "    if date_folder.startswith(\".\"):\n",
    "        continue\n",
    "\n",
    "    collection_dir_path = abs_data_path + \"/\" + date_folder\n",
    "\n",
    "    collection_times = []\n",
    "    for file_path in os.listdir(collection_dir_path):\n",
    "        data_file_path = collection_dir_path + \"/\" + file_path\n",
    "\n",
    "        cn = 0\n",
    "        with open(data_file_path) as fil:\n",
    "            firstline = fil.readline().rstrip()\n",
    "            cn += 1\n",
    "\n",
    "            if SUBSET and cn == 100:\n",
    "                continue\n",
    "            \n",
    "        collection_times.append(firstline.split()[0])\n",
    "\n",
    "        _df = pd.read_csv(data_file_path, sep=\" \", names=csv_headers, skiprows=[0])\n",
    "\n",
    "        # some string maniputaltion to get names of the nodes\n",
    "        src_host = data_file_path.split(\"/\")[-1].split(\"-\")[0][:-3]\n",
    "        dst_host = data_file_path.split(\"/\")[-1].split(\"-\")[1][:-4]\n",
    "\n",
    "        _df[\"collection_timestamp\"] = max(set(collection_times), key = collection_times.count)\n",
    "        _df[\"src_host\"] = src_host\n",
    "        _df[\"dst_host\"] = dst_host\n",
    "\n",
    "        dfs.append(_df[1:])\n",
    "\n",
    "df = pd.concat(dfs, ignore_index=True)\n"
   ]
  },
  {
   "attachments": {},
   "cell_type": "markdown",
   "metadata": {},
   "source": [
    "Column type conversion"
   ]
  },
  {
   "cell_type": "code",
   "execution_count": 115,
   "metadata": {},
   "outputs": [],
   "source": [
    "df.timestamp = pd.to_datetime(df.timestamp, unit=\"s\")\n",
    "df.collection_timestamp = pd.to_datetime(df.collection_timestamp, unit=\"s\")\n",
    "df = df.astype({\"incoming_rate_max\": np.int64, \"outgoing_rate_max\": np.int64, \"src_host\": str, \"dst_host\": str})"
   ]
  },
  {
   "cell_type": "markdown",
   "metadata": {},
   "source": [
    "### Collection time analysis"
   ]
  },
  {
   "cell_type": "code",
   "execution_count": 116,
   "metadata": {},
   "outputs": [
    {
     "name": "stdout",
     "output_type": "stream",
     "text": [
      "Num of unique collections: 281\n",
      "Num of collection files: 270\n",
      "Data collected for 526 days 23:00:01, starting from 2020-12-13 22:55:03 to 2022-05-24 21:55:04\n"
     ]
    },
    {
     "data": {
      "text/html": [
       "<div>\n",
       "<style scoped>\n",
       "    .dataframe tbody tr th:only-of-type {\n",
       "        vertical-align: middle;\n",
       "    }\n",
       "\n",
       "    .dataframe tbody tr th {\n",
       "        vertical-align: top;\n",
       "    }\n",
       "\n",
       "    .dataframe thead th {\n",
       "        text-align: right;\n",
       "    }\n",
       "</style>\n",
       "<table border=\"1\" class=\"dataframe\">\n",
       "  <thead>\n",
       "    <tr style=\"text-align: right;\">\n",
       "      <th></th>\n",
       "      <th>timestamp</th>\n",
       "      <th>incoming_rate_avg</th>\n",
       "      <th>outgoing_rate_avg</th>\n",
       "      <th>incoming_rate_max</th>\n",
       "      <th>outgoing_rate_max</th>\n",
       "      <th>collection_timestamp</th>\n",
       "      <th>src_host</th>\n",
       "      <th>dst_host</th>\n",
       "    </tr>\n",
       "  </thead>\n",
       "  <tbody>\n",
       "    <tr>\n",
       "      <th>0</th>\n",
       "      <td>2022-04-06 21:50:04</td>\n",
       "      <td>16201</td>\n",
       "      <td>4794</td>\n",
       "      <td>16201</td>\n",
       "      <td>4794</td>\n",
       "      <td>2022-04-06 21:55:03</td>\n",
       "      <td>b6</td>\n",
       "      <td>b1</td>\n",
       "    </tr>\n",
       "    <tr>\n",
       "      <th>1</th>\n",
       "      <td>2022-04-06 21:50:00</td>\n",
       "      <td>16331</td>\n",
       "      <td>4831</td>\n",
       "      <td>29239</td>\n",
       "      <td>8524</td>\n",
       "      <td>2022-04-06 21:55:03</td>\n",
       "      <td>b6</td>\n",
       "      <td>b1</td>\n",
       "    </tr>\n",
       "    <tr>\n",
       "      <th>2</th>\n",
       "      <td>2022-04-06 21:45:00</td>\n",
       "      <td>29032</td>\n",
       "      <td>8490</td>\n",
       "      <td>29239</td>\n",
       "      <td>8524</td>\n",
       "      <td>2022-04-06 21:55:03</td>\n",
       "      <td>b6</td>\n",
       "      <td>b1</td>\n",
       "    </tr>\n",
       "    <tr>\n",
       "      <th>3</th>\n",
       "      <td>2022-04-06 21:40:00</td>\n",
       "      <td>13693</td>\n",
       "      <td>5999</td>\n",
       "      <td>13745</td>\n",
       "      <td>6012</td>\n",
       "      <td>2022-04-06 21:55:03</td>\n",
       "      <td>b6</td>\n",
       "      <td>b1</td>\n",
       "    </tr>\n",
       "    <tr>\n",
       "      <th>4</th>\n",
       "      <td>2022-04-06 21:35:00</td>\n",
       "      <td>8762</td>\n",
       "      <td>4762</td>\n",
       "      <td>22377</td>\n",
       "      <td>4793</td>\n",
       "      <td>2022-04-06 21:55:03</td>\n",
       "      <td>b6</td>\n",
       "      <td>b1</td>\n",
       "    </tr>\n",
       "  </tbody>\n",
       "</table>\n",
       "</div>"
      ],
      "text/plain": [
       "            timestamp  incoming_rate_avg  outgoing_rate_avg  \\\n",
       "0 2022-04-06 21:50:04              16201               4794   \n",
       "1 2022-04-06 21:50:00              16331               4831   \n",
       "2 2022-04-06 21:45:00              29032               8490   \n",
       "3 2022-04-06 21:40:00              13693               5999   \n",
       "4 2022-04-06 21:35:00               8762               4762   \n",
       "\n",
       "   incoming_rate_max  outgoing_rate_max collection_timestamp src_host dst_host  \n",
       "0              16201               4794  2022-04-06 21:55:03       b6       b1  \n",
       "1              29239               8524  2022-04-06 21:55:03       b6       b1  \n",
       "2              29239               8524  2022-04-06 21:55:03       b6       b1  \n",
       "3              13745               6012  2022-04-06 21:55:03       b6       b1  \n",
       "4              22377               4793  2022-04-06 21:55:03       b6       b1  "
      ]
     },
     "execution_count": 116,
     "metadata": {},
     "output_type": "execute_result"
    }
   ],
   "source": [
    "print(f\"Num of unique collections: {len(df.collection_timestamp.unique())}\")\n",
    "print(f\"Num of collection files: {len([ el for el in list(os.listdir(abs_data_path)) if not el.startswith('.') ])}\")\n",
    "\n",
    "collection_days = (df.collection_timestamp.max() - df.collection_timestamp.min())\n",
    "collection_start = df.collection_timestamp.min()\n",
    "collection_end = df.collection_timestamp.max()\n",
    "print(f\"Data collected for {collection_days}, starting from {collection_start} to {collection_end}\")\n",
    "\n",
    "df.head(5)"
   ]
  },
  {
   "attachments": {},
   "cell_type": "markdown",
   "metadata": {},
   "source": [
    "#  TODO: maybe move linespace code here"
   ]
  },
  {
   "attachments": {},
   "cell_type": "markdown",
   "metadata": {},
   "source": [
    "`collection_interval` - time difference between subsequent samples. \n",
    "In the dataset samples are agregated and we only need those with the highest \n",
    "granularity - lowest `collection_interval`"
   ]
  },
  {
   "cell_type": "code",
   "execution_count": 117,
   "metadata": {},
   "outputs": [],
   "source": [
    "df[\"collection_interval\"] = df.timestamp.shift(periods=1) - df.timestamp"
   ]
  },
  {
   "attachments": {},
   "cell_type": "markdown",
   "metadata": {},
   "source": [
    "fix wrong timestamps that appeared as a result of .shift substruction"
   ]
  },
  {
   "cell_type": "code",
   "execution_count": 118,
   "metadata": {},
   "outputs": [],
   "source": [
    "df.loc[(df.collection_interval < np.timedelta64(5, \"m\"), \"collection_interval\")] = np.timedelta64(5, \"m\")\n",
    "df.loc[0, \"collection_interval\"] = np.timedelta64(5, \"m\")"
   ]
  },
  {
   "attachments": {},
   "cell_type": "markdown",
   "metadata": {},
   "source": [
    "everything is uniformly spreaded - samples with 5 min intervals"
   ]
  },
  {
   "cell_type": "code",
   "execution_count": 119,
   "metadata": {},
   "outputs": [
    {
     "data": {
      "text/plain": [
       "array([300000000000], dtype='timedelta64[ns]')"
      ]
     },
     "execution_count": 119,
     "metadata": {},
     "output_type": "execute_result"
    }
   ],
   "source": [
    "df.loc[df.collection_interval <= np.timedelta64(6, \"m\")].collection_interval.unique()"
   ]
  },
  {
   "attachments": {},
   "cell_type": "markdown",
   "metadata": {},
   "source": [
    "Create a column with artificial timestamps"
   ]
  },
  {
   "cell_type": "code",
   "execution_count": 37,
   "metadata": {},
   "outputs": [
    {
     "data": {
      "text/plain": [
       "(10266750, 1539129600000000000, 1653429003000000000)"
      ]
     },
     "execution_count": 37,
     "metadata": {},
     "output_type": "execute_result"
    }
   ],
   "source": [
    "df.timestamp.count(), df.timestamp.min().value, df.timestamp.max().value"
   ]
  },
  {
   "cell_type": "code",
   "execution_count": null,
   "metadata": {},
   "outputs": [],
   "source": [
    "\n",
    "df.head(3)\n",
    "for collection in df.collection_timestamp.unique()[:2]:\n",
    "    print(collection)\n",
    "    print(subset.timestamp.count(), )\n",
    "    subset = df.loc[(df.collection_timestamp == collection)]\n",
    "\n",
    "    even_ts_col = np.linspace(\n",
    "        subset.timestamp.max().value,\n",
    "        subset.timestamp.min().value,\n",
    "        subset.timestamp.count(),\n",
    "        dtype=np.int64\n",
    "    )\n",
    "\n",
    "    \n",
    "    # for k in range(len(even_ts_col)):\n",
    "    for k in range(5):\n",
    "        print(f\"* {np.array(subset.timestamp)[k]} = {pd.to_datetime(even_ts_col[k], unit='ns')}\")\n"
   ]
  },
  {
   "attachments": {},
   "cell_type": "markdown",
   "metadata": {},
   "source": [
    "Save as a CSV for further processing"
   ]
  },
  {
   "cell_type": "code",
   "execution_count": 120,
   "metadata": {},
   "outputs": [],
   "source": [
    "if SUBSET:\n",
    "    df.loc[df.collection_interval <= np.timedelta64(6, \"m\")].to_csv(\"../data/samples_5m_subset_v1.csv\")\n",
    "else:\n",
    "    df.loc[df.collection_interval <= np.timedelta64(6, \"m\")].to_csv(\"../data/samples_5m_v1.csv\")"
   ]
  },
  {
   "cell_type": "code",
   "execution_count": 79,
   "metadata": {},
   "outputs": [],
   "source": [
    "df = df.sort_values(by=[\"collection_timestamp\", \"timestamp\"], ignore_index=True)"
   ]
  },
  {
   "cell_type": "code",
   "execution_count": 53,
   "metadata": {},
   "outputs": [
    {
     "name": "stdout",
     "output_type": "stream",
     "text": [
      "86401000000000 nanoseconds\n",
      "172799000000000 nanoseconds\n",
      "172801000000000 nanoseconds\n",
      "3 -28799666666666 nanoseconds\n"
     ]
    }
   ],
   "source": [
    "data_collections = df.collection_timestamp.unique().copy()[:5]\n",
    "nn = 0\n",
    "diff = []\n",
    "for pos, coll in enumerate(data_collections):\n",
    "    if pos == len(data_collections)-1:\n",
    "        break\n",
    "    if data_collections[pos+1] - data_collections[pos] != np.timedelta64(2, \"D\"):\n",
    "        print(data_collections[pos+1] - data_collections[pos])\n",
    "        nn+=1\n",
    "        diff.append(data_collections[pos+1] - data_collections[pos] - np.timedelta64(2, \"D\"))\n",
    "\n",
    "print(nn, np.array(diff).mean())"
   ]
  },
  {
   "cell_type": "code",
   "execution_count": 54,
   "metadata": {},
   "outputs": [
    {
     "name": "stdout",
     "output_type": "stream",
     "text": [
      "2020-12-13T22:55:03.000000000\n",
      "('b1', 'ftj')\n",
      "                timestamp  incoming_rate_avg  outgoing_rate_avg  \\\n",
      "11    2018-10-10 00:00:00              35008               9212   \n",
      "26    2018-10-11 00:00:00              35195              10823   \n",
      "41    2018-10-12 00:00:00              61121              17110   \n",
      "56    2018-10-13 00:00:00              32003              21691   \n",
      "71    2018-10-14 00:00:00              23440               6710   \n",
      "...                   ...                ...                ...   \n",
      "37961 2020-12-13 22:35:00              16238               2264   \n",
      "37976 2020-12-13 22:40:00              16804               2302   \n",
      "37991 2020-12-13 22:45:00              18181               2327   \n",
      "38006 2020-12-13 22:50:00              16475               2257   \n",
      "38021 2020-12-13 22:50:03              16452               2257   \n",
      "\n",
      "       incoming_rate_max  outgoing_rate_max collection_timestamp src_host  \\\n",
      "11                 67485             120536  2020-12-13 22:55:03       b1   \n",
      "26                 77968             216539  2020-12-13 22:55:03       b1   \n",
      "41               4335847             186912  2020-12-13 22:55:03       b1   \n",
      "56                223877            1316875  2020-12-13 22:55:03       b1   \n",
      "71                 35304              70353  2020-12-13 22:55:03       b1   \n",
      "...                  ...                ...                  ...      ...   \n",
      "37961              16940               2268  2020-12-13 22:55:03       b1   \n",
      "37976              16812               2303  2020-12-13 22:55:03       b1   \n",
      "37991              18195               2328  2020-12-13 22:55:03       b1   \n",
      "38006              18195               2328  2020-12-13 22:55:03       b1   \n",
      "38021              16452               2257  2020-12-13 22:55:03       b1   \n",
      "\n",
      "      dst_host collection_interval  \n",
      "11         ftj     1 days 00:00:00  \n",
      "26         ftj     1 days 00:00:00  \n",
      "41         ftj     1 days 00:00:00  \n",
      "56         ftj     1 days 00:00:00  \n",
      "71         ftj     1 days 00:00:00  \n",
      "...        ...                 ...  \n",
      "37961      ftj     0 days 00:05:00  \n",
      "37976      ftj     0 days 00:05:00  \n",
      "37991      ftj     0 days 00:05:00  \n",
      "38006      ftj     0 days 00:05:00  \n",
      "38021      ftj     0 days 00:05:00  \n",
      "\n",
      "[2535 rows x 9 columns]\n",
      "('b1', 'uci')\n",
      "                timestamp  incoming_rate_avg  outgoing_rate_avg  \\\n",
      "14    2018-10-10 00:00:00           15133781            3015943   \n",
      "29    2018-10-11 00:00:00           17219120            2723205   \n",
      "44    2018-10-12 00:00:00           14927604            2638318   \n",
      "59    2018-10-13 00:00:00           12159361            2205962   \n",
      "74    2018-10-14 00:00:00            2789360            1215914   \n",
      "...                   ...                ...                ...   \n",
      "37964 2020-12-13 22:35:00            8814535            1335454   \n",
      "37979 2020-12-13 22:40:00           10914226            1731810   \n",
      "37994 2020-12-13 22:45:00            6292450            1526363   \n",
      "38009 2020-12-13 22:50:00            5650657            1392185   \n",
      "38024 2020-12-13 22:50:03            5642619            1390401   \n",
      "\n",
      "       incoming_rate_max  outgoing_rate_max collection_timestamp src_host  \\\n",
      "14              54960175           11438988  2020-12-13 22:55:03       b1   \n",
      "29              56650153           12514064  2020-12-13 22:55:03       b1   \n",
      "44              64021062           11465771  2020-12-13 22:55:03       b1   \n",
      "59              44923077            9926327  2020-12-13 22:55:03       b1   \n",
      "74              15862094            5720955  2020-12-13 22:55:03       b1   \n",
      "...                  ...                ...                  ...      ...   \n",
      "37964           10405667            1338896  2020-12-13 22:55:03       b1   \n",
      "37979           10942891            1737167  2020-12-13 22:55:03       b1   \n",
      "37994           10942891            1737167  2020-12-13 22:55:03       b1   \n",
      "38009            6245476            1524234  2020-12-13 22:55:03       b1   \n",
      "38024            5642619            1390401  2020-12-13 22:55:03       b1   \n",
      "\n",
      "      dst_host collection_interval  \n",
      "14         uci     1 days 00:00:00  \n",
      "29         uci     1 days 00:00:00  \n",
      "44         uci     1 days 00:00:00  \n",
      "59         uci     1 days 00:00:00  \n",
      "74         uci     1 days 00:00:00  \n",
      "...        ...                 ...  \n",
      "37964      uci     0 days 00:05:00  \n",
      "37979      uci     0 days 00:05:00  \n",
      "37994      uci     0 days 00:05:00  \n",
      "38009      uci     0 days 00:05:00  \n",
      "38024      uci     0 days 00:05:00  \n",
      "\n",
      "[2535 rows x 9 columns]\n",
      "('b1', 'b6')\n",
      "                timestamp  incoming_rate_avg  outgoing_rate_avg  \\\n",
      "4     2018-10-10 00:00:00            1115841              64699   \n",
      "19    2018-10-11 00:00:00            1127044             311664   \n",
      "34    2018-10-12 00:00:00            1133941             144255   \n",
      "49    2018-10-13 00:00:00            1159875              58558   \n",
      "64    2018-10-14 00:00:00            1149933              81540   \n",
      "...                   ...                ...                ...   \n",
      "37954 2020-12-13 22:35:00            1811580             258037   \n",
      "37969 2020-12-13 22:40:00            1816310              57680   \n",
      "37984 2020-12-13 22:45:00            1793523              68376   \n",
      "37999 2020-12-13 22:50:00            1825157              95285   \n",
      "38014 2020-12-13 22:50:03            1825588              95647   \n",
      "\n",
      "       incoming_rate_max  outgoing_rate_max collection_timestamp src_host  \\\n",
      "4                2656793             742812  2020-12-13 22:55:03       b1   \n",
      "19               3608797            5928301  2020-12-13 22:55:03       b1   \n",
      "34               2651252            1759355  2020-12-13 22:55:03       b1   \n",
      "49               3726987            1346773  2020-12-13 22:55:03       b1   \n",
      "64               4479508            2459949  2020-12-13 22:55:03       b1   \n",
      "...                  ...                ...                  ...      ...   \n",
      "37954            1811610             260401  2020-12-13 22:55:03       b1   \n",
      "37969            1816374             260401  2020-12-13 22:55:03       b1   \n",
      "37984            1816374              68512  2020-12-13 22:55:03       b1   \n",
      "37999            1825588              95647  2020-12-13 22:55:03       b1   \n",
      "38014            1825588              95647  2020-12-13 22:55:03       b1   \n",
      "\n",
      "      dst_host collection_interval  \n",
      "4           b6     1 days 00:00:00  \n",
      "19          b6     1 days 00:00:00  \n",
      "34          b6     1 days 00:00:00  \n",
      "49          b6     1 days 00:00:00  \n",
      "64          b6     1 days 00:00:00  \n",
      "...        ...                 ...  \n",
      "37954       b6     0 days 00:05:00  \n",
      "37969       b6     0 days 00:05:00  \n",
      "37984       b6     0 days 00:05:00  \n",
      "37999       b6     0 days 00:05:00  \n",
      "38014       b6     0 days 00:05:00  \n",
      "\n",
      "[2535 rows x 9 columns]\n",
      "2020-12-14T22:55:04.000000000\n",
      "('b1', 'ftj')\n",
      "                timestamp  incoming_rate_avg  outgoing_rate_avg  \\\n",
      "38036 2018-10-11 00:00:00              35195              10823   \n",
      "38051 2018-10-12 00:00:00              61121              17110   \n",
      "38066 2018-10-13 00:00:00              32003              21691   \n",
      "38081 2018-10-14 00:00:00              23440               6710   \n",
      "38096 2018-10-15 00:00:00              22329               7466   \n",
      "...                   ...                ...                ...   \n",
      "75986 2020-12-14 22:35:00              16308               2299   \n",
      "76001 2020-12-14 22:40:00              16398               2310   \n",
      "76016 2020-12-14 22:45:00              16719               2310   \n",
      "76031 2020-12-14 22:50:00              16351               2298   \n",
      "76047 2020-12-14 22:50:04              16346               2298   \n",
      "\n",
      "       incoming_rate_max  outgoing_rate_max collection_timestamp src_host  \\\n",
      "38036              77968             216539  2020-12-14 22:55:04       b1   \n",
      "38051            4335847             186912  2020-12-14 22:55:04       b1   \n",
      "38066             223877            1316875  2020-12-14 22:55:04       b1   \n",
      "38081              35304              70353  2020-12-14 22:55:04       b1   \n",
      "38096              28207             176018  2020-12-14 22:55:04       b1   \n",
      "...                  ...                ...                  ...      ...   \n",
      "75986              16853               2341  2020-12-14 22:55:04       b1   \n",
      "76001              16399               2311  2020-12-14 22:55:04       b1   \n",
      "76016              16723               2311  2020-12-14 22:55:04       b1   \n",
      "76031              16723               2310  2020-12-14 22:55:04       b1   \n",
      "76047              16346               2298  2020-12-14 22:55:04       b1   \n",
      "\n",
      "      dst_host collection_interval  \n",
      "38036      ftj     1 days 00:00:00  \n",
      "38051      ftj     1 days 00:00:00  \n",
      "38066      ftj     1 days 00:00:00  \n",
      "38081      ftj     1 days 00:00:00  \n",
      "38096      ftj     1 days 00:00:00  \n",
      "...        ...                 ...  \n",
      "75986      ftj     0 days 00:05:00  \n",
      "76001      ftj     0 days 00:05:00  \n",
      "76016      ftj     0 days 00:05:00  \n",
      "76031      ftj     0 days 00:05:00  \n",
      "76047      ftj     0 days 00:05:00  \n",
      "\n",
      "[2535 rows x 9 columns]\n",
      "('b1', 'uci')\n",
      "                timestamp  incoming_rate_avg  outgoing_rate_avg  \\\n",
      "38039 2018-10-11 00:00:00           17219120            2723205   \n",
      "38054 2018-10-12 00:00:00           14927604            2638318   \n",
      "38069 2018-10-13 00:00:00           12159361            2205962   \n",
      "38084 2018-10-14 00:00:00            2789360            1215914   \n",
      "38099 2018-10-15 00:00:00            3196041             908578   \n",
      "...                   ...                ...                ...   \n",
      "75989 2020-12-14 22:35:00            4658961            1866290   \n",
      "76004 2020-12-14 22:40:00            6135118            1678613   \n",
      "76019 2020-12-14 22:45:00            4447361            1792003   \n",
      "76034 2020-12-14 22:50:00            4371635            1988684   \n",
      "76049 2020-12-14 22:50:04            4370845            1991327   \n",
      "\n",
      "       incoming_rate_max  outgoing_rate_max collection_timestamp src_host  \\\n",
      "38039           56650153           12514064  2020-12-14 22:55:04       b1   \n",
      "38054           64021062           11465771  2020-12-14 22:55:04       b1   \n",
      "38069           44923077            9926327  2020-12-14 22:55:04       b1   \n",
      "38084           15862094            5720955  2020-12-14 22:55:04       b1   \n",
      "38099           21997667            7766077  2020-12-14 22:55:04       b1   \n",
      "...                  ...                ...                  ...      ...   \n",
      "75989            4694540            2114874  2020-12-14 22:55:04       b1   \n",
      "76004            6150033            1863780  2020-12-14 22:55:04       b1   \n",
      "76019            6150033            1793168  2020-12-14 22:55:04       b1   \n",
      "76034            4430163            1991327  2020-12-14 22:55:04       b1   \n",
      "76049            4370845            1991327  2020-12-14 22:55:04       b1   \n",
      "\n",
      "      dst_host collection_interval  \n",
      "38039      uci     1 days 00:00:00  \n",
      "38054      uci     1 days 00:00:00  \n",
      "38069      uci     1 days 00:00:00  \n",
      "38084      uci     1 days 00:00:00  \n",
      "38099      uci     1 days 00:00:00  \n",
      "...        ...                 ...  \n",
      "75989      uci     0 days 00:05:00  \n",
      "76004      uci     0 days 00:05:00  \n",
      "76019      uci     0 days 00:05:00  \n",
      "76034      uci     0 days 00:05:00  \n",
      "76049      uci     0 days 00:05:00  \n",
      "\n",
      "[2535 rows x 9 columns]\n",
      "('b1', 'b6')\n",
      "                timestamp  incoming_rate_avg  outgoing_rate_avg  \\\n",
      "38029 2018-10-11 00:00:00            1127044             311664   \n",
      "38044 2018-10-12 00:00:00            1133941             144255   \n",
      "38059 2018-10-13 00:00:00            1159875              58558   \n",
      "38074 2018-10-14 00:00:00            1149933              81540   \n",
      "38089 2018-10-15 00:00:00            1117580              81701   \n",
      "...                   ...                ...                ...   \n",
      "75979 2020-12-14 22:35:00            1704463              71505   \n",
      "75994 2020-12-14 22:40:00            1743318             104094   \n",
      "76009 2020-12-14 22:45:00            1749443              92470   \n",
      "76024 2020-12-14 22:50:00            1720247              65562   \n",
      "76045 2020-12-14 22:50:04            1719852              65201   \n",
      "\n",
      "       incoming_rate_max  outgoing_rate_max collection_timestamp src_host  \\\n",
      "38029            3608797            5928301  2020-12-14 22:55:04       b1   \n",
      "38044            2651252            1759355  2020-12-14 22:55:04       b1   \n",
      "38059            3726987            1346773  2020-12-14 22:55:04       b1   \n",
      "38074            4479508            2459949  2020-12-14 22:55:04       b1   \n",
      "38089            2652397            2872819  2020-12-14 22:55:04       b1   \n",
      "...                  ...                ...                  ...      ...   \n",
      "75979            1725995              71665  2020-12-14 22:55:04       b1   \n",
      "75994            1743713             104422  2020-12-14 22:55:04       b1   \n",
      "76009            1749501             104422  2020-12-14 22:55:04       b1   \n",
      "76024            1749501              92350  2020-12-14 22:55:04       b1   \n",
      "76045            1719852              65201  2020-12-14 22:55:04       b1   \n",
      "\n",
      "      dst_host collection_interval  \n",
      "38029       b6     1 days 00:00:00  \n",
      "38044       b6     1 days 00:00:00  \n",
      "38059       b6     1 days 00:00:00  \n",
      "38074       b6     1 days 00:00:00  \n",
      "38089       b6     1 days 00:00:00  \n",
      "...        ...                 ...  \n",
      "75979       b6     0 days 00:05:00  \n",
      "75994       b6     0 days 00:05:00  \n",
      "76009       b6     0 days 00:05:00  \n",
      "76024       b6     0 days 00:05:00  \n",
      "76045       b6     0 days 00:05:00  \n",
      "\n",
      "[2535 rows x 9 columns]\n",
      "2020-12-16T22:55:04.000000000\n",
      "('b1', 'ftj')\n",
      "                 timestamp  incoming_rate_avg  outgoing_rate_avg  \\\n",
      "76061  2018-10-13 00:00:00              32003              21691   \n",
      "76076  2018-10-14 00:00:00              23440               6710   \n",
      "76091  2018-10-15 00:00:00              22329               7466   \n",
      "76106  2018-10-16 00:00:00              38158              11686   \n",
      "76121  2018-10-17 00:00:00              36757               9377   \n",
      "...                    ...                ...                ...   \n",
      "114011 2020-12-16 22:35:00              17092               2331   \n",
      "114026 2020-12-16 22:40:00              19131               2358   \n",
      "114041 2020-12-16 22:45:00              18722               2310   \n",
      "114056 2020-12-16 22:50:00              16808               2384   \n",
      "114071 2020-12-16 22:50:03              16783               2385   \n",
      "\n",
      "        incoming_rate_max  outgoing_rate_max collection_timestamp src_host  \\\n",
      "76061              223877            1316875  2020-12-16 22:55:04       b1   \n",
      "76076               35304              70353  2020-12-16 22:55:04       b1   \n",
      "76091               28207             176018  2020-12-16 22:55:04       b1   \n",
      "76106              130870              96710  2020-12-16 22:55:04       b1   \n",
      "76121               81738              67509  2020-12-16 22:55:04       b1   \n",
      "...                   ...                ...                  ...      ...   \n",
      "114011              17937               2337  2020-12-16 22:55:04       b1   \n",
      "114026              19159               2359  2020-12-16 22:55:04       b1   \n",
      "114041              19159               2359  2020-12-16 22:55:04       b1   \n",
      "114056              18718               2385  2020-12-16 22:55:04       b1   \n",
      "114071              16783               2385  2020-12-16 22:55:04       b1   \n",
      "\n",
      "       dst_host collection_interval  \n",
      "76061       ftj     1 days 00:00:00  \n",
      "76076       ftj     1 days 00:00:00  \n",
      "76091       ftj     1 days 00:00:00  \n",
      "76106       ftj     1 days 00:00:00  \n",
      "76121       ftj     1 days 00:00:00  \n",
      "...         ...                 ...  \n",
      "114011      ftj     0 days 00:05:00  \n",
      "114026      ftj     0 days 00:05:00  \n",
      "114041      ftj     0 days 00:05:00  \n",
      "114056      ftj     0 days 00:05:00  \n",
      "114071      ftj     0 days 00:05:00  \n",
      "\n",
      "[2535 rows x 9 columns]\n",
      "('b1', 'uci')\n",
      "                 timestamp  incoming_rate_avg  outgoing_rate_avg  \\\n",
      "76064  2018-10-13 00:00:00           12159361            2205962   \n",
      "76079  2018-10-14 00:00:00            2789360            1215914   \n",
      "76094  2018-10-15 00:00:00            3196041             908578   \n",
      "76109  2018-10-16 00:00:00           13860225            2319486   \n",
      "76124  2018-10-17 00:00:00           16197436            2351748   \n",
      "...                    ...                ...                ...   \n",
      "114014 2020-12-16 22:35:00            6019855            1823288   \n",
      "114029 2020-12-16 22:40:00            5578435            5966068   \n",
      "114044 2020-12-16 22:45:00            6114445             911803   \n",
      "114059 2020-12-16 22:50:00            5288186            1016534   \n",
      "114074 2020-12-16 22:50:03            5276947            1018647   \n",
      "\n",
      "        incoming_rate_max  outgoing_rate_max collection_timestamp src_host  \\\n",
      "76064            44923077            9926327  2020-12-16 22:55:04       b1   \n",
      "76079            15862094            5720955  2020-12-16 22:55:04       b1   \n",
      "76094            21997667            7766077  2020-12-16 22:55:04       b1   \n",
      "76109            64040106           11037823  2020-12-16 22:55:04       b1   \n",
      "76124            61378834           16118493  2020-12-16 22:55:04       b1   \n",
      "...                   ...                ...                  ...      ...   \n",
      "114014            6974129            1828482  2020-12-16 22:55:04       b1   \n",
      "114029            6006960            6021982  2020-12-16 22:55:04       b1   \n",
      "114044            6119918            6021982  2020-12-16 22:55:04       b1   \n",
      "114059            6119918            1018647  2020-12-16 22:55:04       b1   \n",
      "114074            5276947            1018647  2020-12-16 22:55:04       b1   \n",
      "\n",
      "       dst_host collection_interval  \n",
      "76064       uci     1 days 00:00:00  \n",
      "76079       uci     1 days 00:00:00  \n",
      "76094       uci     1 days 00:00:00  \n",
      "76109       uci     1 days 00:00:00  \n",
      "76124       uci     1 days 00:00:00  \n",
      "...         ...                 ...  \n",
      "114014      uci     0 days 00:05:00  \n",
      "114029      uci     0 days 00:05:00  \n",
      "114044      uci     0 days 00:05:00  \n",
      "114059      uci     0 days 00:05:00  \n",
      "114074      uci     0 days 00:05:00  \n",
      "\n",
      "[2535 rows x 9 columns]\n",
      "('b1', 'b6')\n",
      "                 timestamp  incoming_rate_avg  outgoing_rate_avg  \\\n",
      "76054  2018-10-13 00:00:00            1159875              58558   \n",
      "76069  2018-10-14 00:00:00            1149933              81540   \n",
      "76084  2018-10-15 00:00:00            1117580              81701   \n",
      "76099  2018-10-16 00:00:00            1148149              55759   \n",
      "76114  2018-10-17 00:00:00            1134815              64204   \n",
      "...                    ...                ...                ...   \n",
      "114004 2020-12-16 22:35:00            1812301              74150   \n",
      "114019 2020-12-16 22:40:00            1825871              79801   \n",
      "114034 2020-12-16 22:45:00            1841312              69178   \n",
      "114049 2020-12-16 22:50:00            1837082              75913   \n",
      "114064 2020-12-16 22:50:03            1837023              76006   \n",
      "\n",
      "        incoming_rate_max  outgoing_rate_max collection_timestamp src_host  \\\n",
      "76054             3726987            1346773  2020-12-16 22:55:04       b1   \n",
      "76069             4479508            2459949  2020-12-16 22:55:04       b1   \n",
      "76084             2652397            2872819  2020-12-16 22:55:04       b1   \n",
      "76099             4673519             796599  2020-12-16 22:55:04       b1   \n",
      "76114             2780186            1867156  2020-12-16 22:55:04       b1   \n",
      "...                   ...                ...                  ...      ...   \n",
      "114004            1827088              74281  2020-12-16 22:55:04       b1   \n",
      "114019            1826058              79876  2020-12-16 22:55:04       b1   \n",
      "114034            1841467              79876  2020-12-16 22:55:04       b1   \n",
      "114049            1841467              76006  2020-12-16 22:55:04       b1   \n",
      "114064            1837023              76006  2020-12-16 22:55:04       b1   \n",
      "\n",
      "       dst_host collection_interval  \n",
      "76054        b6     1 days 00:00:00  \n",
      "76069        b6     1 days 00:00:00  \n",
      "76084        b6     1 days 00:00:00  \n",
      "76099        b6     1 days 00:00:00  \n",
      "76114        b6     1 days 00:00:00  \n",
      "...         ...                 ...  \n",
      "114004       b6     0 days 00:05:00  \n",
      "114019       b6     0 days 00:05:00  \n",
      "114034       b6     0 days 00:05:00  \n",
      "114049       b6     0 days 00:05:00  \n",
      "114064       b6     0 days 00:05:00  \n",
      "\n",
      "[2535 rows x 9 columns]\n"
     ]
    }
   ],
   "source": [
    "for collection in df.collection_timestamp.unique()[:3]:\n",
    "    print(collection)\n",
    "    for con in CONNECTIONS[:3]:\n",
    "        print(con)\n",
    "        print(df.loc[\n",
    "            (df.collection_timestamp == collection) & \\\n",
    "            (df.src_host == con[0]) &\n",
    "            (df.dst_host == con[1])\n",
    "        ])\n"
   ]
  },
  {
   "cell_type": "code",
   "execution_count": 56,
   "metadata": {},
   "outputs": [
    {
     "name": "stdout",
     "output_type": "stream",
     "text": [
      "['b6' 'ftj' 'uci' 'b1']\n",
      "['b1' 'uci' 'ftj' 'cyfronet' 'b6' 'ms']\n"
     ]
    }
   ],
   "source": [
    "print(df.src_host.unique())\n",
    "print(df.dst_host.unique())\n"
   ]
  },
  {
   "cell_type": "markdown",
   "metadata": {},
   "source": [
    "### Wierd code, mostly tests"
   ]
  },
  {
   "cell_type": "code",
   "execution_count": null,
   "metadata": {},
   "outputs": [
    {
     "data": {
      "text/plain": [
       "collection_timestamp         \n",
       "2020-12-13 15:25:03   9810450   2020-12-13 15:20:03\n",
       "                      9810451   2020-12-13 15:20:00\n",
       "                      9810452   2020-12-13 15:15:00\n",
       "                      9810453   2020-12-13 15:10:00\n",
       "                      9810454   2020-12-13 15:05:00\n",
       "                                        ...        \n",
       "2022-05-24 21:55:04   6160045   2020-03-24 00:00:00\n",
       "                      6160046   2020-03-23 00:00:00\n",
       "                      6160047   2020-03-22 00:00:00\n",
       "                      6160048   2020-03-21 00:00:00\n",
       "                      6160049   2020-03-20 00:00:00\n",
       "Name: timestamp, Length: 10304760, dtype: datetime64[ns]"
      ]
     },
     "execution_count": 58,
     "metadata": {},
     "output_type": "execute_result"
    }
   ],
   "source": [
    "df.groupby(df.collection_timestamp, group_keys=True).apply(lambda x: x).timestamp"
   ]
  },
  {
   "cell_type": "code",
   "execution_count": null,
   "metadata": {},
   "outputs": [
    {
     "data": {
      "text/plain": [
       "array([0], dtype='timedelta64[ns]')"
      ]
     },
     "execution_count": 55,
     "metadata": {},
     "output_type": "execute_result"
    }
   ],
   "source": [
    "(df.loc[df.collection_timestamp == \"2020-12-13 15:25:03\"].loc[df.src_host == \"b1\"].loc[df.dst_host == \"uci\"].timestamp.reset_index(drop=True) \\\n",
    "- df.loc[df.collection_timestamp == \"2020-12-13 15:25:03\"].loc[df.src_host == \"b1\"].loc[df.dst_host == \"ftj\"].timestamp.reset_index(drop=True)).unique()"
   ]
  },
  {
   "cell_type": "code",
   "execution_count": null,
   "metadata": {},
   "outputs": [],
   "source": [
    "df[df.collection_timestamp == \"2020-12-13 15:25:03\"].timestamp.to_numpy() - df[df.collection_timestamp == \"2022-05-24 21:55:04\"].timestamp.to_numpy()[:-1]"
   ]
  },
  {
   "cell_type": "code",
   "execution_count": null,
   "metadata": {},
   "outputs": [],
   "source": [
    "plt.plot(df[df.src_host == \"b1rtr\"][df.dst_host == \"uci\"][df.collection_timestamp == df[:1].collection_timestamp.to_numpy()[0]].timestamp[1:], _diff[1:].to_numpy(dtype=np.int64)/(1000000000*60))"
   ]
  },
  {
   "cell_type": "code",
   "execution_count": null,
   "metadata": {},
   "outputs": [],
   "source": [
    "_np_diff = _diff.to_numpy(dtype=np.int64)\n",
    "print(len(_np_diff))\n",
    "linn = np.linspace(0, 1000, num=len(_np_diff))\n",
    "print(len(linn), len(_np_diff))\n",
    "_np_diff.sort()\n",
    "plt.plot(linn, _np_diff)"
   ]
  },
  {
   "cell_type": "code",
   "execution_count": null,
   "metadata": {},
   "outputs": [],
   "source": [
    "first_best_file = files_tree['b6rtr-b1'][0]\n",
    "first_one = '/Users/nick/Dev/magisterka/data/stats/2020-12-15_00/b6rtr-b1.log'\n",
    "middle_one = '/Users/nick/Dev/magisterka/data/stats/2021-06-07_00/b6rtr-b1.log'\n",
    "last_one = '/Users/nick/Dev/magisterka/data/stats/2022-05-25_00/b6rtr-b1.log'\n",
    "\n",
    "headers = [\"timestamp\", \"incoming_rate_avg\", \"outgoing_rate_avg\", \"incoming_rate_max\", \"outgoing_rate_max\"]\n",
    "data_first = pd.read_csv(first_one, sep=\" \", names=headers, skiprows=[0])\n",
    "data_middle = pd.read_csv(middle_one, sep=\" \", names=headers, skiprows=[0])\n",
    "data_last = pd.read_csv(last_one, sep=\" \", names=headers, skiprows=[0])\n",
    "\n",
    "data_first.timestamp = pd.to_datetime(data_first.timestamp, unit=\"s\")\n",
    "data_last.timestamp = pd.to_datetime(data_last.timestamp, unit=\"s\")\n",
    "data_middle.timestamp = pd.to_datetime(data_middle.timestamp, unit=\"s\")"
   ]
  },
  {
   "cell_type": "code",
   "execution_count": null,
   "metadata": {},
   "outputs": [],
   "source": [
    "\n",
    "fig = plt.figure(figsize=(24, 3))\n",
    "plt.plot(data_first.timestamp, data_first.incoming_rate_avg, label=\"2020-12-15_00\")\n",
    "plt.plot(data_middle.timestamp, data_middle.incoming_rate_avg, label=\"2021-06-07_00\")\n",
    "plt.plot(data_last.timestamp, data_last.incoming_rate_avg, label=\"2022-05-25_00\")\n",
    "fig.legend()"
   ]
  },
  {
   "cell_type": "markdown",
   "metadata": {},
   "source": [
    "# Visual\n",
    "* Delta histogram\n",
    "* Delta time series graph\n",
    "* Aggregation level showed with colors \n",
    "* Use 'gggraph' for graph visualization"
   ]
  }
 ],
 "metadata": {
  "kernelspec": {
   "display_name": "Python 3 (ipykernel)",
   "language": "python",
   "name": "python3"
  },
  "language_info": {
   "codemirror_mode": {
    "name": "ipython",
    "version": 3
   },
   "file_extension": ".py",
   "mimetype": "text/x-python",
   "name": "python",
   "nbconvert_exporter": "python",
   "pygments_lexer": "ipython3",
   "version": "3.9.6"
  },
  "orig_nbformat": 4,
  "vscode": {
   "interpreter": {
    "hash": "c94cf9b8d61ef0af6ee19adc2b2bd297d5114e58aac02f9bc6eec7d189283be5"
   }
  }
 },
 "nbformat": 4,
 "nbformat_minor": 2
}
